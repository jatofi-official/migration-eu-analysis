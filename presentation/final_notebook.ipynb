{
 "cells": [
  {
   "cell_type": "markdown",
   "id": "7948553c",
   "metadata": {},
   "source": [
    "# Immigration in Europe"
   ]
  },
  {
   "cell_type": "markdown",
   "id": "ceaec397",
   "metadata": {},
   "source": [
    "### Legend:\n",
    "- h2: each person's contribution\n",
    "- h3: individual work sections"
   ]
  },
  {
   "cell_type": "code",
   "execution_count": 78,
   "id": "af322fd8",
   "metadata": {},
   "outputs": [],
   "source": [
    "# importing libraries\n",
    "import os\n",
    "import pandas as pd\n",
    "import matplotlib.pyplot as plt\n",
    "from IPython.display import Markdown\n",
    "import numpy as np\n",
    "import seaborn as sns\n",
    "\n",
    "import geopandas\n",
    "import plotly.graph_objects as go\n",
    "import plotly.express as px\n",
    "\n",
    "from IPython.display import Markdown"
   ]
  },
  {
   "cell_type": "markdown",
   "id": "188b6569",
   "metadata": {},
   "source": [
    "## Jakub "
   ]
  },
  {
   "cell_type": "markdown",
   "id": "067126cb",
   "metadata": {},
   "source": [
    "### Foregin born residents in country"
   ]
  },
  {
   "cell_type": "code",
   "execution_count": 79,
   "id": "28184217",
   "metadata": {},
   "outputs": [],
   "source": [
    "url = \"https://raw.githubusercontent.com/jatofi-official/migration-eu-analysis/main/Data/Annual_population_eurostat(mandatory).csv\"\n",
    "table = pd.read_csv(url)\n",
    "year_offset = 4"
   ]
  },
  {
   "cell_type": "code",
   "execution_count": 80,
   "id": "143672d4",
   "metadata": {},
   "outputs": [
    {
     "data": {
      "image/png": "[encoded data removed]",
      "text/plain": [
       "<Figure size 640x480 with 1 Axes>"
      ]
     },
     "metadata": {},
     "output_type": "display_data"
    }
   ],
   "source": [
    "def percent_natural_born(country,title):\n",
    "    pop_new = []\n",
    "    country_main = table.query(\"Country =='\"+country+\"' and sex=='T' and citizen == 'TOTAL'\")\n",
    "    country_natural = table.query(\"Country =='\"+country+\"' and sex=='T' and citizen == 'NAT'\")\n",
    "\n",
    "    try:\n",
    "        for i in range(10):\n",
    "            pop_new.append(country_natural.iloc[0,year_offset + i]/country_main.iloc[0,year_offset + i]*100)\n",
    "\n",
    "        dataframe = pd.DataFrame({'year': range(2015,2025,1),\n",
    "                           'percentage': pop_new})\n",
    "\n",
    "        figure, axes = plt.subplots()\n",
    "        axes.plot(dataframe['year'], dataframe['percentage'])\n",
    "\n",
    "        axes.set_xlabel('Year')\n",
    "        axes.set_ylabel('Percentage')\n",
    "        \n",
    "        \n",
    "\n",
    "        y_min = 70\n",
    "        step = 2\n",
    "        \n",
    "        if min(dataframe[\"percentage\"]<y_min):\n",
    "            y_min = 50\n",
    "\n",
    "        axes.set_ylim(y_min)\n",
    "        axes.set_yticks(range(y_min,100+step,step))\n",
    "\n",
    "        axes.set_title(title)\n",
    "        \n",
    "        #Saving figure\n",
    "        # These lines are commented for demonstration purposes\n",
    "\n",
    "        # dir_name = \"../Images/Countries/\"+country\n",
    "        # try:\n",
    "        #     os.makedirs(dir_name)\n",
    "        #     # print(f\"Directory '{dir_name}' created successfully!\")\n",
    "        # except FileExistsError:\n",
    "        #     pass\n",
    "        #     # print(f\"Directory '{dir_name}' already exists.\")\n",
    "        # except Exception as e:\n",
    "        #     pass\n",
    "        #     # print(f\"Error creating directory: {e}\")\n",
    "        \n",
    "        # figure.savefig(dir_name+\"/natural_percent_\"+country.lower()+\".png\")\n",
    "        # plt.close(figure)\n",
    "        pass\n",
    "    except Exception as e:\n",
    "            print(\"Unable to process\",country,\":\",e)\n",
    "\n",
    "# display(table.query(\"Country == 'Malta' and sex=='T'\"))\n",
    "percent_natural_born(\"Malta\",'Percentage of natural born citizens in Malta')\n"
   ]
  },
  {
   "cell_type": "markdown",
   "id": "9d12e7e9",
   "metadata": {},
   "source": [
    "### Getting ratios of people of type over the years\n"
   ]
  },
  {
   "cell_type": "markdown",
   "id": "7de7c3b2",
   "metadata": {},
   "source": [
    "- Result is rounded to 2 decimal places\n",
    "\n",
    "\n",
    "Documentation:\n",
    "- get_ratio_dataframe expects one argument: *citizenship_type*. if left **None**, it will calculate all foreigners.\n",
    "- citizenship_type can be in\n",
    "    - **EU28_FOR**: EU28 countries (2013-2020) except reporting country\n",
    "    - **NEU28_FOR**: Non-EU28 countries (2013-2020) nor reporting country\n",
    "    - **NAT**: Reporting country\n",
    "    - **STLS**: Stateless\n",
    "    - **TOTAL**: Total\n",
    "    - **UNK**: Unknown\n",
    "    "
   ]
  },
  {
   "cell_type": "code",
   "execution_count": 81,
   "id": "940a0563",
   "metadata": {},
   "outputs": [],
   "source": [
    "def get_citizenship_ratio(country,citizenship_type):\n",
    "    try:\n",
    "        foreign_ratios = []\n",
    "        country_main = table.query(\"Country =='\"+country+\"' and sex=='T' and citizen == 'TOTAL'\")\n",
    "        iso3 = country_main.iloc[0,1]\n",
    "\n",
    "        if citizenship_type is not None:\n",
    "            country_foreign = table.query(\"Country =='\"+country+\"' and sex=='T' and citizen == '\"+citizenship_type+\"'\")\n",
    "        \n",
    "            for i in range(10):\n",
    "                foreign_ratios.append((country_foreign.iloc[0,year_offset + i]/country_main.iloc[0,year_offset + i]*100))\n",
    "\n",
    "        #Calculate all foreign residents\n",
    "        else:\n",
    "            country_natural = table.query(\"Country =='\"+country+\"' and sex=='T' and citizen == 'NAT'\")\n",
    "            for i in range(10):\n",
    "                foreign_ratios.append((100-((country_natural.iloc[0,year_offset + i]/country_main.iloc[0,year_offset + i])*100)).round(2))\n",
    "        \n",
    "        years = [str(x+2015) for x in range(10)]\n",
    "\n",
    "        series_data = [iso3] + foreign_ratios\n",
    "        index_labels = ['ISO3'] + years\n",
    "        \n",
    "        return pd.Series(series_data, index=index_labels, name=country)\n",
    "        \n",
    "    except:\n",
    "        # print(\"Error processing country: \",country)\n",
    "        return None\n",
    "    \n",
    "def get_ratio_dataframe(citizenship_type=None):\n",
    "    results = []\n",
    "\n",
    "    for country in table[\"Country\"].unique():\n",
    "        result = get_citizenship_ratio(country,citizenship_type)\n",
    "        if result is not None:\n",
    "            results.append(result.to_dict())\n",
    "\n",
    "    return pd.DataFrame.from_records(results).set_index(\"ISO3\")\n"
   ]
  },
  {
   "cell_type": "markdown",
   "id": "2162ce54",
   "metadata": {},
   "source": [
    "#### Get total amount for type\n"
   ]
  },
  {
   "cell_type": "code",
   "execution_count": 82,
   "id": "cbec9f5f",
   "metadata": {},
   "outputs": [],
   "source": [
    "def get_citizenship_total(country,citizenship_type):\n",
    "    try:\n",
    "        foreign_ratios = []\n",
    "        country_main = table.query(\"Country =='\"+country+\"' and sex=='T' and citizen == 'TOTAL'\")\n",
    "        iso3 = country_main.iloc[0,1]\n",
    "\n",
    "        if citizenship_type is not None:\n",
    "            country_foreign = table.query(\"Country =='\"+country+\"' and sex=='T' and citizen == '\"+citizenship_type+\"'\")\n",
    "        \n",
    "            for i in range(10):\n",
    "                foreign_ratios.append((country_foreign.iloc[0,year_offset + i]))\n",
    "\n",
    "        #Calculate all foreign residents\n",
    "        else:\n",
    "            country_natural = table.query(\"Country =='\"+country+\"' and sex=='T' and citizen == 'NAT'\")\n",
    "            for i in range(10):\n",
    "                foreign_ratios.append((country_main.iloc[0,year_offset + i]-country_natural.iloc[0,year_offset + i]))\n",
    "        \n",
    "        years = [str(x+2015) for x in range(10)]\n",
    "\n",
    "        series_data = [iso3] + foreign_ratios\n",
    "        index_labels = ['ISO3'] + years\n",
    "        \n",
    "        return pd.Series(series_data, index=index_labels, name=country)\n",
    "        \n",
    "    except:\n",
    "        # commented out for presentation purposes\n",
    "        # print(\"Error processing country: \",country)\n",
    "        return None\n",
    "    \n",
    "def get_total_dataframe(citizenship_type=None):\n",
    "    results = []\n",
    "\n",
    "    for country in table[\"Country\"].unique():\n",
    "        result = get_citizenship_total(country,citizenship_type)\n",
    "        if result is not None:\n",
    "            results.append(result.to_dict())\n",
    "\n",
    "    return pd.DataFrame.from_records(results).set_index(\"ISO3\")\n"
   ]
  },
  {
   "cell_type": "markdown",
   "id": "19daf97b",
   "metadata": {},
   "source": [
    "#### Get absolute change for type"
   ]
  },
  {
   "cell_type": "code",
   "execution_count": 83,
   "id": "0c5646b1",
   "metadata": {},
   "outputs": [],
   "source": [
    "def get_change_total(year1,year2,citizenship_type=None):\n",
    "    #gets the original table from get_total_dataframe\n",
    "    original_table = get_total_dataframe(citizenship_type)\n",
    "    # display(original_table.head())\n",
    "\n",
    "    change_dict = dict()\n",
    "\n",
    "    for index,row in original_table.reset_index().iterrows():\n",
    "        # print(type(row))\n",
    "        # print(row[\"ISO3\"],row[str(year2)]-row[str(year1)])\n",
    "        change_dict[row[\"ISO3\"]] = row[str(year2)]-row[str(year1)]\n",
    "\n",
    "    \n",
    "    change_df = pd.DataFrame(list(change_dict.items()), columns=[\"ISO3\", \"Change\"])#I used ChatGPT for this line\n",
    "\n",
    "    change_df.set_index(\"ISO3\", inplace=True)\n",
    "    return change_df\n"
   ]
  },
  {
   "cell_type": "markdown",
   "id": "f98d2abc",
   "metadata": {},
   "source": [
    "### Europe map drawing function"
   ]
  },
  {
   "cell_type": "markdown",
   "id": "d6adf3d1",
   "metadata": {},
   "source": [
    "#### Documentation\n",
    "- draw_choropleth accepts 4 arguments:\n",
    "    - data: data\n",
    "    - column: color of countries\n",
    "    - range = **None**: range of color, set to auto by default\n",
    "    - save_name = **None**: name of destination file, not exporting by default\n",
    "    - color_scheme = **None**: color scheme made out of color names/hex values. *Plasna* by default"
   ]
  },
  {
   "cell_type": "code",
   "execution_count": 84,
   "id": "abfdecae",
   "metadata": {},
   "outputs": [],
   "source": [
    "def draw_choropleth(data, column,range=None,save_name=None,title=\"\",color_scheme=None):\n",
    "  if color_scheme is None:\n",
    "    cmap = \"Plasma\"\n",
    "  else:\n",
    "    cmap = color_scheme\n",
    "    \n",
    "  if range is not None:\n",
    "    fig = px.choropleth(\n",
    "      data, locations=data.index, color=column,\n",
    "      projection = \"azimuthal equidistant\",\n",
    "      range_color=range,\n",
    "      color_continuous_scale=cmap\n",
    "    )\n",
    "  else:\n",
    "      fig = px.choropleth(\n",
    "      data, locations=data.index, color=column,\n",
    "      projection = \"azimuthal equidistant\",\n",
    "      color_continuous_scale=cmap\n",
    "      )\n",
    "\n",
    "  fig.update_geos(lonaxis_range= [-20, 40],lataxis_range= [30, 72])\n",
    "  fig.update_layout(height=500, margin={\"r\":0,\"t\":50,\"l\":0,\"b\":30},\n",
    "                    title={\n",
    "        'text': title,\n",
    "        'y':0.96,  # Position from top (0 to 1)\n",
    "        'x':0.5,    # Center the title\n",
    "        'xanchor': 'center',\n",
    "        'yanchor': 'top',\n",
    "        'font': dict(size=18) })\n",
    "  \n",
    "  \n",
    "  \n",
    "  #I used Deepseek AI to write this code\n",
    "  if save_name:\n",
    "    try:\n",
    "      fig.write_image(f\"../Images/Maps/{save_name}.png\", scale=4)\n",
    "      print(f\"Successfully saved to {save_name}.png\")\n",
    "    except Exception as e:\n",
    "      print(f\"Could not save PNG: {str(e)}\")\n",
    "      print(\"Install kaleido with: pip install -U kaleido\")\n",
    "  else:\n",
    "    fig.show()\n",
    "\n",
    "  "
   ]
  },
  {
   "cell_type": "markdown",
   "id": "21c3ddae",
   "metadata": {},
   "source": [
    "#### Drawing"
   ]
  },
  {
   "cell_type": "code",
   "execution_count": 85,
   "id": "4d9db4ba",
   "metadata": {},
   "outputs": [
    {
     "data": {
      "application/vnd.plotly.v1+json": {
       "config": {
        "plotlyServerURL": "https://plot.ly"
       },
       "data": [
        {
         "coloraxis": "coloraxis",
         "geo": "geo",
         "hovertemplate": "ISO3=%{location}<br>2020=%{z}<extra></extra>",
         "locations": [
          "AUT",
          "BEL",
          "CHE",
          "CYP",
          "CZE",
          "DEU",
          "DNK",
          "EST",
          "ESP",
          "FIN",
          "FRA",
          "HRV",
          "HUN",
          "IRL",
          "ISL",
          "ITA",
          "LIE",
          "LTU",
          "LUX",
          "LVA",
          "MLT",
          "NLD",
          "NOR",
          "POL",
          "PRT",
          "ROU",
          "SWE",
          "SVN",
          "SVK",
          "TUR"
         ],
         "name": "",
         "type": "choropleth",
         "z": {
          "bdata": "ZxE0LRBFIUC2HyDRvFAgQPzFEJxYnjBAx82Zsr/BKkCwAC3qAFQCQKGSfRaObBVAZFakL0ipD0AVtjWZSiT5P//WoVNrAxBALMjf9aZE/T+EXvvxfqgCQISWAJrQDcU/j105zVDF6j8BvYgDakMhQJQjM1ru3CZAEWgvJk0uBECnP3p7LRQyQALdr5HfkKo/tQ+1w47LQ0CY2PBmzBvWP8SguCsKvyJAJDTYxKpWDEAAAAAAAAD4f3kt3YHErrg/+Bb9qXKp+z8pFSP8Qg7VP0OknJTO9whAz7rt4Uxu8D9srdRcMa7xP4wDlt3KoMo/",
          "dtype": "f8"
         }
        }
       ],
       "layout": {
        "coloraxis": {
         "cmax": 30,
         "cmin": 0,
         "colorbar": {
          "title": {
           "text": "2020"
          }
         },
         "colorscale": [
          [
           0,
           "#0d0887"
          ],
          [
           0.1111111111111111,
           "#46039f"
          ],
          [
           0.2222222222222222,
           "#7201a8"
          ],
          [
           0.3333333333333333,
           "#9c179e"
          ],
          [
           0.4444444444444444,
           "#bd3786"
          ],
          [
           0.5555555555555556,
           "#d8576b"
          ],
          [
           0.6666666666666666,
           "#ed7953"
          ],
          [
           0.7777777777777778,
           "#fb9f3a"
          ],
          [
           0.8888888888888888,
           "#fdca26"
          ],
          [
           1,
           "#f0f921"
          ]
         ]
        },
        "geo": {
         "center": {},
         "domain": {
          "x": [
           0,
           1
          ],
          "y": [
           0,
           1
          ]
         },
         "lataxis": {
          "range": [
           30,
           72
          ]
         },
         "lonaxis": {
          "range": [
           -20,
           40
          ]
         },
         "projection": {
          "type": "azimuthal equidistant"
         }
        },
        "height": 500,
        "legend": {
         "tracegroupgap": 0
        },
        "margin": {
         "b": 30,
         "l": 0,
         "r": 0,
         "t": 50
        },
        "template": {
         "data": {
          "bar": [
           {
            "error_x": {
             "color": "#2a3f5f"
            },
            "error_y": {
             "color": "#2a3f5f"
            },
            "marker": {
             "line": {
              "color": "#E5ECF6",
              "width": 0.5
             },
             "pattern": {
              "fillmode": "overlay",
              "size": 10,
              "solidity": 0.2
             }
            },
            "type": "bar"
           }
          ],
          "barpolar": [
           {
            "marker": {
             "line": {
              "color": "#E5ECF6",
              "width": 0.5
             },
             "pattern": {
              "fillmode": "overlay",
              "size": 10,
              "solidity": 0.2
             }
            },
            "type": "barpolar"
           }
          ],
          "carpet": [
           {
            "aaxis": {
             "endlinecolor": "#2a3f5f",
             "gridcolor": "white",
             "linecolor": "white",
             "minorgridcolor": "white",
             "startlinecolor": "#2a3f5f"
            },
            "baxis": {
             "endlinecolor": "#2a3f5f",
             "gridcolor": "white",
             "linecolor": "white",
             "minorgridcolor": "white",
             "startlinecolor": "#2a3f5f"
            },
            "type": "carpet"
           }
          ],
          "choropleth": [
           {
            "colorbar": {
             "outlinewidth": 0,
             "ticks": ""
            },
            "type": "choropleth"
           }
          ],
          "contour": [
           {
            "colorbar": {
             "outlinewidth": 0,
             "ticks": ""
            },
            "colorscale": [
             [
              0,
              "#0d0887"
             ],
             [
              0.1111111111111111,
              "#46039f"
             ],
             [
              0.2222222222222222,
              "#7201a8"
             ],
             [
              0.3333333333333333,
              "#9c179e"
             ],
             [
              0.4444444444444444,
              "#bd3786"
             ],
             [
              0.5555555555555556,
              "#d8576b"
             ],
             [
              0.6666666666666666,
              "#ed7953"
             ],
             [
              0.7777777777777778,
              "#fb9f3a"
             ],
             [
              0.8888888888888888,
              "#fdca26"
             ],
             [
              1,
              "#f0f921"
             ]
            ],
            "type": "contour"
           }
          ],
          "contourcarpet": [
           {
            "colorbar": {
             "outlinewidth": 0,
             "ticks": ""
            },
            "type": "contourcarpet"
           }
          ],
          "heatmap": [
           {
            "colorbar": {
             "outlinewidth": 0,
             "ticks": ""
            },
            "colorscale": [
             [
              0,
              "#0d0887"
             ],
             [
              0.1111111111111111,
              "#46039f"
             ],
             [
              0.2222222222222222,
              "#7201a8"
             ],
             [
              0.3333333333333333,
              "#9c179e"
             ],
             [
              0.4444444444444444,
              "#bd3786"
             ],
             [
              0.5555555555555556,
              "#d8576b"
             ],
             [
              0.6666666666666666,
              "#ed7953"
             ],
             [
              0.7777777777777778,
              "#fb9f3a"
             ],
             [
              0.8888888888888888,
              "#fdca26"
             ],
             [
              1,
              "#f0f921"
             ]
            ],
            "type": "heatmap"
           }
          ],
          "histogram": [
           {
            "marker": {
             "pattern": {
              "fillmode": "overlay",
              "size": 10,
              "solidity": 0.2
             }
            },
            "type": "histogram"
           }
          ],
          "histogram2d": [
           {
            "colorbar": {
             "outlinewidth": 0,
             "ticks": ""
            },
            "colorscale": [
             [
              0,
              "#0d0887"
             ],
             [
              0.1111111111111111,
              "#46039f"
             ],
             [
              0.2222222222222222,
              "#7201a8"
             ],
             [
              0.3333333333333333,
              "#9c179e"
             ],
             [
              0.4444444444444444,
              "#bd3786"
             ],
             [
              0.5555555555555556,
              "#d8576b"
             ],
             [
              0.6666666666666666,
              "#ed7953"
             ],
             [
              0.7777777777777778,
              "#fb9f3a"
             ],
             [
              0.8888888888888888,
              "#fdca26"
             ],
             [
              1,
              "#f0f921"
             ]
            ],
            "type": "histogram2d"
           }
          ],
          "histogram2dcontour": [
           {
            "colorbar": {
             "outlinewidth": 0,
             "ticks": ""
            },
            "colorscale": [
             [
              0,
              "#0d0887"
             ],
             [
              0.1111111111111111,
              "#46039f"
             ],
             [
              0.2222222222222222,
              "#7201a8"
             ],
             [
              0.3333333333333333,
              "#9c179e"
             ],
             [
              0.4444444444444444,
              "#bd3786"
             ],
             [
              0.5555555555555556,
              "#d8576b"
             ],
             [
              0.6666666666666666,
              "#ed7953"
             ],
             [
              0.7777777777777778,
              "#fb9f3a"
             ],
             [
              0.8888888888888888,
              "#fdca26"
             ],
             [
              1,
              "#f0f921"
             ]
            ],
            "type": "histogram2dcontour"
           }
          ],
          "mesh3d": [
           {
            "colorbar": {
             "outlinewidth": 0,
             "ticks": ""
            },
            "type": "mesh3d"
           }
          ],
          "parcoords": [
           {
            "line": {
             "colorbar": {
              "outlinewidth": 0,
              "ticks": ""
             }
            },
            "type": "parcoords"
           }
          ],
          "pie": [
           {
            "automargin": true,
            "type": "pie"
           }
          ],
          "scatter": [
           {
            "fillpattern": {
             "fillmode": "overlay",
             "size": 10,
             "solidity": 0.2
            },
            "type": "scatter"
           }
          ],
          "scatter3d": [
           {
            "line": {
             "colorbar": {
              "outlinewidth": 0,
              "ticks": ""
             }
            },
            "marker": {
             "colorbar": {
              "outlinewidth": 0,
              "ticks": ""
             }
            },
            "type": "scatter3d"
           }
          ],
          "scattercarpet": [
           {
            "marker": {
             "colorbar": {
              "outlinewidth": 0,
              "ticks": ""
             }
            },
            "type": "scattercarpet"
           }
          ],
          "scattergeo": [
           {
            "marker": {
             "colorbar": {
              "outlinewidth": 0,
              "ticks": ""
             }
            },
            "type": "scattergeo"
           }
          ],
          "scattergl": [
           {
            "marker": {
             "colorbar": {
              "outlinewidth": 0,
              "ticks": ""
             }
            },
            "type": "scattergl"
           }
          ],
          "scattermap": [
           {
            "marker": {
             "colorbar": {
              "outlinewidth": 0,
              "ticks": ""
             }
            },
            "type": "scattermap"
           }
          ],
          "scattermapbox": [
           {
            "marker": {
             "colorbar": {
              "outlinewidth": 0,
              "ticks": ""
             }
            },
            "type": "scattermapbox"
           }
          ],
          "scatterpolar": [
           {
            "marker": {
             "colorbar": {
              "outlinewidth": 0,
              "ticks": ""
             }
            },
            "type": "scatterpolar"
           }
          ],
          "scatterpolargl": [
           {
            "marker": {
             "colorbar": {
              "outlinewidth": 0,
              "ticks": ""
             }
            },
            "type": "scatterpolargl"
           }
          ],
          "scatterternary": [
           {
            "marker": {
             "colorbar": {
              "outlinewidth": 0,
              "ticks": ""
             }
            },
            "type": "scatterternary"
           }
          ],
          "surface": [
           {
            "colorbar": {
             "outlinewidth": 0,
             "ticks": ""
            },
            "colorscale": [
             [
              0,
              "#0d0887"
             ],
             [
              0.1111111111111111,
              "#46039f"
             ],
             [
              0.2222222222222222,
              "#7201a8"
             ],
             [
              0.3333333333333333,
              "#9c179e"
             ],
             [
              0.4444444444444444,
              "#bd3786"
             ],
             [
              0.5555555555555556,
              "#d8576b"
             ],
             [
              0.6666666666666666,
              "#ed7953"
             ],
             [
              0.7777777777777778,
              "#fb9f3a"
             ],
             [
              0.8888888888888888,
              "#fdca26"
             ],
             [
              1,
              "#f0f921"
             ]
            ],
            "type": "surface"
           }
          ],
          "table": [
           {
            "cells": {
             "fill": {
              "color": "#EBF0F8"
             },
             "line": {
              "color": "white"
             }
            },
            "header": {
             "fill": {
              "color": "#C8D4E3"
             },
             "line": {
              "color": "white"
             }
            },
            "type": "table"
           }
          ]
         },
         "layout": {
          "annotationdefaults": {
           "arrowcolor": "#2a3f5f",
           "arrowhead": 0,
           "arrowwidth": 1
          },
          "autotypenumbers": "strict",
          "coloraxis": {
           "colorbar": {
            "outlinewidth": 0,
            "ticks": ""
           }
          },
          "colorscale": {
           "diverging": [
            [
             0,
             "#8e0152"
            ],
            [
             0.1,
             "#c51b7d"
            ],
            [
             0.2,
             "#de77ae"
            ],
            [
             0.3,
             "#f1b6da"
            ],
            [
             0.4,
             "#fde0ef"
            ],
            [
             0.5,
             "#f7f7f7"
            ],
            [
             0.6,
             "#e6f5d0"
            ],
            [
             0.7,
             "#b8e186"
            ],
            [
             0.8,
             "#7fbc41"
            ],
            [
             0.9,
             "#4d9221"
            ],
            [
             1,
             "#276419"
            ]
           ],
           "sequential": [
            [
             0,
             "#0d0887"
            ],
            [
             0.1111111111111111,
             "#46039f"
            ],
            [
             0.2222222222222222,
             "#7201a8"
            ],
            [
             0.3333333333333333,
             "#9c179e"
            ],
            [
             0.4444444444444444,
             "#bd3786"
            ],
            [
             0.5555555555555556,
             "#d8576b"
            ],
            [
             0.6666666666666666,
             "#ed7953"
            ],
            [
             0.7777777777777778,
             "#fb9f3a"
            ],
            [
             0.8888888888888888,
             "#fdca26"
            ],
            [
             1,
             "#f0f921"
            ]
           ],
           "sequentialminus": [
            [
             0,
             "#0d0887"
            ],
            [
             0.1111111111111111,
             "#46039f"
            ],
            [
             0.2222222222222222,
             "#7201a8"
            ],
            [
             0.3333333333333333,
             "#9c179e"
            ],
            [
             0.4444444444444444,
             "#bd3786"
            ],
            [
             0.5555555555555556,
             "#d8576b"
            ],
            [
             0.6666666666666666,
             "#ed7953"
            ],
            [
             0.7777777777777778,
             "#fb9f3a"
            ],
            [
             0.8888888888888888,
             "#fdca26"
            ],
            [
             1,
             "#f0f921"
            ]
           ]
          },
          "colorway": [
           "#636efa",
           "#EF553B",
           "#00cc96",
           "#ab63fa",
           "#FFA15A",
           "#19d3f3",
           "#FF6692",
           "#B6E880",
           "#FF97FF",
           "#FECB52"
          ],
          "font": {
           "color": "#2a3f5f"
          },
          "geo": {
           "bgcolor": "white",
           "lakecolor": "white",
           "landcolor": "#E5ECF6",
           "showlakes": true,
           "showland": true,
           "subunitcolor": "white"
          },
          "hoverlabel": {
           "align": "left"
          },
          "hovermode": "closest",
          "mapbox": {
           "style": "light"
          },
          "paper_bgcolor": "white",
          "plot_bgcolor": "#E5ECF6",
          "polar": {
           "angularaxis": {
            "gridcolor": "white",
            "linecolor": "white",
            "ticks": ""
           },
           "bgcolor": "#E5ECF6",
           "radialaxis": {
            "gridcolor": "white",
            "linecolor": "white",
            "ticks": ""
           }
          },
          "scene": {
           "xaxis": {
            "backgroundcolor": "#E5ECF6",
            "gridcolor": "white",
            "gridwidth": 2,
            "linecolor": "white",
            "showbackground": true,
            "ticks": "",
            "zerolinecolor": "white"
           },
           "yaxis": {
            "backgroundcolor": "#E5ECF6",
            "gridcolor": "white",
            "gridwidth": 2,
            "linecolor": "white",
            "showbackground": true,
            "ticks": "",
            "zerolinecolor": "white"
           },
           "zaxis": {
            "backgroundcolor": "#E5ECF6",
            "gridcolor": "white",
            "gridwidth": 2,
            "linecolor": "white",
            "showbackground": true,
            "ticks": "",
            "zerolinecolor": "white"
           }
          },
          "shapedefaults": {
           "line": {
            "color": "#2a3f5f"
           }
          },
          "ternary": {
           "aaxis": {
            "gridcolor": "white",
            "linecolor": "white",
            "ticks": ""
           },
           "baxis": {
            "gridcolor": "white",
            "linecolor": "white",
            "ticks": ""
           },
           "bgcolor": "#E5ECF6",
           "caxis": {
            "gridcolor": "white",
            "linecolor": "white",
            "ticks": ""
           }
          },
          "title": {
           "x": 0.05
          },
          "xaxis": {
           "automargin": true,
           "gridcolor": "white",
           "linecolor": "white",
           "ticks": "",
           "title": {
            "standoff": 15
           },
           "zerolinecolor": "white",
           "zerolinewidth": 2
          },
          "yaxis": {
           "automargin": true,
           "gridcolor": "white",
           "linecolor": "white",
           "ticks": "",
           "title": {
            "standoff": 15
           },
           "zerolinecolor": "white",
           "zerolinewidth": 2
          }
         }
        },
        "title": {
         "font": {
          "size": 18
         },
         "text": "Percentage of immigrants born in EU countries in 2020",
         "x": 0.5,
         "xanchor": "center",
         "y": 0.96,
         "yanchor": "top"
        }
       }
      }
     },
     "metadata": {},
     "output_type": "display_data"
    },
    {
     "data": {
      "application/vnd.plotly.v1+json": {
       "config": {
        "plotlyServerURL": "https://plot.ly"
       },
       "data": [
        {
         "coloraxis": "coloraxis",
         "geo": "geo",
         "hovertemplate": "ISO3=%{location}<br>2020=%{z}<extra></extra>",
         "locations": [
          "AUT",
          "BEL",
          "CHE",
          "CYP",
          "CZE",
          "DEU",
          "DNK",
          "EST",
          "ESP",
          "FIN",
          "FRA",
          "HRV",
          "HUN",
          "IRL",
          "ISL",
          "ITA",
          "LIE",
          "LTU",
          "LUX",
          "LVA",
          "MLT",
          "NLD",
          "NOR",
          "POL",
          "PRT",
          "ROU",
          "SWE",
          "SVN",
          "SVK",
          "TUR"
         ],
         "name": "",
         "type": "choropleth",
         "z": {
          "bdata": "v1QTR+J7H0D09YZ9QD0RQLY8XgDZQiFAl+hve70CE0A6wk7f344JQLDBUFUliBxA3DDu78J4FECEXVKsFegqQNka7anmRBxAeiQEEMS1B0DPuroMXlcVQCzrvn48lNw/AFWB1MyS8z/LvCvK+Z8QQD2lPGcG8gBAOqeBi5u0F0BEciMR+iUwQElX6gszUeU/qsTHkb/MHkANootJ6pcqQHP6mo1muihA2/odJ0RYCEAAAAAAAAD4f3ycqVefEOs/PU4Tf4VMCkBJxIWNjyLZP6gVVT2lxRZAOVOVInS7GUB7g6jJ2xbUP6595SWcH/o/",
          "dtype": "f8"
         }
        }
       ],
       "layout": {
        "coloraxis": {
         "cmax": 15,
         "cmin": 0,
         "colorbar": {
          "title": {
           "text": "2020"
          }
         },
         "colorscale": [
          [
           0,
           "#0d0887"
          ],
          [
           0.1111111111111111,
           "#46039f"
          ],
          [
           0.2222222222222222,
           "#7201a8"
          ],
          [
           0.3333333333333333,
           "#9c179e"
          ],
          [
           0.4444444444444444,
           "#bd3786"
          ],
          [
           0.5555555555555556,
           "#d8576b"
          ],
          [
           0.6666666666666666,
           "#ed7953"
          ],
          [
           0.7777777777777778,
           "#fb9f3a"
          ],
          [
           0.8888888888888888,
           "#fdca26"
          ],
          [
           1,
           "#f0f921"
          ]
         ]
        },
        "geo": {
         "center": {},
         "domain": {
          "x": [
           0,
           1
          ],
          "y": [
           0,
           1
          ]
         },
         "lataxis": {
          "range": [
           30,
           72
          ]
         },
         "lonaxis": {
          "range": [
           -20,
           40
          ]
         },
         "projection": {
          "type": "azimuthal equidistant"
         }
        },
        "height": 500,
        "legend": {
         "tracegroupgap": 0
        },
        "margin": {
         "b": 30,
         "l": 0,
         "r": 0,
         "t": 50
        },
        "template": {
         "data": {
          "bar": [
           {
            "error_x": {
             "color": "#2a3f5f"
            },
            "error_y": {
             "color": "#2a3f5f"
            },
            "marker": {
             "line": {
              "color": "#E5ECF6",
              "width": 0.5
             },
             "pattern": {
              "fillmode": "overlay",
              "size": 10,
              "solidity": 0.2
             }
            },
            "type": "bar"
           }
          ],
          "barpolar": [
           {
            "marker": {
             "line": {
              "color": "#E5ECF6",
              "width": 0.5
             },
             "pattern": {
              "fillmode": "overlay",
              "size": 10,
              "solidity": 0.2
             }
            },
            "type": "barpolar"
           }
          ],
          "carpet": [
           {
            "aaxis": {
             "endlinecolor": "#2a3f5f",
             "gridcolor": "white",
             "linecolor": "white",
             "minorgridcolor": "white",
             "startlinecolor": "#2a3f5f"
            },
            "baxis": {
             "endlinecolor": "#2a3f5f",
             "gridcolor": "white",
             "linecolor": "white",
             "minorgridcolor": "white",
             "startlinecolor": "#2a3f5f"
            },
            "type": "carpet"
           }
          ],
          "choropleth": [
           {
            "colorbar": {
             "outlinewidth": 0,
             "ticks": ""
            },
            "type": "choropleth"
           }
          ],
          "contour": [
           {
            "colorbar": {
             "outlinewidth": 0,
             "ticks": ""
            },
            "colorscale": [
             [
              0,
              "#0d0887"
             ],
             [
              0.1111111111111111,
              "#46039f"
             ],
             [
              0.2222222222222222,
              "#7201a8"
             ],
             [
              0.3333333333333333,
              "#9c179e"
             ],
             [
              0.4444444444444444,
              "#bd3786"
             ],
             [
              0.5555555555555556,
              "#d8576b"
             ],
             [
              0.6666666666666666,
              "#ed7953"
             ],
             [
              0.7777777777777778,
              "#fb9f3a"
             ],
             [
              0.8888888888888888,
              "#fdca26"
             ],
             [
              1,
              "#f0f921"
             ]
            ],
            "type": "contour"
           }
          ],
          "contourcarpet": [
           {
            "colorbar": {
             "outlinewidth": 0,
             "ticks": ""
            },
            "type": "contourcarpet"
           }
          ],
          "heatmap": [
           {
            "colorbar": {
             "outlinewidth": 0,
             "ticks": ""
            },
            "colorscale": [
             [
              0,
              "#0d0887"
             ],
             [
              0.1111111111111111,
              "#46039f"
             ],
             [
              0.2222222222222222,
              "#7201a8"
             ],
             [
              0.3333333333333333,
              "#9c179e"
             ],
             [
              0.4444444444444444,
              "#bd3786"
             ],
             [
              0.5555555555555556,
              "#d8576b"
             ],
             [
              0.6666666666666666,
              "#ed7953"
             ],
             [
              0.7777777777777778,
              "#fb9f3a"
             ],
             [
              0.8888888888888888,
              "#fdca26"
             ],
             [
              1,
              "#f0f921"
             ]
            ],
            "type": "heatmap"
           }
          ],
          "histogram": [
           {
            "marker": {
             "pattern": {
              "fillmode": "overlay",
              "size": 10,
              "solidity": 0.2
             }
            },
            "type": "histogram"
           }
          ],
          "histogram2d": [
           {
            "colorbar": {
             "outlinewidth": 0,
             "ticks": ""
            },
            "colorscale": [
             [
              0,
              "#0d0887"
             ],
             [
              0.1111111111111111,
              "#46039f"
             ],
             [
              0.2222222222222222,
              "#7201a8"
             ],
             [
              0.3333333333333333,
              "#9c179e"
             ],
             [
              0.4444444444444444,
              "#bd3786"
             ],
             [
              0.5555555555555556,
              "#d8576b"
             ],
             [
              0.6666666666666666,
              "#ed7953"
             ],
             [
              0.7777777777777778,
              "#fb9f3a"
             ],
             [
              0.8888888888888888,
              "#fdca26"
             ],
             [
              1,
              "#f0f921"
             ]
            ],
            "type": "histogram2d"
           }
          ],
          "histogram2dcontour": [
           {
            "colorbar": {
             "outlinewidth": 0,
             "ticks": ""
            },
            "colorscale": [
             [
              0,
              "#0d0887"
             ],
             [
              0.1111111111111111,
              "#46039f"
             ],
             [
              0.2222222222222222,
              "#7201a8"
             ],
             [
              0.3333333333333333,
              "#9c179e"
             ],
             [
              0.4444444444444444,
              "#bd3786"
             ],
             [
              0.5555555555555556,
              "#d8576b"
             ],
             [
              0.6666666666666666,
              "#ed7953"
             ],
             [
              0.7777777777777778,
              "#fb9f3a"
             ],
             [
              0.8888888888888888,
              "#fdca26"
             ],
             [
              1,
              "#f0f921"
             ]
            ],
            "type": "histogram2dcontour"
           }
          ],
          "mesh3d": [
           {
            "colorbar": {
             "outlinewidth": 0,
             "ticks": ""
            },
            "type": "mesh3d"
           }
          ],
          "parcoords": [
           {
            "line": {
             "colorbar": {
              "outlinewidth": 0,
              "ticks": ""
             }
            },
            "type": "parcoords"
           }
          ],
          "pie": [
           {
            "automargin": true,
            "type": "pie"
           }
          ],
          "scatter": [
           {
            "fillpattern": {
             "fillmode": "overlay",
             "size": 10,
             "solidity": 0.2
            },
            "type": "scatter"
           }
          ],
          "scatter3d": [
           {
            "line": {
             "colorbar": {
              "outlinewidth": 0,
              "ticks": ""
             }
            },
            "marker": {
             "colorbar": {
              "outlinewidth": 0,
              "ticks": ""
             }
            },
            "type": "scatter3d"
           }
          ],
          "scattercarpet": [
           {
            "marker": {
             "colorbar": {
              "outlinewidth": 0,
              "ticks": ""
             }
            },
            "type": "scattercarpet"
           }
          ],
          "scattergeo": [
           {
            "marker": {
             "colorbar": {
              "outlinewidth": 0,
              "ticks": ""
             }
            },
            "type": "scattergeo"
           }
          ],
          "scattergl": [
           {
            "marker": {
             "colorbar": {
              "outlinewidth": 0,
              "ticks": ""
             }
            },
            "type": "scattergl"
           }
          ],
          "scattermap": [
           {
            "marker": {
             "colorbar": {
              "outlinewidth": 0,
              "ticks": ""
             }
            },
            "type": "scattermap"
           }
          ],
          "scattermapbox": [
           {
            "marker": {
             "colorbar": {
              "outlinewidth": 0,
              "ticks": ""
             }
            },
            "type": "scattermapbox"
           }
          ],
          "scatterpolar": [
           {
            "marker": {
             "colorbar": {
              "outlinewidth": 0,
              "ticks": ""
             }
            },
            "type": "scatterpolar"
           }
          ],
          "scatterpolargl": [
           {
            "marker": {
             "colorbar": {
              "outlinewidth": 0,
              "ticks": ""
             }
            },
            "type": "scatterpolargl"
           }
          ],
          "scatterternary": [
           {
            "marker": {
             "colorbar": {
              "outlinewidth": 0,
              "ticks": ""
             }
            },
            "type": "scatterternary"
           }
          ],
          "surface": [
           {
            "colorbar": {
             "outlinewidth": 0,
             "ticks": ""
            },
            "colorscale": [
             [
              0,
              "#0d0887"
             ],
             [
              0.1111111111111111,
              "#46039f"
             ],
             [
              0.2222222222222222,
              "#7201a8"
             ],
             [
              0.3333333333333333,
              "#9c179e"
             ],
             [
              0.4444444444444444,
              "#bd3786"
             ],
             [
              0.5555555555555556,
              "#d8576b"
             ],
             [
              0.6666666666666666,
              "#ed7953"
             ],
             [
              0.7777777777777778,
              "#fb9f3a"
             ],
             [
              0.8888888888888888,
              "#fdca26"
             ],
             [
              1,
              "#f0f921"
             ]
            ],
            "type": "surface"
           }
          ],
          "table": [
           {
            "cells": {
             "fill": {
              "color": "#EBF0F8"
             },
             "line": {
              "color": "white"
             }
            },
            "header": {
             "fill": {
              "color": "#C8D4E3"
             },
             "line": {
              "color": "white"
             }
            },
            "type": "table"
           }
          ]
         },
         "layout": {
          "annotationdefaults": {
           "arrowcolor": "#2a3f5f",
           "arrowhead": 0,
           "arrowwidth": 1
          },
          "autotypenumbers": "strict",
          "coloraxis": {
           "colorbar": {
            "outlinewidth": 0,
            "ticks": ""
           }
          },
          "colorscale": {
           "diverging": [
            [
             0,
             "#8e0152"
            ],
            [
             0.1,
             "#c51b7d"
            ],
            [
             0.2,
             "#de77ae"
            ],
            [
             0.3,
             "#f1b6da"
            ],
            [
             0.4,
             "#fde0ef"
            ],
            [
             0.5,
             "#f7f7f7"
            ],
            [
             0.6,
             "#e6f5d0"
            ],
            [
             0.7,
             "#b8e186"
            ],
            [
             0.8,
             "#7fbc41"
            ],
            [
             0.9,
             "#4d9221"
            ],
            [
             1,
             "#276419"
            ]
           ],
           "sequential": [
            [
             0,
             "#0d0887"
            ],
            [
             0.1111111111111111,
             "#46039f"
            ],
            [
             0.2222222222222222,
             "#7201a8"
            ],
            [
             0.3333333333333333,
             "#9c179e"
            ],
            [
             0.4444444444444444,
             "#bd3786"
            ],
            [
             0.5555555555555556,
             "#d8576b"
            ],
            [
             0.6666666666666666,
             "#ed7953"
            ],
            [
             0.7777777777777778,
             "#fb9f3a"
            ],
            [
             0.8888888888888888,
             "#fdca26"
            ],
            [
             1,
             "#f0f921"
            ]
           ],
           "sequentialminus": [
            [
             0,
             "#0d0887"
            ],
            [
             0.1111111111111111,
             "#46039f"
            ],
            [
             0.2222222222222222,
             "#7201a8"
            ],
            [
             0.3333333333333333,
             "#9c179e"
            ],
            [
             0.4444444444444444,
             "#bd3786"
            ],
            [
             0.5555555555555556,
             "#d8576b"
            ],
            [
             0.6666666666666666,
             "#ed7953"
            ],
            [
             0.7777777777777778,
             "#fb9f3a"
            ],
            [
             0.8888888888888888,
             "#fdca26"
            ],
            [
             1,
             "#f0f921"
            ]
           ]
          },
          "colorway": [
           "#636efa",
           "#EF553B",
           "#00cc96",
           "#ab63fa",
           "#FFA15A",
           "#19d3f3",
           "#FF6692",
           "#B6E880",
           "#FF97FF",
           "#FECB52"
          ],
          "font": {
           "color": "#2a3f5f"
          },
          "geo": {
           "bgcolor": "white",
           "lakecolor": "white",
           "landcolor": "#E5ECF6",
           "showlakes": true,
           "showland": true,
           "subunitcolor": "white"
          },
          "hoverlabel": {
           "align": "left"
          },
          "hovermode": "closest",
          "mapbox": {
           "style": "light"
          },
          "paper_bgcolor": "white",
          "plot_bgcolor": "#E5ECF6",
          "polar": {
           "angularaxis": {
            "gridcolor": "white",
            "linecolor": "white",
            "ticks": ""
           },
           "bgcolor": "#E5ECF6",
           "radialaxis": {
            "gridcolor": "white",
            "linecolor": "white",
            "ticks": ""
           }
          },
          "scene": {
           "xaxis": {
            "backgroundcolor": "#E5ECF6",
            "gridcolor": "white",
            "gridwidth": 2,
            "linecolor": "white",
            "showbackground": true,
            "ticks": "",
            "zerolinecolor": "white"
           },
           "yaxis": {
            "backgroundcolor": "#E5ECF6",
            "gridcolor": "white",
            "gridwidth": 2,
            "linecolor": "white",
            "showbackground": true,
            "ticks": "",
            "zerolinecolor": "white"
           },
           "zaxis": {
            "backgroundcolor": "#E5ECF6",
            "gridcolor": "white",
            "gridwidth": 2,
            "linecolor": "white",
            "showbackground": true,
            "ticks": "",
            "zerolinecolor": "white"
           }
          },
          "shapedefaults": {
           "line": {
            "color": "#2a3f5f"
           }
          },
          "ternary": {
           "aaxis": {
            "gridcolor": "white",
            "linecolor": "white",
            "ticks": ""
           },
           "baxis": {
            "gridcolor": "white",
            "linecolor": "white",
            "ticks": ""
           },
           "bgcolor": "#E5ECF6",
           "caxis": {
            "gridcolor": "white",
            "linecolor": "white",
            "ticks": ""
           }
          },
          "title": {
           "x": 0.05
          },
          "xaxis": {
           "automargin": true,
           "gridcolor": "white",
           "linecolor": "white",
           "ticks": "",
           "title": {
            "standoff": 15
           },
           "zerolinecolor": "white",
           "zerolinewidth": 2
          },
          "yaxis": {
           "automargin": true,
           "gridcolor": "white",
           "linecolor": "white",
           "ticks": "",
           "title": {
            "standoff": 15
           },
           "zerolinecolor": "white",
           "zerolinewidth": 2
          }
         }
        },
        "title": {
         "font": {
          "size": 18
         },
         "text": "Percentage of non-EU immigrants countries in 2020",
         "x": 0.5,
         "xanchor": "center",
         "y": 0.96,
         "yanchor": "top"
        }
       }
      }
     },
     "metadata": {},
     "output_type": "display_data"
    },
    {
     "data": {
      "application/vnd.plotly.v1+json": {
       "config": {
        "plotlyServerURL": "https://plot.ly"
       },
       "data": [
        {
         "coloraxis": "coloraxis",
         "geo": "geo",
         "hovertemplate": "ISO3=%{location}<br>2020=%{z}<extra></extra>",
         "locations": [
          "AUT",
          "BEL",
          "CHE",
          "CYP",
          "CZE",
          "DEU",
          "DNK",
          "EST",
          "ESP",
          "FIN",
          "FRA",
          "HRV",
          "HUN",
          "IRL",
          "ISL",
          "ITA",
          "LIE",
          "LTU",
          "LUX",
          "LVA",
          "MLT",
          "NLD",
          "NOR",
          "POL",
          "PRT",
          "ROU",
          "SWE",
          "SVN",
          "SVK",
          "TUR"
         ],
         "name": "",
         "type": "choropleth",
         "z": {
          "bdata": "AAAAAKp0J0EAAAAAeq8sQQAAAAC10jVBAAAAABAB/UAAAAAAQOgNQQAAAIAE/lBBAAAAAGghDEEAAAAAwGTUQAAAAACe5zxBAAAAAACt+EAAAAAAJgM4QQAAAAAARrlAAAAAAEDK80AAAAAAfGgaQQAAAABAU+RAAAAAAAn1NkEAAAAAAF27QAAAAAAAyJZAAAAAADBCDkEAAAAAAL65QAAAAABAkOdAAAAAAHDRIkEAAAAAAAD4fwAAAADA3uFAAAAAAIjlBUEAAAAA4AzvQAAAAABQrBNBAAAAAMAE1UAAAAAA4HLtQAAAAADoHQVB",
          "dtype": "f8"
         }
        }
       ],
       "layout": {
        "coloraxis": {
         "cmax": 4500000,
         "cmin": 0,
         "colorbar": {
          "title": {
           "text": "2020"
          }
         },
         "colorscale": [
          [
           0,
           "#0d0887"
          ],
          [
           0.1111111111111111,
           "#46039f"
          ],
          [
           0.2222222222222222,
           "#7201a8"
          ],
          [
           0.3333333333333333,
           "#9c179e"
          ],
          [
           0.4444444444444444,
           "#bd3786"
          ],
          [
           0.5555555555555556,
           "#d8576b"
          ],
          [
           0.6666666666666666,
           "#ed7953"
          ],
          [
           0.7777777777777778,
           "#fb9f3a"
          ],
          [
           0.8888888888888888,
           "#fdca26"
          ],
          [
           1,
           "#f0f921"
          ]
         ]
        },
        "geo": {
         "center": {},
         "domain": {
          "x": [
           0,
           1
          ],
          "y": [
           0,
           1
          ]
         },
         "lataxis": {
          "range": [
           30,
           72
          ]
         },
         "lonaxis": {
          "range": [
           -20,
           40
          ]
         },
         "projection": {
          "type": "azimuthal equidistant"
         }
        },
        "height": 500,
        "legend": {
         "tracegroupgap": 0
        },
        "margin": {
         "b": 30,
         "l": 0,
         "r": 0,
         "t": 50
        },
        "template": {
         "data": {
          "bar": [
           {
            "error_x": {
             "color": "#2a3f5f"
            },
            "error_y": {
             "color": "#2a3f5f"
            },
            "marker": {
             "line": {
              "color": "#E5ECF6",
              "width": 0.5
             },
             "pattern": {
              "fillmode": "overlay",
              "size": 10,
              "solidity": 0.2
             }
            },
            "type": "bar"
           }
          ],
          "barpolar": [
           {
            "marker": {
             "line": {
              "color": "#E5ECF6",
              "width": 0.5
             },
             "pattern": {
              "fillmode": "overlay",
              "size": 10,
              "solidity": 0.2
             }
            },
            "type": "barpolar"
           }
          ],
          "carpet": [
           {
            "aaxis": {
             "endlinecolor": "#2a3f5f",
             "gridcolor": "white",
             "linecolor": "white",
             "minorgridcolor": "white",
             "startlinecolor": "#2a3f5f"
            },
            "baxis": {
             "endlinecolor": "#2a3f5f",
             "gridcolor": "white",
             "linecolor": "white",
             "minorgridcolor": "white",
             "startlinecolor": "#2a3f5f"
            },
            "type": "carpet"
           }
          ],
          "choropleth": [
           {
            "colorbar": {
             "outlinewidth": 0,
             "ticks": ""
            },
            "type": "choropleth"
           }
          ],
          "contour": [
           {
            "colorbar": {
             "outlinewidth": 0,
             "ticks": ""
            },
            "colorscale": [
             [
              0,
              "#0d0887"
             ],
             [
              0.1111111111111111,
              "#46039f"
             ],
             [
              0.2222222222222222,
              "#7201a8"
             ],
             [
              0.3333333333333333,
              "#9c179e"
             ],
             [
              0.4444444444444444,
              "#bd3786"
             ],
             [
              0.5555555555555556,
              "#d8576b"
             ],
             [
              0.6666666666666666,
              "#ed7953"
             ],
             [
              0.7777777777777778,
              "#fb9f3a"
             ],
             [
              0.8888888888888888,
              "#fdca26"
             ],
             [
              1,
              "#f0f921"
             ]
            ],
            "type": "contour"
           }
          ],
          "contourcarpet": [
           {
            "colorbar": {
             "outlinewidth": 0,
             "ticks": ""
            },
            "type": "contourcarpet"
           }
          ],
          "heatmap": [
           {
            "colorbar": {
             "outlinewidth": 0,
             "ticks": ""
            },
            "colorscale": [
             [
              0,
              "#0d0887"
             ],
             [
              0.1111111111111111,
              "#46039f"
             ],
             [
              0.2222222222222222,
              "#7201a8"
             ],
             [
              0.3333333333333333,
              "#9c179e"
             ],
             [
              0.4444444444444444,
              "#bd3786"
             ],
             [
              0.5555555555555556,
              "#d8576b"
             ],
             [
              0.6666666666666666,
              "#ed7953"
             ],
             [
              0.7777777777777778,
              "#fb9f3a"
             ],
             [
              0.8888888888888888,
              "#fdca26"
             ],
             [
              1,
              "#f0f921"
             ]
            ],
            "type": "heatmap"
           }
          ],
          "histogram": [
           {
            "marker": {
             "pattern": {
              "fillmode": "overlay",
              "size": 10,
              "solidity": 0.2
             }
            },
            "type": "histogram"
           }
          ],
          "histogram2d": [
           {
            "colorbar": {
             "outlinewidth": 0,
             "ticks": ""
            },
            "colorscale": [
             [
              0,
              "#0d0887"
             ],
             [
              0.1111111111111111,
              "#46039f"
             ],
             [
              0.2222222222222222,
              "#7201a8"
             ],
             [
              0.3333333333333333,
              "#9c179e"
             ],
             [
              0.4444444444444444,
              "#bd3786"
             ],
             [
              0.5555555555555556,
              "#d8576b"
             ],
             [
              0.6666666666666666,
              "#ed7953"
             ],
             [
              0.7777777777777778,
              "#fb9f3a"
             ],
             [
              0.8888888888888888,
              "#fdca26"
             ],
             [
              1,
              "#f0f921"
             ]
            ],
            "type": "histogram2d"
           }
          ],
          "histogram2dcontour": [
           {
            "colorbar": {
             "outlinewidth": 0,
             "ticks": ""
            },
            "colorscale": [
             [
              0,
              "#0d0887"
             ],
             [
              0.1111111111111111,
              "#46039f"
             ],
             [
              0.2222222222222222,
              "#7201a8"
             ],
             [
              0.3333333333333333,
              "#9c179e"
             ],
             [
              0.4444444444444444,
              "#bd3786"
             ],
             [
              0.5555555555555556,
              "#d8576b"
             ],
             [
              0.6666666666666666,
              "#ed7953"
             ],
             [
              0.7777777777777778,
              "#fb9f3a"
             ],
             [
              0.8888888888888888,
              "#fdca26"
             ],
             [
              1,
              "#f0f921"
             ]
            ],
            "type": "histogram2dcontour"
           }
          ],
          "mesh3d": [
           {
            "colorbar": {
             "outlinewidth": 0,
             "ticks": ""
            },
            "type": "mesh3d"
           }
          ],
          "parcoords": [
           {
            "line": {
             "colorbar": {
              "outlinewidth": 0,
              "ticks": ""
             }
            },
            "type": "parcoords"
           }
          ],
          "pie": [
           {
            "automargin": true,
            "type": "pie"
           }
          ],
          "scatter": [
           {
            "fillpattern": {
             "fillmode": "overlay",
             "size": 10,
             "solidity": 0.2
            },
            "type": "scatter"
           }
          ],
          "scatter3d": [
           {
            "line": {
             "colorbar": {
              "outlinewidth": 0,
              "ticks": ""
             }
            },
            "marker": {
             "colorbar": {
              "outlinewidth": 0,
              "ticks": ""
             }
            },
            "type": "scatter3d"
           }
          ],
          "scattercarpet": [
           {
            "marker": {
             "colorbar": {
              "outlinewidth": 0,
              "ticks": ""
             }
            },
            "type": "scattercarpet"
           }
          ],
          "scattergeo": [
           {
            "marker": {
             "colorbar": {
              "outlinewidth": 0,
              "ticks": ""
             }
            },
            "type": "scattergeo"
           }
          ],
          "scattergl": [
           {
            "marker": {
             "colorbar": {
              "outlinewidth": 0,
              "ticks": ""
             }
            },
            "type": "scattergl"
           }
          ],
          "scattermap": [
           {
            "marker": {
             "colorbar": {
              "outlinewidth": 0,
              "ticks": ""
             }
            },
            "type": "scattermap"
           }
          ],
          "scattermapbox": [
           {
            "marker": {
             "colorbar": {
              "outlinewidth": 0,
              "ticks": ""
             }
            },
            "type": "scattermapbox"
           }
          ],
          "scatterpolar": [
           {
            "marker": {
             "colorbar": {
              "outlinewidth": 0,
              "ticks": ""
             }
            },
            "type": "scatterpolar"
           }
          ],
          "scatterpolargl": [
           {
            "marker": {
             "colorbar": {
              "outlinewidth": 0,
              "ticks": ""
             }
            },
            "type": "scatterpolargl"
           }
          ],
          "scatterternary": [
           {
            "marker": {
             "colorbar": {
              "outlinewidth": 0,
              "ticks": ""
             }
            },
            "type": "scatterternary"
           }
          ],
          "surface": [
           {
            "colorbar": {
             "outlinewidth": 0,
             "ticks": ""
            },
            "colorscale": [
             [
              0,
              "#0d0887"
             ],
             [
              0.1111111111111111,
              "#46039f"
             ],
             [
              0.2222222222222222,
              "#7201a8"
             ],
             [
              0.3333333333333333,
              "#9c179e"
             ],
             [
              0.4444444444444444,
              "#bd3786"
             ],
             [
              0.5555555555555556,
              "#d8576b"
             ],
             [
              0.6666666666666666,
              "#ed7953"
             ],
             [
              0.7777777777777778,
              "#fb9f3a"
             ],
             [
              0.8888888888888888,
              "#fdca26"
             ],
             [
              1,
              "#f0f921"
             ]
            ],
            "type": "surface"
           }
          ],
          "table": [
           {
            "cells": {
             "fill": {
              "color": "#EBF0F8"
             },
             "line": {
              "color": "white"
             }
            },
            "header": {
             "fill": {
              "color": "#C8D4E3"
             },
             "line": {
              "color": "white"
             }
            },
            "type": "table"
           }
          ]
         },
         "layout": {
          "annotationdefaults": {
           "arrowcolor": "#2a3f5f",
           "arrowhead": 0,
           "arrowwidth": 1
          },
          "autotypenumbers": "strict",
          "coloraxis": {
           "colorbar": {
            "outlinewidth": 0,
            "ticks": ""
           }
          },
          "colorscale": {
           "diverging": [
            [
             0,
             "#8e0152"
            ],
            [
             0.1,
             "#c51b7d"
            ],
            [
             0.2,
             "#de77ae"
            ],
            [
             0.3,
             "#f1b6da"
            ],
            [
             0.4,
             "#fde0ef"
            ],
            [
             0.5,
             "#f7f7f7"
            ],
            [
             0.6,
             "#e6f5d0"
            ],
            [
             0.7,
             "#b8e186"
            ],
            [
             0.8,
             "#7fbc41"
            ],
            [
             0.9,
             "#4d9221"
            ],
            [
             1,
             "#276419"
            ]
           ],
           "sequential": [
            [
             0,
             "#0d0887"
            ],
            [
             0.1111111111111111,
             "#46039f"
            ],
            [
             0.2222222222222222,
             "#7201a8"
            ],
            [
             0.3333333333333333,
             "#9c179e"
            ],
            [
             0.4444444444444444,
             "#bd3786"
            ],
            [
             0.5555555555555556,
             "#d8576b"
            ],
            [
             0.6666666666666666,
             "#ed7953"
            ],
            [
             0.7777777777777778,
             "#fb9f3a"
            ],
            [
             0.8888888888888888,
             "#fdca26"
            ],
            [
             1,
             "#f0f921"
            ]
           ],
           "sequentialminus": [
            [
             0,
             "#0d0887"
            ],
            [
             0.1111111111111111,
             "#46039f"
            ],
            [
             0.2222222222222222,
             "#7201a8"
            ],
            [
             0.3333333333333333,
             "#9c179e"
            ],
            [
             0.4444444444444444,
             "#bd3786"
            ],
            [
             0.5555555555555556,
             "#d8576b"
            ],
            [
             0.6666666666666666,
             "#ed7953"
            ],
            [
             0.7777777777777778,
             "#fb9f3a"
            ],
            [
             0.8888888888888888,
             "#fdca26"
            ],
            [
             1,
             "#f0f921"
            ]
           ]
          },
          "colorway": [
           "#636efa",
           "#EF553B",
           "#00cc96",
           "#ab63fa",
           "#FFA15A",
           "#19d3f3",
           "#FF6692",
           "#B6E880",
           "#FF97FF",
           "#FECB52"
          ],
          "font": {
           "color": "#2a3f5f"
          },
          "geo": {
           "bgcolor": "white",
           "lakecolor": "white",
           "landcolor": "#E5ECF6",
           "showlakes": true,
           "showland": true,
           "subunitcolor": "white"
          },
          "hoverlabel": {
           "align": "left"
          },
          "hovermode": "closest",
          "mapbox": {
           "style": "light"
          },
          "paper_bgcolor": "white",
          "plot_bgcolor": "#E5ECF6",
          "polar": {
           "angularaxis": {
            "gridcolor": "white",
            "linecolor": "white",
            "ticks": ""
           },
           "bgcolor": "#E5ECF6",
           "radialaxis": {
            "gridcolor": "white",
            "linecolor": "white",
            "ticks": ""
           }
          },
          "scene": {
           "xaxis": {
            "backgroundcolor": "#E5ECF6",
            "gridcolor": "white",
            "gridwidth": 2,
            "linecolor": "white",
            "showbackground": true,
            "ticks": "",
            "zerolinecolor": "white"
           },
           "yaxis": {
            "backgroundcolor": "#E5ECF6",
            "gridcolor": "white",
            "gridwidth": 2,
            "linecolor": "white",
            "showbackground": true,
            "ticks": "",
            "zerolinecolor": "white"
           },
           "zaxis": {
            "backgroundcolor": "#E5ECF6",
            "gridcolor": "white",
            "gridwidth": 2,
            "linecolor": "white",
            "showbackground": true,
            "ticks": "",
            "zerolinecolor": "white"
           }
          },
          "shapedefaults": {
           "line": {
            "color": "#2a3f5f"
           }
          },
          "ternary": {
           "aaxis": {
            "gridcolor": "white",
            "linecolor": "white",
            "ticks": ""
           },
           "baxis": {
            "gridcolor": "white",
            "linecolor": "white",
            "ticks": ""
           },
           "bgcolor": "#E5ECF6",
           "caxis": {
            "gridcolor": "white",
            "linecolor": "white",
            "ticks": ""
           }
          },
          "title": {
           "x": 0.05
          },
          "xaxis": {
           "automargin": true,
           "gridcolor": "white",
           "linecolor": "white",
           "ticks": "",
           "title": {
            "standoff": 15
           },
           "zerolinecolor": "white",
           "zerolinewidth": 2
          },
          "yaxis": {
           "automargin": true,
           "gridcolor": "white",
           "linecolor": "white",
           "ticks": "",
           "title": {
            "standoff": 15
           },
           "zerolinecolor": "white",
           "zerolinewidth": 2
          }
         }
        },
        "title": {
         "font": {
          "size": 18
         },
         "text": "Total number of immigrants born in EU countries in 2020",
         "x": 0.5,
         "xanchor": "center",
         "y": 0.96,
         "yanchor": "top"
        }
       }
      }
     },
     "metadata": {},
     "output_type": "display_data"
    },
    {
     "data": {
      "application/vnd.plotly.v1+json": {
       "config": {
        "plotlyServerURL": "https://plot.ly"
       },
       "data": [
        {
         "coloraxis": "coloraxis",
         "geo": "geo",
         "hovertemplate": "ISO3=%{location}<br>Change=%{z}<extra></extra>",
         "locations": [
          "AUT",
          "BEL",
          "CHE",
          "CYP",
          "CZE",
          "DEU",
          "DNK",
          "EST",
          "ESP",
          "FIN",
          "FRA",
          "HRV",
          "HUN",
          "IRL",
          "ISL",
          "ITA",
          "LIE",
          "LTU",
          "LUX",
          "LVA",
          "MLT",
          "NLD",
          "NOR",
          "POL",
          "PRT",
          "ROU",
          "SWE",
          "SVN",
          "SVK",
          "TUR"
         ],
         "name": "",
         "type": "choropleth",
         "z": {
          "bdata": "AAAAANg0CEEAAAAAEGj1QAAAAACANfpAAAAAAABOyEAAAAAAwJ/tQAAAAADc3y1BAAAAAED060AAAAAAAJS5QAAAAAAAABDAAAAAAABHxUAAAAAAsCzyQAAAAAAA8H/AAAAAAADgckAAAAAAwJbTQAAAAADAUdVAAAAAAIB5+kAAAAAAAIB8QAAAAAAAwI3AAAAAAIAV2UAAAAAAAOBqwAAAAAAAH91AAAAAABCrBkEAAAAAAAD4fwAAAAAA7LlAAAAAAHBz80AAAAAAABfdQAAAAAAAvdlAAAAAAAAGsUAAAAAAgJrJQAAAAACgquNA",
          "dtype": "f8"
         }
        }
       ],
       "layout": {
        "coloraxis": {
         "cmax": 1000000,
         "cmin": 0,
         "colorbar": {
          "title": {
           "text": "Change"
          }
         },
         "colorscale": [
          [
           0,
           "#0d0887"
          ],
          [
           0.1111111111111111,
           "#46039f"
          ],
          [
           0.2222222222222222,
           "#7201a8"
          ],
          [
           0.3333333333333333,
           "#9c179e"
          ],
          [
           0.4444444444444444,
           "#bd3786"
          ],
          [
           0.5555555555555556,
           "#d8576b"
          ],
          [
           0.6666666666666666,
           "#ed7953"
          ],
          [
           0.7777777777777778,
           "#fb9f3a"
          ],
          [
           0.8888888888888888,
           "#fdca26"
          ],
          [
           1,
           "#f0f921"
          ]
         ]
        },
        "geo": {
         "center": {},
         "domain": {
          "x": [
           0,
           1
          ],
          "y": [
           0,
           1
          ]
         },
         "lataxis": {
          "range": [
           30,
           72
          ]
         },
         "lonaxis": {
          "range": [
           -20,
           40
          ]
         },
         "projection": {
          "type": "azimuthal equidistant"
         }
        },
        "height": 500,
        "legend": {
         "tracegroupgap": 0
        },
        "margin": {
         "b": 30,
         "l": 0,
         "r": 0,
         "t": 50
        },
        "template": {
         "data": {
          "bar": [
           {
            "error_x": {
             "color": "#2a3f5f"
            },
            "error_y": {
             "color": "#2a3f5f"
            },
            "marker": {
             "line": {
              "color": "#E5ECF6",
              "width": 0.5
             },
             "pattern": {
              "fillmode": "overlay",
              "size": 10,
              "solidity": 0.2
             }
            },
            "type": "bar"
           }
          ],
          "barpolar": [
           {
            "marker": {
             "line": {
              "color": "#E5ECF6",
              "width": 0.5
             },
             "pattern": {
              "fillmode": "overlay",
              "size": 10,
              "solidity": 0.2
             }
            },
            "type": "barpolar"
           }
          ],
          "carpet": [
           {
            "aaxis": {
             "endlinecolor": "#2a3f5f",
             "gridcolor": "white",
             "linecolor": "white",
             "minorgridcolor": "white",
             "startlinecolor": "#2a3f5f"
            },
            "baxis": {
             "endlinecolor": "#2a3f5f",
             "gridcolor": "white",
             "linecolor": "white",
             "minorgridcolor": "white",
             "startlinecolor": "#2a3f5f"
            },
            "type": "carpet"
           }
          ],
          "choropleth": [
           {
            "colorbar": {
             "outlinewidth": 0,
             "ticks": ""
            },
            "type": "choropleth"
           }
          ],
          "contour": [
           {
            "colorbar": {
             "outlinewidth": 0,
             "ticks": ""
            },
            "colorscale": [
             [
              0,
              "#0d0887"
             ],
             [
              0.1111111111111111,
              "#46039f"
             ],
             [
              0.2222222222222222,
              "#7201a8"
             ],
             [
              0.3333333333333333,
              "#9c179e"
             ],
             [
              0.4444444444444444,
              "#bd3786"
             ],
             [
              0.5555555555555556,
              "#d8576b"
             ],
             [
              0.6666666666666666,
              "#ed7953"
             ],
             [
              0.7777777777777778,
              "#fb9f3a"
             ],
             [
              0.8888888888888888,
              "#fdca26"
             ],
             [
              1,
              "#f0f921"
             ]
            ],
            "type": "contour"
           }
          ],
          "contourcarpet": [
           {
            "colorbar": {
             "outlinewidth": 0,
             "ticks": ""
            },
            "type": "contourcarpet"
           }
          ],
          "heatmap": [
           {
            "colorbar": {
             "outlinewidth": 0,
             "ticks": ""
            },
            "colorscale": [
             [
              0,
              "#0d0887"
             ],
             [
              0.1111111111111111,
              "#46039f"
             ],
             [
              0.2222222222222222,
              "#7201a8"
             ],
             [
              0.3333333333333333,
              "#9c179e"
             ],
             [
              0.4444444444444444,
              "#bd3786"
             ],
             [
              0.5555555555555556,
              "#d8576b"
             ],
             [
              0.6666666666666666,
              "#ed7953"
             ],
             [
              0.7777777777777778,
              "#fb9f3a"
             ],
             [
              0.8888888888888888,
              "#fdca26"
             ],
             [
              1,
              "#f0f921"
             ]
            ],
            "type": "heatmap"
           }
          ],
          "histogram": [
           {
            "marker": {
             "pattern": {
              "fillmode": "overlay",
              "size": 10,
              "solidity": 0.2
             }
            },
            "type": "histogram"
           }
          ],
          "histogram2d": [
           {
            "colorbar": {
             "outlinewidth": 0,
             "ticks": ""
            },
            "colorscale": [
             [
              0,
              "#0d0887"
             ],
             [
              0.1111111111111111,
              "#46039f"
             ],
             [
              0.2222222222222222,
              "#7201a8"
             ],
             [
              0.3333333333333333,
              "#9c179e"
             ],
             [
              0.4444444444444444,
              "#bd3786"
             ],
             [
              0.5555555555555556,
              "#d8576b"
             ],
             [
              0.6666666666666666,
              "#ed7953"
             ],
             [
              0.7777777777777778,
              "#fb9f3a"
             ],
             [
              0.8888888888888888,
              "#fdca26"
             ],
             [
              1,
              "#f0f921"
             ]
            ],
            "type": "histogram2d"
           }
          ],
          "histogram2dcontour": [
           {
            "colorbar": {
             "outlinewidth": 0,
             "ticks": ""
            },
            "colorscale": [
             [
              0,
              "#0d0887"
             ],
             [
              0.1111111111111111,
              "#46039f"
             ],
             [
              0.2222222222222222,
              "#7201a8"
             ],
             [
              0.3333333333333333,
              "#9c179e"
             ],
             [
              0.4444444444444444,
              "#bd3786"
             ],
             [
              0.5555555555555556,
              "#d8576b"
             ],
             [
              0.6666666666666666,
              "#ed7953"
             ],
             [
              0.7777777777777778,
              "#fb9f3a"
             ],
             [
              0.8888888888888888,
              "#fdca26"
             ],
             [
              1,
              "#f0f921"
             ]
            ],
            "type": "histogram2dcontour"
           }
          ],
          "mesh3d": [
           {
            "colorbar": {
             "outlinewidth": 0,
             "ticks": ""
            },
            "type": "mesh3d"
           }
          ],
          "parcoords": [
           {
            "line": {
             "colorbar": {
              "outlinewidth": 0,
              "ticks": ""
             }
            },
            "type": "parcoords"
           }
          ],
          "pie": [
           {
            "automargin": true,
            "type": "pie"
           }
          ],
          "scatter": [
           {
            "fillpattern": {
             "fillmode": "overlay",
             "size": 10,
             "solidity": 0.2
            },
            "type": "scatter"
           }
          ],
          "scatter3d": [
           {
            "line": {
             "colorbar": {
              "outlinewidth": 0,
              "ticks": ""
             }
            },
            "marker": {
             "colorbar": {
              "outlinewidth": 0,
              "ticks": ""
             }
            },
            "type": "scatter3d"
           }
          ],
          "scattercarpet": [
           {
            "marker": {
             "colorbar": {
              "outlinewidth": 0,
              "ticks": ""
             }
            },
            "type": "scattercarpet"
           }
          ],
          "scattergeo": [
           {
            "marker": {
             "colorbar": {
              "outlinewidth": 0,
              "ticks": ""
             }
            },
            "type": "scattergeo"
           }
          ],
          "scattergl": [
           {
            "marker": {
             "colorbar": {
              "outlinewidth": 0,
              "ticks": ""
             }
            },
            "type": "scattergl"
           }
          ],
          "scattermap": [
           {
            "marker": {
             "colorbar": {
              "outlinewidth": 0,
              "ticks": ""
             }
            },
            "type": "scattermap"
           }
          ],
          "scattermapbox": [
           {
            "marker": {
             "colorbar": {
              "outlinewidth": 0,
              "ticks": ""
             }
            },
            "type": "scattermapbox"
           }
          ],
          "scatterpolar": [
           {
            "marker": {
             "colorbar": {
              "outlinewidth": 0,
              "ticks": ""
             }
            },
            "type": "scatterpolar"
           }
          ],
          "scatterpolargl": [
           {
            "marker": {
             "colorbar": {
              "outlinewidth": 0,
              "ticks": ""
             }
            },
            "type": "scatterpolargl"
           }
          ],
          "scatterternary": [
           {
            "marker": {
             "colorbar": {
              "outlinewidth": 0,
              "ticks": ""
             }
            },
            "type": "scatterternary"
           }
          ],
          "surface": [
           {
            "colorbar": {
             "outlinewidth": 0,
             "ticks": ""
            },
            "colorscale": [
             [
              0,
              "#0d0887"
             ],
             [
              0.1111111111111111,
              "#46039f"
             ],
             [
              0.2222222222222222,
              "#7201a8"
             ],
             [
              0.3333333333333333,
              "#9c179e"
             ],
             [
              0.4444444444444444,
              "#bd3786"
             ],
             [
              0.5555555555555556,
              "#d8576b"
             ],
             [
              0.6666666666666666,
              "#ed7953"
             ],
             [
              0.7777777777777778,
              "#fb9f3a"
             ],
             [
              0.8888888888888888,
              "#fdca26"
             ],
             [
              1,
              "#f0f921"
             ]
            ],
            "type": "surface"
           }
          ],
          "table": [
           {
            "cells": {
             "fill": {
              "color": "#EBF0F8"
             },
             "line": {
              "color": "white"
             }
            },
            "header": {
             "fill": {
              "color": "#C8D4E3"
             },
             "line": {
              "color": "white"
             }
            },
            "type": "table"
           }
          ]
         },
         "layout": {
          "annotationdefaults": {
           "arrowcolor": "#2a3f5f",
           "arrowhead": 0,
           "arrowwidth": 1
          },
          "autotypenumbers": "strict",
          "coloraxis": {
           "colorbar": {
            "outlinewidth": 0,
            "ticks": ""
           }
          },
          "colorscale": {
           "diverging": [
            [
             0,
             "#8e0152"
            ],
            [
             0.1,
             "#c51b7d"
            ],
            [
             0.2,
             "#de77ae"
            ],
            [
             0.3,
             "#f1b6da"
            ],
            [
             0.4,
             "#fde0ef"
            ],
            [
             0.5,
             "#f7f7f7"
            ],
            [
             0.6,
             "#e6f5d0"
            ],
            [
             0.7,
             "#b8e186"
            ],
            [
             0.8,
             "#7fbc41"
            ],
            [
             0.9,
             "#4d9221"
            ],
            [
             1,
             "#276419"
            ]
           ],
           "sequential": [
            [
             0,
             "#0d0887"
            ],
            [
             0.1111111111111111,
             "#46039f"
            ],
            [
             0.2222222222222222,
             "#7201a8"
            ],
            [
             0.3333333333333333,
             "#9c179e"
            ],
            [
             0.4444444444444444,
             "#bd3786"
            ],
            [
             0.5555555555555556,
             "#d8576b"
            ],
            [
             0.6666666666666666,
             "#ed7953"
            ],
            [
             0.7777777777777778,
             "#fb9f3a"
            ],
            [
             0.8888888888888888,
             "#fdca26"
            ],
            [
             1,
             "#f0f921"
            ]
           ],
           "sequentialminus": [
            [
             0,
             "#0d0887"
            ],
            [
             0.1111111111111111,
             "#46039f"
            ],
            [
             0.2222222222222222,
             "#7201a8"
            ],
            [
             0.3333333333333333,
             "#9c179e"
            ],
            [
             0.4444444444444444,
             "#bd3786"
            ],
            [
             0.5555555555555556,
             "#d8576b"
            ],
            [
             0.6666666666666666,
             "#ed7953"
            ],
            [
             0.7777777777777778,
             "#fb9f3a"
            ],
            [
             0.8888888888888888,
             "#fdca26"
            ],
            [
             1,
             "#f0f921"
            ]
           ]
          },
          "colorway": [
           "#636efa",
           "#EF553B",
           "#00cc96",
           "#ab63fa",
           "#FFA15A",
           "#19d3f3",
           "#FF6692",
           "#B6E880",
           "#FF97FF",
           "#FECB52"
          ],
          "font": {
           "color": "#2a3f5f"
          },
          "geo": {
           "bgcolor": "white",
           "lakecolor": "white",
           "landcolor": "#E5ECF6",
           "showlakes": true,
           "showland": true,
           "subunitcolor": "white"
          },
          "hoverlabel": {
           "align": "left"
          },
          "hovermode": "closest",
          "mapbox": {
           "style": "light"
          },
          "paper_bgcolor": "white",
          "plot_bgcolor": "#E5ECF6",
          "polar": {
           "angularaxis": {
            "gridcolor": "white",
            "linecolor": "white",
            "ticks": ""
           },
           "bgcolor": "#E5ECF6",
           "radialaxis": {
            "gridcolor": "white",
            "linecolor": "white",
            "ticks": ""
           }
          },
          "scene": {
           "xaxis": {
            "backgroundcolor": "#E5ECF6",
            "gridcolor": "white",
            "gridwidth": 2,
            "linecolor": "white",
            "showbackground": true,
            "ticks": "",
            "zerolinecolor": "white"
           },
           "yaxis": {
            "backgroundcolor": "#E5ECF6",
            "gridcolor": "white",
            "gridwidth": 2,
            "linecolor": "white",
            "showbackground": true,
            "ticks": "",
            "zerolinecolor": "white"
           },
           "zaxis": {
            "backgroundcolor": "#E5ECF6",
            "gridcolor": "white",
            "gridwidth": 2,
            "linecolor": "white",
            "showbackground": true,
            "ticks": "",
            "zerolinecolor": "white"
           }
          },
          "shapedefaults": {
           "line": {
            "color": "#2a3f5f"
           }
          },
          "ternary": {
           "aaxis": {
            "gridcolor": "white",
            "linecolor": "white",
            "ticks": ""
           },
           "baxis": {
            "gridcolor": "white",
            "linecolor": "white",
            "ticks": ""
           },
           "bgcolor": "#E5ECF6",
           "caxis": {
            "gridcolor": "white",
            "linecolor": "white",
            "ticks": ""
           }
          },
          "title": {
           "x": 0.05
          },
          "xaxis": {
           "automargin": true,
           "gridcolor": "white",
           "linecolor": "white",
           "ticks": "",
           "title": {
            "standoff": 15
           },
           "zerolinecolor": "white",
           "zerolinewidth": 2
          },
          "yaxis": {
           "automargin": true,
           "gridcolor": "white",
           "linecolor": "white",
           "ticks": "",
           "title": {
            "standoff": 15
           },
           "zerolinecolor": "white",
           "zerolinewidth": 2
          }
         }
        },
        "title": {
         "font": {
          "size": 18
         },
         "text": "Change of immigrants from EU countries between 2015 and 2020",
         "x": 0.5,
         "xanchor": "center",
         "y": 0.96,
         "yanchor": "top"
        }
       }
      }
     },
     "metadata": {},
     "output_type": "display_data"
    }
   ],
   "source": [
    "# Percentage of EU born\n",
    "display_countries = get_ratio_dataframe(\"EU28_FOR\")\n",
    "year = 2020\n",
    "title=\"Percentage of immigrants born in EU countries in \"+str(year)\n",
    "draw_choropleth(display_countries, str(year),(0,30),None,title)\n",
    "\n",
    "# Percentage of non-EU born\n",
    "\n",
    "display_countries = get_ratio_dataframe(\"NEU28_FOR\")\n",
    "year = 2020\n",
    "title=\"Percentage of non-EU immigrants countries in \"+str(year)\n",
    "draw_choropleth(display_countries, str(year),(0,15),None,title)\n",
    "\n",
    "display_countries = get_total_dataframe(\"EU28_FOR\")\n",
    "year = 2020\n",
    "title=\"Total number of immigrants born in EU countries in \"+str(year)\n",
    "draw_choropleth(display_countries, str(year),(0,4.5e6),None,title)\n",
    "\n",
    "year1 = 2015\n",
    "year2 = 2020\n",
    "display_countries = get_change_total(year1,year2,\"EU28_FOR\")\n",
    "title=\"Change of immigrants from EU countries between \"+str(year1) +\" and \"+str(year2)\n",
    "\n",
    "draw_choropleth(display_countries, \"Change\",(0,1e6), None,title)\n"
   ]
  },
  {
   "cell_type": "markdown",
   "id": "2f26457f",
   "metadata": {},
   "source": [
    "### District information in Slovakia"
   ]
  },
  {
   "cell_type": "code",
   "execution_count": 86,
   "id": "ad516ced",
   "metadata": {},
   "outputs": [],
   "source": [
    "net_migration_raw = pd.read_csv(\"https://raw.githubusercontent.com/jatofi-official/migration-eu-analysis/main/Data/slovakia/net_migration_districts_sk.csv\")\n",
    "unemployment_migration_raw = pd.read_csv(\"https://raw.githubusercontent.com/jatofi-official/migration-eu-analysis/main/Data/slovakia/unemployment_districts_sk.csv\")\n",
    "monthly_salary_raw = pd.read_csv(\"https://raw.githubusercontent.com/jatofi-official/migration-eu-analysis/main/Data/slovakia/average_montly_salary_districts_sk.csv\")\n",
    "\n",
    "\n",
    "districts_geodata = geopandas.read_file(\"https://raw.githubusercontent.com/jatofi-official/migration-eu-analysis/main/Data/geography/slovak_districts.json\")\n",
    "\n",
    "\n",
    "districts_net_migration = pd.merge(districts_geodata,net_migration_raw,on=\"LAU1_CODE\")\n",
    "districts_unemployment = pd.merge(districts_geodata,unemployment_migration_raw,on=\"LAU1_CODE\")\n",
    "districts_salary = pd.merge(districts_geodata,monthly_salary_raw,on=\"LAU1_CODE\")\n",
    "\n"
   ]
  },
  {
   "cell_type": "markdown",
   "id": "77556816",
   "metadata": {},
   "source": [
    "#### Largest/smallest value in counties"
   ]
  },
  {
   "cell_type": "code",
   "execution_count": 87,
   "id": "9919395f",
   "metadata": {},
   "outputs": [],
   "source": [
    "def district_value_total(table,ascending = True):\n",
    "    data = []\n",
    "    \n",
    "    for index,row in table.iterrows():\n",
    "        name = row[\"NM3\"]\n",
    "        geography = row[\"geometry\"]\n",
    "        total = 0\n",
    "        for year in range(1995,2024,1):\n",
    "            total += row[str(year)]\n",
    "\n",
    "        data.append({\"District\":name,\n",
    "                     \"geometry\":geography,\n",
    "                     \"value\":total})\n",
    "    result_df = geopandas.GeoDataFrame(data)\n",
    "    result_df.sort_values(by=\"value\",ascending=ascending,inplace=True)\n",
    "    # display(result_df.head())\n",
    "    return result_df\n",
    "\n",
    "# district_value_total(districts_net_migration,ascending=False)"
   ]
  },
  {
   "cell_type": "markdown",
   "id": "29962b89",
   "metadata": {},
   "source": [
    "### Slovakia district drawing function"
   ]
  },
  {
   "cell_type": "code",
   "execution_count": 88,
   "id": "31b732af",
   "metadata": {},
   "outputs": [],
   "source": [
    "from matplotlib.colors import Normalize, LinearSegmentedColormap\n",
    "\n",
    "from mpl_toolkits.axes_grid1 import make_axes_locatable\n",
    "\n",
    "def draw_districts(table, target_column, title_label=\"\", colorbar_label=\"Value\",fixed_max_value=None,fixed_min_value=None,filename=\"\",color_scheme = [\"red\", \"lightgray\", \"green\"],biggest_text=\"Biggest net gain\",smallest_text = \"Biggest net loss\"):\n",
    "    fig, ax = plt.subplots(figsize=(8, 6))\n",
    "    \n",
    "    if fixed_max_value is None:\n",
    "        max_value = max([abs(x) for x in table[target_column]])\n",
    "        # print(\"Max value: \",max_value)\n",
    "    else:\n",
    "        max_value = fixed_max_value\n",
    "    \n",
    "\n",
    "    cmap = LinearSegmentedColormap.from_list(\"red_green\", color_scheme)\n",
    "    if fixed_min_value is None:\n",
    "        min_value = -max_value\n",
    "    elif fixed_min_value == \"min\":\n",
    "        min_value = min([x for x in table[target_column]])\n",
    "        # print(min_value)\n",
    "\n",
    "    else:\n",
    "        min_value = fixed_min_value\n",
    "    \n",
    "    norm = Normalize(vmin=min_value,vmax=max_value)\n",
    "\n",
    "    # axes = table.plot(column = target_column,legend=True,cmap=cmap,norm=norm,edgecolor=\"gray\",linewidth=0.3)\n",
    "\n",
    "    table.plot(\n",
    "        column=target_column,\n",
    "        cmap=cmap,\n",
    "        norm=norm,\n",
    "        edgecolor=\"gray\",\n",
    "        linewidth=0.3,\n",
    "        ax=ax,\n",
    "        legend=False\n",
    "    )\n",
    "\n",
    "    # I used ChatGPT to write this paragraph of code\n",
    "    divider = make_axes_locatable(ax)\n",
    "    cax = divider.append_axes(\"right\", size=\"3%\", pad=0.1)\n",
    "    sm = plt.cm.ScalarMappable(cmap=cmap, norm=norm)\n",
    "    sm._A = []\n",
    "    cbar = plt.colorbar(sm, cax=cax)\n",
    "    cbar.ax.tick_params(labelsize=8)\n",
    "    cbar.set_label(colorbar_label, fontsize=10)\n",
    "\n",
    "\n",
    "    ax.set_title(title_label, fontsize=18,  pad=15)\n",
    "    ax.set_axis_off()\n",
    "    for spine in ax.spines.values():\n",
    "        spine.set_visible(True)\n",
    "        spine.set_edgecolor('black')\n",
    "        spine.set_linewidth(1)\n",
    "\n",
    "    #Net gain and loss\n",
    "    gain_table = table.sort_values(str(target_column),ascending=False).head()\n",
    "    \n",
    "    loss_table = table.sort_values(str(target_column),ascending=True).head()\n",
    "\n",
    "    #constant, change here:\n",
    "    n_districts = 5\n",
    "    gain = []\n",
    "    loss = []\n",
    "    \n",
    "    for i in range(n_districts):\n",
    "        gain.append((gain_table.iloc[i,0],float(gain_table.iloc[i,:][str(target_column)])))\n",
    "        loss.append((loss_table.iloc[i,0],float(loss_table.iloc[i,:][str(target_column)])))\n",
    "    \n",
    "    gain_text = rf\"$\\bf { \"\\\\ \".join(biggest_text.split())}$\"+\"\\n\"\n",
    "\n",
    "    for district,value in gain:\n",
    "        gain_text += district + \": \"+ f\"{value:.1f}\" + \"\\n\"\n",
    "    \n",
    "    loss_text = rf\"$\\bf {\"\\\\ \".join(smallest_text.split())}$\"+\"\\n\"\n",
    "    for district,value in loss:\n",
    "        loss_text += district + \": \"+ f\"{value:.1f}\" + \"\\n\"\n",
    "\n",
    "    plt.figtext(0.4, 0.1, gain_text, ha='left', fontsize=9, wrap=False)\n",
    "    plt.figtext(0.6, 0.1, loss_text, ha='left', fontsize=9, wrap=False)\n",
    "\n",
    "    plt.tight_layout()\n",
    "    if filename != \"\":\n",
    "        # os.makedirs(\"../../Images/Slovakia\",exist_ok=True)\n",
    "        plt.savefig(\"../../Images/Slovakia/\"+filename+\".png\")\n",
    "        plt.close()\n",
    "    else:\n",
    "        plt.show()\n",
    "\n",
    "# draw_districts(districts_net_migration, str(2020), title_label=\"District migration in \"+str(2020), colorbar_label=\"Total migration change\",filename=\"\")\n"
   ]
  },
  {
   "cell_type": "markdown",
   "id": "3fdd3ed3",
   "metadata": {},
   "source": [
    "#### Drawing different maps in 2020"
   ]
  },
  {
   "cell_type": "code",
   "execution_count": 89,
   "id": "7445b88c",
   "metadata": {},
   "outputs": [
    {
     "data": {
      "image/png": "[encoded data removed]",
      "text/plain": [
       "<Figure size 800x600 with 2 Axes>"
      ]
     },
     "metadata": {},
     "output_type": "display_data"
    },
    {
     "data": {
      "image/png": "[encoded data removed]",
      "text/plain": [
       "<Figure size 800x600 with 2 Axes>"
      ]
     },
     "metadata": {},
     "output_type": "display_data"
    },
    {
     "data": {
      "image/png": "[encoded data removed]",
      "text/plain": [
       "<Figure size 800x600 with 2 Axes>"
      ]
     },
     "metadata": {},
     "output_type": "display_data"
    }
   ],
   "source": [
    "# migration\n",
    "draw_districts(districts_net_migration, str(2020), title_label=\"District migration in \"+str(2020), \n",
    "               colorbar_label=\"Total migration change\",filename=\"\")\n",
    "\n",
    "# unemployment\n",
    "draw_districts(districts_unemployment, str(2020), title_label=\"Unemployment in \"+str(2020), \n",
    "                colorbar_label=\"Unemployment (%)\",fixed_min_value=0,color_scheme=[\"white\",\"red\"],\n",
    "                biggest_text=\"Largest percentage\",\n",
    "                smallest_text=\"Smallest percentage\",fixed_max_value=35)\n",
    "\n",
    "# monthly salary\n",
    "draw_districts(districts_salary, str(2020), title_label=\"Average monthly nominal salary in \"+str(2020), \n",
    "                colorbar_label=\"Monthly salary (€)\",fixed_min_value=900,color_scheme=[\"white\",\"gold\",\"olive\"],\n",
    "                biggest_text=\"Highest salary\",\n",
    "                smallest_text=\"Lowest salary\")"
   ]
  },
  {
   "cell_type": "markdown",
   "id": "9970c1e1",
   "metadata": {},
   "source": [
    "#### Drawing total change\n"
   ]
  },
  {
   "cell_type": "code",
   "execution_count": 90,
   "id": "29756c56",
   "metadata": {},
   "outputs": [
    {
     "data": {
      "image/png": "[encoded data removed]",
      "text/plain": [
       "<Figure size 800x600 with 2 Axes>"
      ]
     },
     "metadata": {},
     "output_type": "display_data"
    }
   ],
   "source": [
    "#Total change\n",
    "total_table = district_value_total(districts_net_migration,True)\n",
    "# display(total_table.head())\n",
    "draw_districts(total_table,target_column=\"value\",title_label=\"Total district migration from 1995 to 2023\",colorbar_label=\"Total migration change\",filename=\"\")"
   ]
  },
  {
   "cell_type": "markdown",
   "id": "b31fe65e",
   "metadata": {},
   "source": [
    "# Andrej\n"
   ]
  },
  {
   "cell_type": "markdown",
   "id": "c542c183",
   "metadata": {},
   "source": [
    "### Importing tables"
   ]
  },
  {
   "cell_type": "code",
   "execution_count": 91,
   "id": "f5a22692",
   "metadata": {},
   "outputs": [
    {
     "name": "stderr",
     "output_type": "stream",
     "text": [
      "C:\\Users\\adami\\AppData\\Local\\Temp\\ipykernel_3132\\2525204699.py:2: DtypeWarning:\n",
      "\n",
      "Columns (0) have mixed types. Specify dtype option on import or set low_memory=False.\n",
      "\n"
     ]
    },
    {
     "data": {
      "text/html": [
       "<div>\n",
       "<style scoped>\n",
       "    .dataframe tbody tr th:only-of-type {\n",
       "        vertical-align: middle;\n",
       "    }\n",
       "\n",
       "    .dataframe tbody tr th {\n",
       "        vertical-align: top;\n",
       "    }\n",
       "\n",
       "    .dataframe thead th {\n",
       "        text-align: right;\n",
       "    }\n",
       "</style>\n",
       "<table border=\"1\" class=\"dataframe\">\n",
       "  <thead>\n",
       "    <tr style=\"text-align: right;\">\n",
       "      <th></th>\n",
       "      <th>age</th>\n",
       "      <th>agedef</th>\n",
       "      <th>birth_country</th>\n",
       "      <th>sex</th>\n",
       "      <th>Country</th>\n",
       "      <th>ISO3</th>\n",
       "      <th>1998</th>\n",
       "      <th>1999</th>\n",
       "      <th>2000</th>\n",
       "      <th>2001</th>\n",
       "      <th>...</th>\n",
       "      <th>2014</th>\n",
       "      <th>2015</th>\n",
       "      <th>2016</th>\n",
       "      <th>2017</th>\n",
       "      <th>2018</th>\n",
       "      <th>2019</th>\n",
       "      <th>2020</th>\n",
       "      <th>2021</th>\n",
       "      <th>2022</th>\n",
       "      <th>2023</th>\n",
       "    </tr>\n",
       "  </thead>\n",
       "  <tbody>\n",
       "    <tr>\n",
       "      <th>0</th>\n",
       "      <td>TOTAL</td>\n",
       "      <td>COMPLET</td>\n",
       "      <td>FOR_STLS</td>\n",
       "      <td>F</td>\n",
       "      <td>Austria</td>\n",
       "      <td>AUT</td>\n",
       "      <td>28638.0</td>\n",
       "      <td>35797.0</td>\n",
       "      <td>NaN</td>\n",
       "      <td>34825.0</td>\n",
       "      <td>...</td>\n",
       "      <td>48788.0</td>\n",
       "      <td>65441.0</td>\n",
       "      <td>55097.0</td>\n",
       "      <td>48739.0</td>\n",
       "      <td>45444.0</td>\n",
       "      <td>46329.0</td>\n",
       "      <td>42715.0</td>\n",
       "      <td>46214.0</td>\n",
       "      <td>97378.0</td>\n",
       "      <td>64503.0</td>\n",
       "    </tr>\n",
       "    <tr>\n",
       "      <th>1</th>\n",
       "      <td>TOTAL</td>\n",
       "      <td>COMPLET</td>\n",
       "      <td>FOR_STLS</td>\n",
       "      <td>F</td>\n",
       "      <td>Belgium</td>\n",
       "      <td>BEL</td>\n",
       "      <td>29382.0</td>\n",
       "      <td>33021.0</td>\n",
       "      <td>31296.0</td>\n",
       "      <td>39605.0</td>\n",
       "      <td>...</td>\n",
       "      <td>51236.0</td>\n",
       "      <td>56379.0</td>\n",
       "      <td>50222.0</td>\n",
       "      <td>51820.0</td>\n",
       "      <td>55655.0</td>\n",
       "      <td>59833.0</td>\n",
       "      <td>47172.0</td>\n",
       "      <td>55678.0</td>\n",
       "      <td>93814.0</td>\n",
       "      <td>71027.0</td>\n",
       "    </tr>\n",
       "    <tr>\n",
       "      <th>2</th>\n",
       "      <td>TOTAL</td>\n",
       "      <td>COMPLET</td>\n",
       "      <td>FOR_STLS</td>\n",
       "      <td>F</td>\n",
       "      <td>Bulgaria</td>\n",
       "      <td>BGR</td>\n",
       "      <td>NaN</td>\n",
       "      <td>NaN</td>\n",
       "      <td>NaN</td>\n",
       "      <td>NaN</td>\n",
       "      <td>...</td>\n",
       "      <td>7295.0</td>\n",
       "      <td>6276.0</td>\n",
       "      <td>5522.0</td>\n",
       "      <td>5844.0</td>\n",
       "      <td>5960.0</td>\n",
       "      <td>6588.0</td>\n",
       "      <td>6190.0</td>\n",
       "      <td>6852.0</td>\n",
       "      <td>8357.0</td>\n",
       "      <td>18085.0</td>\n",
       "    </tr>\n",
       "    <tr>\n",
       "      <th>3</th>\n",
       "      <td>TOTAL</td>\n",
       "      <td>COMPLET</td>\n",
       "      <td>FOR_STLS</td>\n",
       "      <td>F</td>\n",
       "      <td>Switzerland</td>\n",
       "      <td>CHE</td>\n",
       "      <td>36508.0</td>\n",
       "      <td>NaN</td>\n",
       "      <td>42245.0</td>\n",
       "      <td>NaN</td>\n",
       "      <td>...</td>\n",
       "      <td>62616.0</td>\n",
       "      <td>61336.0</td>\n",
       "      <td>59968.0</td>\n",
       "      <td>57238.0</td>\n",
       "      <td>57673.0</td>\n",
       "      <td>57407.0</td>\n",
       "      <td>53380.0</td>\n",
       "      <td>57705.0</td>\n",
       "      <td>66610.0</td>\n",
       "      <td>117356.0</td>\n",
       "    </tr>\n",
       "    <tr>\n",
       "      <th>4</th>\n",
       "      <td>TOTAL</td>\n",
       "      <td>COMPLET</td>\n",
       "      <td>FOR_STLS</td>\n",
       "      <td>F</td>\n",
       "      <td>Cyprus</td>\n",
       "      <td>CYP</td>\n",
       "      <td>NaN</td>\n",
       "      <td>NaN</td>\n",
       "      <td>NaN</td>\n",
       "      <td>NaN</td>\n",
       "      <td>...</td>\n",
       "      <td>5630.0</td>\n",
       "      <td>7362.0</td>\n",
       "      <td>7437.0</td>\n",
       "      <td>9498.0</td>\n",
       "      <td>10230.0</td>\n",
       "      <td>11953.0</td>\n",
       "      <td>12580.0</td>\n",
       "      <td>11222.0</td>\n",
       "      <td>15632.0</td>\n",
       "      <td>19850.0</td>\n",
       "    </tr>\n",
       "  </tbody>\n",
       "</table>\n",
       "<p>5 rows × 32 columns</p>\n",
       "</div>"
      ],
      "text/plain": [
       "     age   agedef birth_country sex      Country ISO3     1998     1999  \\\n",
       "0  TOTAL  COMPLET      FOR_STLS   F      Austria  AUT  28638.0  35797.0   \n",
       "1  TOTAL  COMPLET      FOR_STLS   F      Belgium  BEL  29382.0  33021.0   \n",
       "2  TOTAL  COMPLET      FOR_STLS   F     Bulgaria  BGR      NaN      NaN   \n",
       "3  TOTAL  COMPLET      FOR_STLS   F  Switzerland  CHE  36508.0      NaN   \n",
       "4  TOTAL  COMPLET      FOR_STLS   F       Cyprus  CYP      NaN      NaN   \n",
       "\n",
       "      2000     2001  ...     2014     2015     2016     2017     2018  \\\n",
       "0      NaN  34825.0  ...  48788.0  65441.0  55097.0  48739.0  45444.0   \n",
       "1  31296.0  39605.0  ...  51236.0  56379.0  50222.0  51820.0  55655.0   \n",
       "2      NaN      NaN  ...   7295.0   6276.0   5522.0   5844.0   5960.0   \n",
       "3  42245.0      NaN  ...  62616.0  61336.0  59968.0  57238.0  57673.0   \n",
       "4      NaN      NaN  ...   5630.0   7362.0   7437.0   9498.0  10230.0   \n",
       "\n",
       "      2019     2020     2021     2022      2023  \n",
       "0  46329.0  42715.0  46214.0  97378.0   64503.0  \n",
       "1  59833.0  47172.0  55678.0  93814.0   71027.0  \n",
       "2   6588.0   6190.0   6852.0   8357.0   18085.0  \n",
       "3  57407.0  53380.0  57705.0  66610.0  117356.0  \n",
       "4  11953.0  12580.0  11222.0  15632.0   19850.0  \n",
       "\n",
       "[5 rows x 32 columns]"
      ]
     },
     "metadata": {},
     "output_type": "display_data"
    },
    {
     "data": {
      "text/html": [
       "<div>\n",
       "<style scoped>\n",
       "    .dataframe tbody tr th:only-of-type {\n",
       "        vertical-align: middle;\n",
       "    }\n",
       "\n",
       "    .dataframe tbody tr th {\n",
       "        vertical-align: top;\n",
       "    }\n",
       "\n",
       "    .dataframe thead th {\n",
       "        text-align: right;\n",
       "    }\n",
       "</style>\n",
       "<table border=\"1\" class=\"dataframe\">\n",
       "  <thead>\n",
       "    <tr style=\"text-align: right;\">\n",
       "      <th></th>\n",
       "      <th>Country</th>\n",
       "      <th>ISO3</th>\n",
       "      <th>citizen</th>\n",
       "      <th>sex</th>\n",
       "      <th>2015</th>\n",
       "      <th>2016</th>\n",
       "      <th>2017</th>\n",
       "      <th>2018</th>\n",
       "      <th>2019</th>\n",
       "      <th>2020</th>\n",
       "      <th>2021</th>\n",
       "      <th>2022</th>\n",
       "      <th>2023</th>\n",
       "      <th>2024</th>\n",
       "    </tr>\n",
       "  </thead>\n",
       "  <tbody>\n",
       "    <tr>\n",
       "      <th>0</th>\n",
       "      <td>Austria</td>\n",
       "      <td>AUT</td>\n",
       "      <td>EU28_FOR</td>\n",
       "      <td>F</td>\n",
       "      <td>288028.0</td>\n",
       "      <td>310759.0</td>\n",
       "      <td>329981.0</td>\n",
       "      <td>348012.0</td>\n",
       "      <td>365125.0</td>\n",
       "      <td>383295.0</td>\n",
       "      <td>NaN</td>\n",
       "      <td>NaN</td>\n",
       "      <td>NaN</td>\n",
       "      <td>NaN</td>\n",
       "    </tr>\n",
       "    <tr>\n",
       "      <th>1</th>\n",
       "      <td>Belgium</td>\n",
       "      <td>BEL</td>\n",
       "      <td>EU28_FOR</td>\n",
       "      <td>F</td>\n",
       "      <td>416232.0</td>\n",
       "      <td>428008.0</td>\n",
       "      <td>434889.0</td>\n",
       "      <td>440355.0</td>\n",
       "      <td>448655.0</td>\n",
       "      <td>457258.0</td>\n",
       "      <td>NaN</td>\n",
       "      <td>NaN</td>\n",
       "      <td>NaN</td>\n",
       "      <td>NaN</td>\n",
       "    </tr>\n",
       "    <tr>\n",
       "      <th>2</th>\n",
       "      <td>Switzerland</td>\n",
       "      <td>CHE</td>\n",
       "      <td>EU28_FOR</td>\n",
       "      <td>F</td>\n",
       "      <td>594052.0</td>\n",
       "      <td>610566.0</td>\n",
       "      <td>622893.0</td>\n",
       "      <td>630371.0</td>\n",
       "      <td>637330.0</td>\n",
       "      <td>645916.0</td>\n",
       "      <td>NaN</td>\n",
       "      <td>NaN</td>\n",
       "      <td>NaN</td>\n",
       "      <td>NaN</td>\n",
       "    </tr>\n",
       "    <tr>\n",
       "      <th>3</th>\n",
       "      <td>Cyprus</td>\n",
       "      <td>CYP</td>\n",
       "      <td>EU28_FOR</td>\n",
       "      <td>F</td>\n",
       "      <td>55730.0</td>\n",
       "      <td>57716.0</td>\n",
       "      <td>57673.0</td>\n",
       "      <td>59787.0</td>\n",
       "      <td>63044.0</td>\n",
       "      <td>62935.0</td>\n",
       "      <td>NaN</td>\n",
       "      <td>NaN</td>\n",
       "      <td>NaN</td>\n",
       "      <td>NaN</td>\n",
       "    </tr>\n",
       "    <tr>\n",
       "      <th>4</th>\n",
       "      <td>Czechia</td>\n",
       "      <td>CZE</td>\n",
       "      <td>EU28_FOR</td>\n",
       "      <td>F</td>\n",
       "      <td>72465.0</td>\n",
       "      <td>76736.0</td>\n",
       "      <td>81670.0</td>\n",
       "      <td>86132.0</td>\n",
       "      <td>91296.0</td>\n",
       "      <td>96186.0</td>\n",
       "      <td>NaN</td>\n",
       "      <td>NaN</td>\n",
       "      <td>NaN</td>\n",
       "      <td>NaN</td>\n",
       "    </tr>\n",
       "  </tbody>\n",
       "</table>\n",
       "</div>"
      ],
      "text/plain": [
       "       Country ISO3   citizen sex      2015      2016      2017      2018  \\\n",
       "0      Austria  AUT  EU28_FOR   F  288028.0  310759.0  329981.0  348012.0   \n",
       "1      Belgium  BEL  EU28_FOR   F  416232.0  428008.0  434889.0  440355.0   \n",
       "2  Switzerland  CHE  EU28_FOR   F  594052.0  610566.0  622893.0  630371.0   \n",
       "3       Cyprus  CYP  EU28_FOR   F   55730.0   57716.0   57673.0   59787.0   \n",
       "4      Czechia  CZE  EU28_FOR   F   72465.0   76736.0   81670.0   86132.0   \n",
       "\n",
       "       2019      2020  2021  2022  2023  2024  \n",
       "0  365125.0  383295.0   NaN   NaN   NaN   NaN  \n",
       "1  448655.0  457258.0   NaN   NaN   NaN   NaN  \n",
       "2  637330.0  645916.0   NaN   NaN   NaN   NaN  \n",
       "3   63044.0   62935.0   NaN   NaN   NaN   NaN  \n",
       "4   91296.0   96186.0   NaN   NaN   NaN   NaN  "
      ]
     },
     "metadata": {},
     "output_type": "display_data"
    }
   ],
   "source": [
    "url2 = \"https://raw.githubusercontent.com/jatofi-official/migration-eu-analysis/main/Data/immigration/immigration_citizenship.csv\"\n",
    "table2 = pd.read_csv(url2)\n",
    "display(table2.head())\n",
    "url1 = \"https://raw.githubusercontent.com/jatofi-official/migration-eu-analysis/main/Data/Annual_population_eurostat(mandatory).csv\"\n",
    "table1 = pd.read_csv(url1)\n",
    "display(table1.head())\n",
    "year_offset = 4"
   ]
  },
  {
   "cell_type": "markdown",
   "id": "369c96ed",
   "metadata": {},
   "source": [
    "### Male and female population in countries "
   ]
  },
  {
   "cell_type": "markdown",
   "id": "7cfd392f",
   "metadata": {},
   "source": [
    "##### Gender ratio in countries"
   ]
  },
  {
   "cell_type": "code",
   "execution_count": 92,
   "id": "f5c8f9e6",
   "metadata": {},
   "outputs": [],
   "source": [
    "def gender_ratio(country):\n",
    "    male_perc = []\n",
    "    female_perc = []\n",
    "\n",
    "    country_male = table1.query(\"Country == '\"+country+\"' and sex == 'M' and citizen == 'TOTAL'\")\n",
    "    country_female = table1.query(\"Country == '\"+country+\"' and sex == 'F' and citizen == 'TOTAL'\")\n",
    "    country_total = table1.query(\"Country == '\"+country+\"' and sex == 'T' and citizen == 'TOTAL'\")\n",
    "\n",
    "    try:\n",
    "        for i in range(10):\n",
    "            male_val = country_male.iloc[0, i+4]\n",
    "            female_val = country_female.iloc[0, i+4]\n",
    "            total_val = country_total.iloc[0, i+4]\n",
    "\n",
    "            if pd.notnull(male_val) and pd.notnull(female_val) and pd.notnull(total_val) and total_val != 0:\n",
    "                ratio1 = (male_val / total_val) * 100\n",
    "                ratio2 = (female_val / total_val) * 100\n",
    "            else:\n",
    "                ratio1 = None\n",
    "                ratio2 = None\n",
    "\n",
    "            male_perc.append(ratio1)\n",
    "            female_perc.append(ratio2)\n",
    "\n",
    "        years = [x for x in range(2015, 2025)]\n",
    "\n",
    "        figure, axes = plt.subplots()\n",
    "        axes.plot(years, male_perc, label=\"Male as % of Total\", color=\"blue\")\n",
    "        axes.plot(years, female_perc, label=\"Female as % of Total\", color=\"red\")\n",
    "        axes.set_xticks(years)\n",
    "\n",
    "        axes.set_xlabel('Year')\n",
    "        axes.set_ylabel('Percentage of population')\n",
    "        axes.set_title('Male-to-Total and Female-to-Total Population Ratio in ' + country)\n",
    "        axes.legend()\n",
    "\n",
    "        dir_name = os.path.join(\"../Images/Countries\", country)\n",
    "        os.makedirs(dir_name, exist_ok=True)\n",
    "\n",
    "        file_path = os.path.join(dir_name, f\"gender_ratio_{country.lower()}.png\")\n",
    "        figure.savefig(file_path)\n",
    "        plt.close(figure)\n",
    "\n",
    "    except Exception as e:\n",
    "        print(f\"Error {country}: {e}\")\n",
    "\n",
    "\n",
    "# generating gender ratio for every possible country from dataset\n",
    "# for country in table1.Country.unique():\n",
    "#    gender_ratio(country)"
   ]
  },
  {
   "cell_type": "markdown",
   "id": "c2bc5db2",
   "metadata": {},
   "source": [
    "##### Gender count in countries"
   ]
  },
  {
   "cell_type": "code",
   "execution_count": 93,
   "id": "9f9cff10",
   "metadata": {},
   "outputs": [],
   "source": [
    "def gender_count(country):\n",
    "    male_pop = []\n",
    "    female_pop = []\n",
    "\n",
    "    country_male = table1.query(\"Country == '\"+country+\"' and sex == 'M' and citizen == 'TOTAL'\")\n",
    "    country_female = table1.query(\"Country == '\"+country+\"' and sex == 'F' and citizen == 'TOTAL'\")\n",
    "\n",
    "    try:\n",
    "        for i in range(10):\n",
    "            male_pop.append(country_male.iloc[0, i+4])\n",
    "            female_pop.append(country_female.iloc[0, i+4])\n",
    "\n",
    "\n",
    "        years = [x for x in range(2015, 2025)]\n",
    "\n",
    "        figure, axes = plt.subplots()\n",
    "        axes.plot(years, male_pop, label=\"Male population\", color=\"blue\")\n",
    "        axes.plot(years, female_pop, label=\"Female population\", color=\"red\")\n",
    "        axes.set_xticks(years)\n",
    "\n",
    "        axes.set_xlabel('Year')\n",
    "        axes.set_ylabel('Population')\n",
    "        axes.set_title('Total male and female population in ' + country)\n",
    "        axes.legend()\n",
    "\n",
    "        dir_name = os.path.join(\"../Images/Countries\", country)\n",
    "        os.makedirs(dir_name, exist_ok=True)\n",
    "\n",
    "        file_path = os.path.join(dir_name, f\"gender_count_{country.lower()}.png\")\n",
    "        figure.savefig(file_path)\n",
    "        plt.close(figure)\n",
    "    except Exception as e:\n",
    "        print(f\"Error {country}: {e}\")\n",
    "\n",
    "# generating gender ratio for every possible country from dataset\n",
    "# for country in table1.Country.unique():\n",
    "#    gender_count(country)"
   ]
  },
  {
   "cell_type": "markdown",
   "id": "25e2aae6",
   "metadata": {},
   "source": [
    "##### Total and native citizens"
   ]
  },
  {
   "cell_type": "code",
   "execution_count": 94,
   "id": "33646e65",
   "metadata": {},
   "outputs": [],
   "source": [
    "def total_count(country):\n",
    "    try:\n",
    "        male_total_data = table1.query(\"Country == '\"+country+\"' and sex == 'M' and citizen == 'TOTAL'\")\n",
    "        male_nat_data = table1.query(\"Country == '\"+country+\"' and sex == 'M' and citizen == 'NAT'\")\n",
    "        female_total_data = table1.query(\"Country == '\"+country+\"' and sex == 'F' and citizen == 'TOTAL'\")\n",
    "        female_nat_data = table1.query(\"Country == '\"+country+\"' and sex == 'F' and citizen == 'NAT'\")\n",
    "\n",
    "        if (male_total_data.empty or male_nat_data.empty or\n",
    "            female_total_data.empty or female_nat_data.empty):\n",
    "            print(f\"Skipping {country}: Missing data for one or more categories\")\n",
    "            return\n",
    "\n",
    "        male_total = []\n",
    "        male_nat = []\n",
    "        female_total = []\n",
    "        female_nat = []\n",
    "\n",
    "        try:\n",
    "            maleN_diff = male_nat_data.iloc[0,-1] - male_nat_data.iloc[0,4]\n",
    "            femaleN_diff = female_nat_data.iloc[0,-1] - female_nat_data.iloc[0,4]\n",
    "            maleT_diff = male_total_data.iloc[0,-1] - male_total_data.iloc[0,4]\n",
    "            femaleT_diff = female_total_data.iloc[0,-1] - female_total_data.iloc[0,4]\n",
    "        except IndexError:\n",
    "            print(f\"Skipping {country}: Data format doesn't match expectations\")\n",
    "            return\n",
    "\n",
    "        for i in range(10):\n",
    "            try:\n",
    "                male_total.append(male_total_data.iloc[0, i+4])\n",
    "                male_nat.append(male_nat_data.iloc[0, i+4])\n",
    "                female_total.append(female_total_data.iloc[0, i+4])\n",
    "                female_nat.append(female_nat_data.iloc[0, i+4])\n",
    "            except IndexError:\n",
    "                print(f\"Skipping {country}: Not enough data columns (expected at least {i+5} columns)\")\n",
    "                return\n",
    "\n",
    "        x = np.arange(10)\n",
    "        width = 0.2\n",
    "        years = [x for x in range(2015, 2025)]\n",
    "        fig, ax = plt.subplots(figsize=(12, 7))\n",
    "        ax.bar(x - width*1.5, male_total, width, label='Male Total', color='skyblue')\n",
    "        ax.bar(x - width*0.5, male_nat, width, label='Male Native', color='blue')\n",
    "        ax.bar(x + width*0.5, female_total, width, label='Female Total', color='lightcoral')\n",
    "        ax.bar(x + width*1.5, female_nat, width, label='Female Native', color='red')\n",
    "\n",
    "        ax.set_xlabel('Year')\n",
    "        ax.set_ylabel('Population')\n",
    "        ax.set_title(f'Population by Gender and Citizenship Status in {country}')\n",
    "        ax.set_xticks(x)\n",
    "        ax.set_xticklabels(years)\n",
    "\n",
    "        ax.legend(loc='center left', bbox_to_anchor=(1, 0.5))\n",
    "\n",
    "        stats_text = (\n",
    "            f\"Change in native male: {int(maleN_diff)} | \"\n",
    "            f\"Change in native female: {int(femaleN_diff)} | \"\n",
    "            f\"Change in total male: {int(maleT_diff)} | \"\n",
    "            f\"Change in total female: {int(femaleT_diff)}\"\n",
    "        )\n",
    "\n",
    "        fig.text(0.5, -0.1, stats_text, ha='center', fontsize=12, wrap=True)\n",
    "        plt.subplots_adjust(bottom=0.05)\n",
    "\n",
    "        dir_name = os.path.join(\"../Images/Countries\", country)\n",
    "        os.makedirs(dir_name, exist_ok=True)\n",
    "\n",
    "        file_path = os.path.join(dir_name, f\"natives_and_total_count_{country.lower()}.png\")\n",
    "        fig.savefig(f'{file_path}', bbox_inches='tight')\n",
    "        plt.close(fig)\n",
    "\n",
    "    except Exception as e:\n",
    "        print(f\"Error processing {country}: {str(e)}\")\n",
    "\n",
    "# generating total and native citizen counts for every possible country from dataset\n",
    "# for country in table1.Country.unique():\n",
    "#    total_count(country)"
   ]
  },
  {
   "cell_type": "markdown",
   "id": "16d5db0c",
   "metadata": {},
   "source": [
    "##### Male-Female immigration ratio -  pie chart"
   ]
  },
  {
   "cell_type": "code",
   "execution_count": 95,
   "id": "fb17664e",
   "metadata": {},
   "outputs": [],
   "source": [
    "def gender_comparison_pie_chart(country):\n",
    "    df = table2.copy()\n",
    "\n",
    "    df = df[(df['birth_country'] == 'FOR_STLS') &\n",
    "            (df[\"agedef\"] == \"REACH\") &\n",
    "            (df['Country'] == country)& \n",
    "            (df[\"age\"]==\"TOTAL\")] \n",
    "    \n",
    "\n",
    "    years = [str(year) for year in range(1998, 2024)]\n",
    "\n",
    "    for year in years:\n",
    "        df[year] = pd.to_numeric(df[year], errors='coerce')\n",
    "\n",
    "    female_total = df[df['sex'] == 'F'][years].sum().sum()\n",
    "    male_total = df[df['sex'] == 'M'][years].sum().sum()\n",
    "\n",
    "    if female_total == 0 and male_total == 0:\n",
    "        print(f\"No data found for {country} in period 1998-2023\")\n",
    "        return\n",
    "\n",
    "    plt.figure(figsize=(8, 8))\n",
    "    plt.pie([female_total, male_total],\n",
    "            labels=['Women', 'Men'],\n",
    "            autopct='%1.1f%%',\n",
    "            colors=['lightcoral', 'lightblue'],\n",
    "            startangle=90)\n",
    "\n",
    "    plt.title(f'Gender Distribution of Immigrants to {country} (1998-2023)')\n",
    "\n",
    "    stats_text = (\n",
    "        f\"Total immigrants to {country} (1998-2023):\\n\"\n",
    "        f\"Women: {female_total:,.0f}\\n\"\n",
    "        f\"Men: {male_total:,.0f}\\n\"\n",
    "        f\"Total: {female_total + male_total:,.0f}\"\n",
    "    )\n",
    "\n",
    "    plt.figtext(0.5, 0.05, stats_text, ha='center', fontsize=12, wrap=True)\n",
    "    plt.tight_layout(pad=3, h_pad=2, w_pad=2)\n",
    "    dir_name = os.path.join(\"../Images/Countries\", country)\n",
    "    os.makedirs(dir_name, exist_ok=True)\n",
    "\n",
    "    file_path = os.path.join(dir_name, f\"gender_ratio_immigration_{country.lower()}.png\")\n",
    "    # plt.savefig(file_path, bbox_inches='tight')\n",
    "    plt.close()\n",
    "\n",
    "# generating graphs for countries\n",
    "\n",
    "# for country in table2['Country'].unique():\n",
    "#     gender_comparison_pie_chart(country)\n"
   ]
  },
  {
   "cell_type": "markdown",
   "id": "ecedfcfd",
   "metadata": {},
   "source": [
    "#### Bargraph and Linegraph of immigrants by age group"
   ]
  },
  {
   "cell_type": "markdown",
   "id": "f9c434c0",
   "metadata": {},
   "source": [
    "##### Bargraph"
   ]
  },
  {
   "cell_type": "code",
   "execution_count": 96,
   "id": "2d80c175",
   "metadata": {},
   "outputs": [],
   "source": [
    "def country_immigration(country):\n",
    "    df = table2.copy()\n",
    "    df = df[(df['birth_country'] == 'TOTAL') & (df[\"agedef\"] == \"REACH\")]\n",
    "    df['age'] = pd.to_numeric(df['age'], errors='coerce')\n",
    "    df = df.dropna(subset=['age'])\n",
    "\n",
    "    country_data = df[df['Country'] == country]\n",
    "    # display(country_data)\n",
    "    try:\n",
    "        age15 = country_data[(country_data['age'] <= 15) & (country_data['sex'] == 'T')]\n",
    "        age26 = country_data[(country_data['age'] >= 16) & (country_data['age'] <= 26) & (country_data['sex'] == 'T')]\n",
    "        age65 = country_data[(country_data['age'] >= 27) & (country_data['age'] <= 65) & (country_data['sex'] == 'T')]\n",
    "        age100 = country_data[(country_data['age'] >= 66) & (country_data['sex'] == 'T')]\n",
    "\n",
    "\n",
    "        if len(age15) == 0:\n",
    "            print(f\"No data found for {country} in 0-15 age category\")\n",
    "            return\n",
    "        elif len(age26) == 0:\n",
    "            print(f\"No data found for {country} in 16-26 age category\")\n",
    "            return\n",
    "        elif len(age65) == 0:\n",
    "            print(f\"No data found for {country} in 27-65 age category\")\n",
    "            return\n",
    "        elif len(age100) == 0:\n",
    "            print(f\"No data found for {country} in 66+ age category\")\n",
    "            return\n",
    "\n",
    "        years = list(range(1998, 2024))\n",
    "        year_columns = [str(year) for year in years]\n",
    "\n",
    "        values15 = []\n",
    "        values26 = []\n",
    "        values65 = []\n",
    "        values100 = []\n",
    "        total15 = 0\n",
    "        total26 = 0\n",
    "        total65 = 0\n",
    "        total100 = 0\n",
    "        \n",
    "        for year in year_columns:\n",
    "            #0-15\n",
    "            val15 = 0\n",
    "            if year in age15.columns:\n",
    "                for value in age15[year]:\n",
    "                    try:\n",
    "                        val15 += int(value)\n",
    "                    except:\n",
    "                        pass\n",
    "            \n",
    "            values15.append(val15)\n",
    "            total15 += val15\n",
    "\n",
    "            #16-26\n",
    "            val26 = 0\n",
    "            if year in age26.columns:\n",
    "                for value in age26[year]:\n",
    "                    try:\n",
    "                        val26 += int(value)\n",
    "                    except:\n",
    "                        pass\n",
    "            \n",
    "            values26.append(val26)\n",
    "            total26 += val26\n",
    "\n",
    "            #26-65\n",
    "            val65 = 0\n",
    "            if year in age65.columns:\n",
    "                for value in age65[year]:\n",
    "                    try:\n",
    "                        val65 += int(value)\n",
    "                    except:\n",
    "                        pass\n",
    "            \n",
    "            values65.append(val65)\n",
    "            total65 += val65\n",
    "\n",
    "            #66+\n",
    "\n",
    "            val100 = 0\n",
    "            if year in age100.columns:\n",
    "                for value in age100[year]:\n",
    "                    try:\n",
    "                        val100 += int(value)\n",
    "                    except:\n",
    "                        pass\n",
    "            \n",
    "            values100.append(val100)\n",
    "            total100 += val100\n",
    "\n",
    "\n",
    "        global max_min_tracker\n",
    "        max_min_tracker['0-15'].update_max_min(country, total15)\n",
    "        max_min_tracker['16-26'].update_max_min(country, total26)\n",
    "        max_min_tracker['27-65'].update_max_min(country, total65)\n",
    "        max_min_tracker['66+'].update_max_min(country, total100)\n",
    "\n",
    "        stats_text = (\n",
    "            f\"Total immigration by age group in {country}: 0-15: {int(total15):,.0f} | 16-26: {int(total26):,.0f} | 27-65: {int(total65):,.0f} | 66+: {int(total100):,.0f}\"\n",
    "        )\n",
    "\n",
    "        fig, ax = plt.subplots(figsize=(16, 10))\n",
    "        plt.subplots_adjust(bottom=0.35)\n",
    "        bar_width = 0.2\n",
    "\n",
    "        r1 = np.arange(len(years))\n",
    "        r2 = [x + bar_width for x in r1]\n",
    "        r3 = [x + bar_width for x in r2]\n",
    "        r4 = [x + bar_width for x in r3]\n",
    "\n",
    "        ax.bar(r1, values15, width=bar_width, label=\"0-15 years\", color=\"green\")\n",
    "        ax.bar(r2, values26, width=bar_width, label=\"16-26 years\", color=\"blue\")\n",
    "        ax.bar(r3, values65, width=bar_width, label=\"27-65 years\", color=\"red\")\n",
    "        ax.bar(r4, values100, width=bar_width, label=\"66+ years\", color=\"orange\")\n",
    "\n",
    "        ax.set_ylabel('Number of Immigrants')\n",
    "        ax.set_title(f'Immigration to {country} by Age Group (1998-2023)')\n",
    "        ax.set_xticks([r + bar_width*1.5 for r in range(len(years))])\n",
    "        ax.set_xticklabels(years, rotation=45)\n",
    "        ax.legend()\n",
    "        ax.grid(axis='y', linestyle='--', alpha=0.7)\n",
    "\n",
    "        plt.figtext(0.5, 0.01, stats_text, ha='center', fontsize=12, wrap=True)\n",
    "        plt.tight_layout(pad=3, h_pad=2, w_pad=2)\n",
    "\n",
    "        dir_name = os.path.join(\"../Images/Countries\", country)\n",
    "        os.makedirs(dir_name, exist_ok=True)\n",
    "\n",
    "        file_path = os.path.join(dir_name, f\"age_groups_immigration_{country.lower()}.png\")\n",
    "        plt.savefig(file_path, bbox_inches='tight')\n",
    "        plt.close()\n",
    "\n",
    "        \n",
    "\n",
    "\n",
    "    except Exception as e:\n",
    "        print(f\"Error processing {country}: {str(e)}\")\n",
    "\n",
    "\n",
    "\n",
    "class MaxMinTracker:\n",
    "    def __init__(self):\n",
    "        self.max_country = \"\"\n",
    "        self.max_value = 0\n",
    "        self.min_country = \"\"\n",
    "        self.min_value = float('inf')\n",
    "\n",
    "    def update_max_min(self, country, value):\n",
    "        if value > self.max_value:\n",
    "            self.max_value = value\n",
    "            self.max_country = country\n",
    "        if value < self.min_value:\n",
    "            self.min_value = value\n",
    "            self.min_country = country\n",
    "\n",
    "max_min_tracker = {\n",
    "    '0-15': MaxMinTracker(),\n",
    "    '16-26': MaxMinTracker(),\n",
    "    '27-65': MaxMinTracker(),\n",
    "    '66+': MaxMinTracker()\n",
    "}\n",
    "# generating graphs for countries\n",
    "\n",
    "# for country in table2['Country'].unique():\n",
    "#    country_immigration(country)\n",
    "\n",
    "country_immigration(\"Germany\")\n",
    "\n",
    "# print(\"\\nCountries with most and least immigrants by age group (1998-2023):\")\n",
    "# for age_group, tracker in max_min_tracker.items():\n",
    "#     print(f\"{age_group} years: Most - {tracker.max_country} ({int(tracker.max_value)}), \"\n",
    "#           f\"Least - {tracker.min_country} ({int(tracker.min_value)})\")"
   ]
  },
  {
   "cell_type": "markdown",
   "id": "022caed6",
   "metadata": {},
   "source": [
    "##### Linegraph"
   ]
  },
  {
   "cell_type": "code",
   "execution_count": 97,
   "id": "185f4c20",
   "metadata": {},
   "outputs": [],
   "source": [
    "def country_immigration_linegraph(country):\n",
    "    df = table2.copy()\n",
    "    df = df[(df['birth_country'] == 'TOTAL') & (df[\"agedef\"] == \"REACH\")]\n",
    "    df['age'] = pd.to_numeric(df['age'], errors='coerce')\n",
    "    df = df.dropna(subset=['age'])\n",
    "\n",
    "    country_data = df[df['Country'] == country]\n",
    "\n",
    "    try:\n",
    "        age15 = country_data[(country_data['age'] <= 15) & (country_data['sex'] == 'T')]\n",
    "        age26 = country_data[(country_data['age'] >= 16) & (country_data['age'] <= 26) & (country_data['sex'] == 'T')]\n",
    "        age65 = country_data[(country_data['age'] >= 27) & (country_data['age'] <= 65) & (country_data['sex'] == 'T')]\n",
    "        age100 = country_data[(country_data['age'] >= 66) & (country_data['sex'] == 'T')]\n",
    "\n",
    "        if age15.empty or age26.empty or age65.empty or age100.empty:\n",
    "            print(f\"Missing age group data for {country}\")\n",
    "            return\n",
    "\n",
    "        years = list(range(1998, 2024))\n",
    "        year_columns = [str(year) for year in years]\n",
    "\n",
    "        def collect_values(data, year_columns):\n",
    "            values = []\n",
    "            total = 0\n",
    "            for year in year_columns:\n",
    "                val = 0\n",
    "                if year in data.columns:\n",
    "                    for value in data[year]:\n",
    "                        try:\n",
    "                            val += int(value)\n",
    "                        except:\n",
    "                            pass\n",
    "                values.append(val)\n",
    "                total += val\n",
    "            return values, total\n",
    "\n",
    "        values15, total15 = collect_values(age15, year_columns)\n",
    "        values26, total26 = collect_values(age26, year_columns)\n",
    "        values65, total65 = collect_values(age65, year_columns)\n",
    "        values100, total100 = collect_values(age100, year_columns)\n",
    "\n",
    "        max_min_tracker['0-15'].update_max_min(country, total15)\n",
    "        max_min_tracker['16-26'].update_max_min(country, total26)\n",
    "        max_min_tracker['27-65'].update_max_min(country, total65)\n",
    "        max_min_tracker['66+'].update_max_min(country, total100)\n",
    "\n",
    "        stats_text = (\n",
    "            f\"Total immigration by age group in {country}: \"\n",
    "            f\"0-15: {int(total15):,} | 16-26: {int(total26):,} | \"\n",
    "            f\"27-65: {int(total65):,} | 66+: {int(total100):,}\"\n",
    "        )\n",
    "\n",
    "        fig, ax = plt.subplots(figsize=(16, 10))\n",
    "        ax.plot(years, values15, label=\"0-15 years\", color=\"green\", marker='o')\n",
    "        ax.plot(years, values26, label=\"16-26 years\", color=\"blue\", marker='o')\n",
    "        ax.plot(years, values65, label=\"27-65 years\", color=\"red\", marker='o')\n",
    "        ax.plot(years, values100, label=\"66+ years\", color=\"orange\", marker='o')\n",
    "\n",
    "        ax.set_title(f'Immigration to {country} by Age Group (1998-2023)', fontsize=16)\n",
    "        ax.set_xlabel('Year')\n",
    "        ax.set_ylabel('Number of Immigrants')\n",
    "        ax.grid(True, linestyle='--', alpha=0.6)\n",
    "        ax.legend()\n",
    "\n",
    "        plt.figtext(0.5, 0.01, stats_text, ha='center', fontsize=12, wrap=True)\n",
    "        plt.tight_layout(pad=3)\n",
    "\n",
    "        dir_name = os.path.join(\"../Images/Countries\", country)\n",
    "        os.makedirs(dir_name, exist_ok=True)\n",
    "        file_path = os.path.join(dir_name, f\"linegraph_age_groups_immigration_{country.lower()}.png\")\n",
    "        plt.savefig(file_path, bbox_inches='tight')\n",
    "        plt.close()\n",
    "\n",
    "    except Exception as e:\n",
    "        print(f\"Error processing {country}: {str(e)}\")\n",
    "\n",
    "# generating graphs for countries\n",
    "# for country in table2['Country'].unique():\n",
    "#     country_immigration_linegraph(country)"
   ]
  },
  {
   "cell_type": "markdown",
   "id": "82aeba67",
   "metadata": {},
   "source": [
    "##### Migration pyramid of immigrants by age groups"
   ]
  },
  {
   "cell_type": "code",
   "execution_count": 98,
   "id": "7eed9816",
   "metadata": {},
   "outputs": [],
   "source": [
    "def country_immigration_pyramid(country):\n",
    "    df = table2.copy()\n",
    "    df = df[(df['birth_country'] == 'TOTAL') & (df[\"agedef\"] == \"REACH\")]\n",
    "    df['age'] = pd.to_numeric(df['age'], errors='coerce')\n",
    "    df = df.dropna(subset=['age'])\n",
    "    country_data = df[df['Country'] == country].copy()\n",
    "\n",
    "    try:\n",
    "        bins = list(range(0, 101, 5))\n",
    "        labels = [f'{bins[i]}-{bins[i + 1] - 1}' for i in range(len(bins) - 1)]\n",
    "\n",
    "        country_data['age_group'] = pd.cut(country_data['age'], bins=bins, labels=labels, right=False)\n",
    "        year_columns = [str(year) for year in range(1998, 2024)]\n",
    "\n",
    "        country_data[year_columns] = country_data[year_columns].apply(pd.to_numeric, errors='coerce')\n",
    "\n",
    "        age_totals = []\n",
    "        for group in labels:\n",
    "            group_data = country_data[country_data['age_group'] == group]\n",
    "            male_data = group_data[group_data['sex'] == 'M'][year_columns].sum().sum()\n",
    "            female_data = group_data[group_data['sex'] == 'F'][year_columns].sum().sum()\n",
    "            if pd.notnull(male_data) and pd.notnull(female_data):\n",
    "                age_totals.append((group, float(male_data), float(female_data)))\n",
    "\n",
    "        if not age_totals:\n",
    "            print(f\"No valid data for {country}\")\n",
    "            return\n",
    "\n",
    "        male_values = [-total[1] for total in age_totals]\n",
    "        female_values = [total[2] for total in age_totals]\n",
    "        y_positions = range(len(age_totals))\n",
    "        age_labels = [total[0] for total in age_totals]\n",
    "\n",
    "        fig, ax = plt.subplots(figsize=(10, 8))\n",
    "        ax.barh(y_positions, male_values, align='center', color='blue', label='Male')\n",
    "        ax.barh(y_positions, female_values, align='center', color='red', label='Female')\n",
    "\n",
    "        ax.set_yticks(y_positions)\n",
    "        ax.set_yticklabels(age_labels)\n",
    "        ax.set_xlabel('Number of Immigrants')\n",
    "        ax.set_title(f'Population Pyramid for Immigrants in {country}')\n",
    "        ax.legend()\n",
    "        ax.grid(True, linestyle='--', alpha=0.7)\n",
    "\n",
    "        max_val = max(max(abs(m) for m in male_values), max(female_values))\n",
    "        ax.set_xlim(-max_val * 1.1, max_val * 1.1)\n",
    "\n",
    "        xticks = ax.get_xticks()\n",
    "        ax.set_xticks(xticks)\n",
    "        ax.set_xticklabels([f'{abs(int(x)):,}' for x in xticks])\n",
    "\n",
    "        plt.tight_layout()\n",
    "\n",
    "        dir_name = os.path.join(\"../Images/Countries\", country)\n",
    "        os.makedirs(dir_name, exist_ok=True)\n",
    "        file_path = os.path.join(dir_name, f\"immigration_pyramid_{country.lower()}.png\")\n",
    "        plt.savefig(file_path, bbox_inches='tight')\n",
    "        plt.close()\n",
    "\n",
    "    except Exception as e:\n",
    "        print(f\"Error processing {country}: {e}\")\n",
    "\n",
    "# generating graphs for countries\n",
    "# for country in table2['Country'].unique():\n",
    "#    country_immigration_pyramid(country)"
   ]
  },
  {
   "cell_type": "markdown",
   "id": "18807088",
   "metadata": {},
   "source": [
    "# Adam\n"
   ]
  },
  {
   "cell_type": "markdown",
   "id": "ae7f7121",
   "metadata": {},
   "source": [
    "# Erik"
   ]
  },
  {
   "cell_type": "markdown",
   "id": "a04e7aa4",
   "metadata": {},
   "source": [
    "# Adrian"
   ]
  }
 ],
 "metadata": {
  "kernelspec": {
   "display_name": ".venv",
   "language": "python",
   "name": "python3"
  },
  "language_info": {
   "codemirror_mode": {
    "name": "ipython",
    "version": 3
   },
   "file_extension": ".py",
   "mimetype": "text/x-python",
   "name": "python",
   "nbconvert_exporter": "python",
   "pygments_lexer": "ipython3",
   "version": "3.12.4"
  }
 },
 "nbformat": 4,
 "nbformat_minor": 5
}
