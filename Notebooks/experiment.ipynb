{
 "cells": [
  {
   "cell_type": "code",
   "metadata": {
    "ExecuteTime": {
     "end_time": "2025-04-07T09:50:11.182669Z",
     "start_time": "2025-04-07T09:50:10.140225Z"
    }
   },
   "source": [
    "import pandas as pd\n",
    "import matplotlib.pyplot as plt\n",
    "from IPython.display import Markdown\n",
    "import geopandas\n",
    "import plotly.express as px\n",
    "import numpy\n",
    "import seaborn as sns"
   ],
   "outputs": [
    {
     "ename": "PackageNotFoundError",
     "evalue": "No package metadata was found for plotly",
     "output_type": "error",
     "traceback": [
      "\u001B[31m---------------------------------------------------------------------------\u001B[39m",
      "\u001B[31mStopIteration\u001B[39m                             Traceback (most recent call last)",
      "\u001B[36mFile \u001B[39m\u001B[32mC:\\Program Files\\WindowsApps\\PythonSoftwareFoundation.Python.3.12_3.12.2544.0_x64__qbz5n2kfra8p0\\Lib\\importlib\\metadata\\__init__.py:397\u001B[39m, in \u001B[36mDistribution.from_name\u001B[39m\u001B[34m(cls, name)\u001B[39m\n\u001B[32m    396\u001B[39m \u001B[38;5;28;01mtry\u001B[39;00m:\n\u001B[32m--> \u001B[39m\u001B[32m397\u001B[39m     \u001B[38;5;28;01mreturn\u001B[39;00m \u001B[38;5;28;43mnext\u001B[39;49m\u001B[43m(\u001B[49m\u001B[38;5;28;43mcls\u001B[39;49m\u001B[43m.\u001B[49m\u001B[43mdiscover\u001B[49m\u001B[43m(\u001B[49m\u001B[43mname\u001B[49m\u001B[43m=\u001B[49m\u001B[43mname\u001B[49m\u001B[43m)\u001B[49m\u001B[43m)\u001B[49m\n\u001B[32m    398\u001B[39m \u001B[38;5;28;01mexcept\u001B[39;00m \u001B[38;5;167;01mStopIteration\u001B[39;00m:\n",
      "\u001B[31mStopIteration\u001B[39m: ",
      "\nDuring handling of the above exception, another exception occurred:\n",
      "\u001B[31mPackageNotFoundError\u001B[39m                      Traceback (most recent call last)",
      "\u001B[36mCell\u001B[39m\u001B[36m \u001B[39m\u001B[32mIn[1]\u001B[39m\u001B[32m, line 5\u001B[39m\n\u001B[32m      3\u001B[39m \u001B[38;5;28;01mfrom\u001B[39;00m\u001B[38;5;250m \u001B[39m\u001B[34;01mIPython\u001B[39;00m\u001B[34;01m.\u001B[39;00m\u001B[34;01mdisplay\u001B[39;00m\u001B[38;5;250m \u001B[39m\u001B[38;5;28;01mimport\u001B[39;00m Markdown\n\u001B[32m      4\u001B[39m \u001B[38;5;28;01mimport\u001B[39;00m\u001B[38;5;250m \u001B[39m\u001B[34;01mgeopandas\u001B[39;00m\n\u001B[32m----> \u001B[39m\u001B[32m5\u001B[39m \u001B[38;5;28;01mimport\u001B[39;00m\u001B[38;5;250m \u001B[39m\u001B[34;01mplotly\u001B[39;00m\u001B[34;01m.\u001B[39;00m\u001B[34;01mexpress\u001B[39;00m\u001B[38;5;250m \u001B[39m\u001B[38;5;28;01mas\u001B[39;00m\u001B[38;5;250m \u001B[39m\u001B[34;01mpx\u001B[39;00m\n\u001B[32m      6\u001B[39m \u001B[38;5;28;01mimport\u001B[39;00m\u001B[38;5;250m \u001B[39m\u001B[34;01mnumpy\u001B[39;00m\n\u001B[32m      7\u001B[39m \u001B[38;5;28;01mimport\u001B[39;00m\u001B[38;5;250m \u001B[39m\u001B[34;01mseaborn\u001B[39;00m\u001B[38;5;250m \u001B[39m\u001B[38;5;28;01mas\u001B[39;00m\u001B[38;5;250m \u001B[39m\u001B[34;01msns\u001B[39;00m\n",
      "\u001B[36mFile \u001B[39m\u001B[32m~\\Desktop\\diskretna\\migration-eu-analysis\\Lib\\site-packages\\plotly\\__init__.py:34\u001B[39m\n\u001B[32m     31\u001B[39m \u001B[38;5;28;01mimport\u001B[39;00m\u001B[38;5;250m \u001B[39m\u001B[34;01mimportlib\u001B[39;00m\u001B[34;01m.\u001B[39;00m\u001B[34;01mmetadata\u001B[39;00m\n\u001B[32m     33\u001B[39m \u001B[38;5;66;03m# This is the version of the plotly package\u001B[39;00m\n\u001B[32m---> \u001B[39m\u001B[32m34\u001B[39m __version__ = \u001B[43mimportlib\u001B[49m\u001B[43m.\u001B[49m\u001B[43mmetadata\u001B[49m\u001B[43m.\u001B[49m\u001B[43mversion\u001B[49m\u001B[43m(\u001B[49m\u001B[33;43m\"\u001B[39;49m\u001B[33;43mplotly\u001B[39;49m\u001B[33;43m\"\u001B[39;49m\u001B[43m)\u001B[49m\n\u001B[32m     35\u001B[39m version = __version__\n\u001B[32m     37\u001B[39m \u001B[38;5;28;01mif\u001B[39;00m sys.version_info < (\u001B[32m3\u001B[39m, \u001B[32m7\u001B[39m) \u001B[38;5;129;01mor\u001B[39;00m TYPE_CHECKING:\n",
      "\u001B[36mFile \u001B[39m\u001B[32mC:\\Program Files\\WindowsApps\\PythonSoftwareFoundation.Python.3.12_3.12.2544.0_x64__qbz5n2kfra8p0\\Lib\\importlib\\metadata\\__init__.py:889\u001B[39m, in \u001B[36mversion\u001B[39m\u001B[34m(distribution_name)\u001B[39m\n\u001B[32m    882\u001B[39m \u001B[38;5;28;01mdef\u001B[39;00m\u001B[38;5;250m \u001B[39m\u001B[34mversion\u001B[39m(distribution_name):\n\u001B[32m    883\u001B[39m \u001B[38;5;250m    \u001B[39m\u001B[33;03m\"\"\"Get the version string for the named package.\u001B[39;00m\n\u001B[32m    884\u001B[39m \n\u001B[32m    885\u001B[39m \u001B[33;03m    :param distribution_name: The name of the distribution package to query.\u001B[39;00m\n\u001B[32m    886\u001B[39m \u001B[33;03m    :return: The version string for the package as defined in the package's\u001B[39;00m\n\u001B[32m    887\u001B[39m \u001B[33;03m        \"Version\" metadata key.\u001B[39;00m\n\u001B[32m    888\u001B[39m \u001B[33;03m    \"\"\"\u001B[39;00m\n\u001B[32m--> \u001B[39m\u001B[32m889\u001B[39m     \u001B[38;5;28;01mreturn\u001B[39;00m \u001B[43mdistribution\u001B[49m\u001B[43m(\u001B[49m\u001B[43mdistribution_name\u001B[49m\u001B[43m)\u001B[49m.version\n",
      "\u001B[36mFile \u001B[39m\u001B[32mC:\\Program Files\\WindowsApps\\PythonSoftwareFoundation.Python.3.12_3.12.2544.0_x64__qbz5n2kfra8p0\\Lib\\importlib\\metadata\\__init__.py:862\u001B[39m, in \u001B[36mdistribution\u001B[39m\u001B[34m(distribution_name)\u001B[39m\n\u001B[32m    856\u001B[39m \u001B[38;5;28;01mdef\u001B[39;00m\u001B[38;5;250m \u001B[39m\u001B[34mdistribution\u001B[39m(distribution_name):\n\u001B[32m    857\u001B[39m \u001B[38;5;250m    \u001B[39m\u001B[33;03m\"\"\"Get the ``Distribution`` instance for the named package.\u001B[39;00m\n\u001B[32m    858\u001B[39m \n\u001B[32m    859\u001B[39m \u001B[33;03m    :param distribution_name: The name of the distribution package as a string.\u001B[39;00m\n\u001B[32m    860\u001B[39m \u001B[33;03m    :return: A ``Distribution`` instance (or subclass thereof).\u001B[39;00m\n\u001B[32m    861\u001B[39m \u001B[33;03m    \"\"\"\u001B[39;00m\n\u001B[32m--> \u001B[39m\u001B[32m862\u001B[39m     \u001B[38;5;28;01mreturn\u001B[39;00m \u001B[43mDistribution\u001B[49m\u001B[43m.\u001B[49m\u001B[43mfrom_name\u001B[49m\u001B[43m(\u001B[49m\u001B[43mdistribution_name\u001B[49m\u001B[43m)\u001B[49m\n",
      "\u001B[36mFile \u001B[39m\u001B[32mC:\\Program Files\\WindowsApps\\PythonSoftwareFoundation.Python.3.12_3.12.2544.0_x64__qbz5n2kfra8p0\\Lib\\importlib\\metadata\\__init__.py:399\u001B[39m, in \u001B[36mDistribution.from_name\u001B[39m\u001B[34m(cls, name)\u001B[39m\n\u001B[32m    397\u001B[39m     \u001B[38;5;28;01mreturn\u001B[39;00m \u001B[38;5;28mnext\u001B[39m(\u001B[38;5;28mcls\u001B[39m.discover(name=name))\n\u001B[32m    398\u001B[39m \u001B[38;5;28;01mexcept\u001B[39;00m \u001B[38;5;167;01mStopIteration\u001B[39;00m:\n\u001B[32m--> \u001B[39m\u001B[32m399\u001B[39m     \u001B[38;5;28;01mraise\u001B[39;00m PackageNotFoundError(name)\n",
      "\u001B[31mPackageNotFoundError\u001B[39m: No package metadata was found for plotly"
     ]
    }
   ],
   "execution_count": 1
  },
  {
   "cell_type": "markdown",
   "metadata": {},
   "source": [
    "### Functions:\n",
    "- Basic query functions\n",
    "- Search countries\n",
    "- todo"
   ]
  },
  {
   "cell_type": "code",
   "execution_count": 9,
   "metadata": {},
   "outputs": [],
   "source": [
    "def country_query(table, *countries):\n",
    "    query_str = \"\"\n",
    "    if type(countries) == str:\n",
    "        query_str += \"Country == '\" + countries + \"'\"\n",
    "    else:\n",
    "        for country in countries:\n",
    "            query_str += \"or Country == '\" + country + \"'\"\n",
    "        query_str = query_str[2:]\n",
    "\n",
    "    return table.query(query_str)\n"
   ]
  },
  {
   "cell_type": "markdown",
   "metadata": {},
   "source": [
    "### Experimentation"
   ]
  },
  {
   "cell_type": "code",
   "execution_count": 34,
   "metadata": {},
   "outputs": [
    {
     "data": {
      "text/html": [
       "<div>\n",
       "<style scoped>\n",
       "    .dataframe tbody tr th:only-of-type {\n",
       "        vertical-align: middle;\n",
       "    }\n",
       "\n",
       "    .dataframe tbody tr th {\n",
       "        vertical-align: top;\n",
       "    }\n",
       "\n",
       "    .dataframe thead th {\n",
       "        text-align: right;\n",
       "    }\n",
       "</style>\n",
       "<table border=\"1\" class=\"dataframe\">\n",
       "  <thead>\n",
       "    <tr style=\"text-align: right;\">\n",
       "      <th></th>\n",
       "      <th>Country</th>\n",
       "      <th>ISO3</th>\n",
       "      <th>citizen</th>\n",
       "      <th>sex</th>\n",
       "      <th>2015</th>\n",
       "      <th>2016</th>\n",
       "      <th>2017</th>\n",
       "      <th>2018</th>\n",
       "      <th>2019</th>\n",
       "      <th>2020</th>\n",
       "      <th>2021</th>\n",
       "      <th>2022</th>\n",
       "      <th>2023</th>\n",
       "      <th>2024</th>\n",
       "    </tr>\n",
       "  </thead>\n",
       "  <tbody>\n",
       "    <tr>\n",
       "      <th>452</th>\n",
       "      <td>Germany</td>\n",
       "      <td>DEU</td>\n",
       "      <td>TOTAL</td>\n",
       "      <td>T</td>\n",
       "      <td>81197537.0</td>\n",
       "      <td>82175684.0</td>\n",
       "      <td>82521653.0</td>\n",
       "      <td>82792351.0</td>\n",
       "      <td>83019213.0</td>\n",
       "      <td>83166711.0</td>\n",
       "      <td>83155031.0</td>\n",
       "      <td>83237124.0</td>\n",
       "      <td>83118501.0</td>\n",
       "      <td>83456045.0</td>\n",
       "    </tr>\n",
       "    <tr>\n",
       "      <th>158</th>\n",
       "      <td>Germany</td>\n",
       "      <td>DEU</td>\n",
       "      <td>NAT</td>\n",
       "      <td>T</td>\n",
       "      <td>73657763.0</td>\n",
       "      <td>73523726.0</td>\n",
       "      <td>73301664.0</td>\n",
       "      <td>73113483.0</td>\n",
       "      <td>72929921.0</td>\n",
       "      <td>72768689.0</td>\n",
       "      <td>72569978.0</td>\n",
       "      <td>72344071.0</td>\n",
       "      <td>71623366.0</td>\n",
       "      <td>71347057.0</td>\n",
       "    </tr>\n",
       "    <tr>\n",
       "      <th>341</th>\n",
       "      <td>Germany</td>\n",
       "      <td>DEU</td>\n",
       "      <td>STLS</td>\n",
       "      <td>T</td>\n",
       "      <td>8961.0</td>\n",
       "      <td>10264.0</td>\n",
       "      <td>11123.0</td>\n",
       "      <td>11406.0</td>\n",
       "      <td>11494.0</td>\n",
       "      <td>11360.0</td>\n",
       "      <td>11360.0</td>\n",
       "      <td>11155.0</td>\n",
       "      <td>20472.0</td>\n",
       "      <td>18883.0</td>\n",
       "    </tr>\n",
       "    <tr>\n",
       "      <th>551</th>\n",
       "      <td>Germany</td>\n",
       "      <td>DEU</td>\n",
       "      <td>UNK</td>\n",
       "      <td>T</td>\n",
       "      <td>0.0</td>\n",
       "      <td>0.0</td>\n",
       "      <td>0.0</td>\n",
       "      <td>0.0</td>\n",
       "      <td>0.0</td>\n",
       "      <td>0.0</td>\n",
       "      <td>0.0</td>\n",
       "      <td>0.0</td>\n",
       "      <td>0.0</td>\n",
       "      <td>0.0</td>\n",
       "    </tr>\n",
       "    <tr>\n",
       "      <th>65</th>\n",
       "      <td>Germany</td>\n",
       "      <td>DEU</td>\n",
       "      <td>EU28_FOR</td>\n",
       "      <td>T</td>\n",
       "      <td>3475492.0</td>\n",
       "      <td>3801044.0</td>\n",
       "      <td>3985165.0</td>\n",
       "      <td>4205194.0</td>\n",
       "      <td>4383694.0</td>\n",
       "      <td>4454418.0</td>\n",
       "      <td>NaN</td>\n",
       "      <td>NaN</td>\n",
       "      <td>NaN</td>\n",
       "      <td>NaN</td>\n",
       "    </tr>\n",
       "    <tr>\n",
       "      <th>248</th>\n",
       "      <td>Germany</td>\n",
       "      <td>DEU</td>\n",
       "      <td>NEU28_FOR</td>\n",
       "      <td>T</td>\n",
       "      <td>4055321.0</td>\n",
       "      <td>4840650.0</td>\n",
       "      <td>5223701.0</td>\n",
       "      <td>5462268.0</td>\n",
       "      <td>5694104.0</td>\n",
       "      <td>5932244.0</td>\n",
       "      <td>NaN</td>\n",
       "      <td>NaN</td>\n",
       "      <td>NaN</td>\n",
       "      <td>NaN</td>\n",
       "    </tr>\n",
       "  </tbody>\n",
       "</table>\n",
       "</div>"
      ],
      "text/plain": [
       "     Country ISO3    citizen sex        2015        2016        2017  \\\n",
       "452  Germany  DEU      TOTAL   T  81197537.0  82175684.0  82521653.0   \n",
       "158  Germany  DEU        NAT   T  73657763.0  73523726.0  73301664.0   \n",
       "341  Germany  DEU       STLS   T      8961.0     10264.0     11123.0   \n",
       "551  Germany  DEU        UNK   T         0.0         0.0         0.0   \n",
       "65   Germany  DEU   EU28_FOR   T   3475492.0   3801044.0   3985165.0   \n",
       "248  Germany  DEU  NEU28_FOR   T   4055321.0   4840650.0   5223701.0   \n",
       "\n",
       "           2018        2019        2020        2021        2022        2023  \\\n",
       "452  82792351.0  83019213.0  83166711.0  83155031.0  83237124.0  83118501.0   \n",
       "158  73113483.0  72929921.0  72768689.0  72569978.0  72344071.0  71623366.0   \n",
       "341     11406.0     11494.0     11360.0     11360.0     11155.0     20472.0   \n",
       "551         0.0         0.0         0.0         0.0         0.0         0.0   \n",
       "65    4205194.0   4383694.0   4454418.0         NaN         NaN         NaN   \n",
       "248   5462268.0   5694104.0   5932244.0         NaN         NaN         NaN   \n",
       "\n",
       "           2024  \n",
       "452  83456045.0  \n",
       "158  71347057.0  \n",
       "341     18883.0  \n",
       "551         0.0  \n",
       "65          NaN  \n",
       "248         NaN  "
      ]
     },
     "metadata": {},
     "output_type": "display_data"
    }
   ],
   "source": [
    "url = \"../Data/Annual_population_eurostat(mandatory).csv\"\n",
    "table = pd.read_csv(url)\n",
    "\n",
    "query = country_query(table, \"Germany\").query(\"sex == 'T'\").sort_values(\"2024\", ascending=False)\n",
    "\n",
    "# query = table.query(\"citizen == 'TOTAL' and sex =='T'\").sort_values(\"2024 \")\n",
    "\n",
    "display(query.head(20))"
   ]
  },
  {
   "cell_type": "markdown",
   "metadata": {},
   "source": [
    "### Graphs"
   ]
  },
  {
   "cell_type": "markdown",
   "metadata": {},
   "source": [
    "#### Foreign born population of Germany"
   ]
  },
  {
   "cell_type": "code",
   "execution_count": null,
   "metadata": {},
   "outputs": [
    {
     "name": "stdout",
     "output_type": "stream",
     "text": [
      "[2015, 2016, 2017, 2018, 2019, 2020, 2021, 2022, 2023, 2024]\n",
      "[90.7142823802648, 89.47138912771325, 88.82718818053729, 88.30946593121868, 87.8470396967025, 87.4973750013993, 87.27070043422869, 86.91322756418158, 86.17018490263678, 85.49058010117781]\n"
     ]
    },
    {
     "data": {
      "image/png": "[encoded data removed]",
      "text/plain": [
       "<Figure size 640x480 with 1 Axes>"
      ]
     },
     "metadata": {},
     "output_type": "display_data"
    }
   ],
   "source": [
    "pop_new = []\n",
    "for i in range(10):\n",
    "    pop_new.append(table.iloc[158, i + 4] / table.iloc[452, i + 4] * 100)\n",
    "\n",
    "years = [x for x in range(2015, 2025, 1)]\n",
    "\n",
    "print(years)\n",
    "print(pop_new)\n",
    "\n",
    "figure, axes = plt.subplots()\n",
    "axes.plot(years, pop_new)\n",
    "\n",
    "axes.set_xlabel('Year')\n",
    "axes.set_ylabel('Population')\n",
    "axes.set_title('Percentage of natural born German citizens')\n",
    "pass\n",
    "\n",
    "#f me tie cisla su ulozene ako kategoricke data:/"
   ]
  },
  {
   "metadata": {},
   "cell_type": "code",
   "outputs": [],
   "execution_count": null,
   "source": ""
  }
 ],
 "metadata": {
  "kernelspec": {
   "display_name": "Python 3",
   "language": "python",
   "name": "python3"
  },
  "language_info": {
   "codemirror_mode": {
    "name": "ipython",
    "version": 3
   },
   "file_extension": ".py",
   "mimetype": "text/x-python",
   "name": "python",
   "nbconvert_exporter": "python",
   "pygments_lexer": "ipython3",
   "version": "3.13.2"
  }
 },
 "nbformat": 4,
 "nbformat_minor": 2
}
