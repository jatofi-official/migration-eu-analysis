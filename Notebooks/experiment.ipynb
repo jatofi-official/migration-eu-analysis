{
 "cells": [
  {
   "cell_type": "code",
   "metadata": {
    "ExecuteTime": {
     "end_time": "2025-04-07T09:47:30.152273Z",
     "start_time": "2025-04-07T09:47:30.145827Z"
    }
   },
   "source": [
    "import pandas as pd\n",
    "import matplotlib.pyplot as plt\n",
    "from IPython.display import Markdown\n",
    "import geopandas\n",
    "import plotly.express as px\n",
    "import numpy\n",
    "import seaborn as sns"
   ],
   "outputs": [],
   "execution_count": 5
  },
  {
   "cell_type": "markdown",
   "metadata": {},
   "source": [
    "### Functions:\n",
    "- Basic query functions\n",
    "- Search countries\n",
    "- todo"
   ]
  },
  {
   "cell_type": "code",
   "metadata": {
    "ExecuteTime": {
     "end_time": "2025-04-07T09:47:30.208831Z",
     "start_time": "2025-04-07T09:47:30.204578Z"
    }
   },
   "source": [
    "def country_query(table,*countries):\n",
    "    query_str = \"\"\n",
    "    if type(countries)==str:\n",
    "        query_str +=\"Country == '\" + countries +\"'\"\n",
    "    else:\n",
    "        for country in countries:\n",
    "            query_str += \"or Country == '\" + country +\"'\"\n",
    "        query_str = query_str[2:]\n",
    "\n",
    "\n",
    "    return table.query(query_str)\n"
   ],
   "outputs": [],
   "execution_count": 6
  },
  {
   "cell_type": "markdown",
   "metadata": {},
   "source": [
    "### Experimentation"
   ]
  },
  {
   "cell_type": "code",
   "metadata": {
    "ExecuteTime": {
     "end_time": "2025-04-07T09:47:30.255318Z",
     "start_time": "2025-04-07T09:47:30.231887Z"
    }
   },
   "source": [
    "url = \"../Data/Annual_population_eurostat(mandatory).csv\"\n",
    "table = pd.read_csv(url)\n",
    "\n",
    "query = country_query(table,\"Germany\").query(\"sex == 'T'\").sort_values(\"2024\",ascending=False)\n",
    "\n",
    "\n",
    "# query = table.query(\"citizen == 'TOTAL' and sex =='T'\").sort_values(\"2024 \")\n",
    "\n",
    "display(query.head(20))"
   ],
   "outputs": [
    {
     "data": {
      "text/plain": [
       "     Country ISO3    citizen sex        2015        2016        2017  \\\n",
       "452  Germany  DEU      TOTAL   T  81197537.0  82175684.0  82521653.0   \n",
       "158  Germany  DEU        NAT   T  73657763.0  73523726.0  73301664.0   \n",
       "341  Germany  DEU       STLS   T      8961.0     10264.0     11123.0   \n",
       "551  Germany  DEU        UNK   T         0.0         0.0         0.0   \n",
       "65   Germany  DEU   EU28_FOR   T   3475492.0   3801044.0   3985165.0   \n",
       "248  Germany  DEU  NEU28_FOR   T   4055321.0   4840650.0   5223701.0   \n",
       "\n",
       "           2018        2019        2020        2021        2022        2023  \\\n",
       "452  82792351.0  83019213.0  83166711.0  83155031.0  83237124.0  83118501.0   \n",
       "158  73113483.0  72929921.0  72768689.0  72569978.0  72344071.0  71623366.0   \n",
       "341     11406.0     11494.0     11360.0     11360.0     11155.0     20472.0   \n",
       "551         0.0         0.0         0.0         0.0         0.0         0.0   \n",
       "65    4205194.0   4383694.0   4454418.0         NaN         NaN         NaN   \n",
       "248   5462268.0   5694104.0   5932244.0         NaN         NaN         NaN   \n",
       "\n",
       "           2024  \n",
       "452  83456045.0  \n",
       "158  71347057.0  \n",
       "341     18883.0  \n",
       "551         0.0  \n",
       "65          NaN  \n",
       "248         NaN  "
      ],
      "text/html": [
       "<div>\n",
       "<style scoped>\n",
       "    .dataframe tbody tr th:only-of-type {\n",
       "        vertical-align: middle;\n",
       "    }\n",
       "\n",
       "    .dataframe tbody tr th {\n",
       "        vertical-align: top;\n",
       "    }\n",
       "\n",
       "    .dataframe thead th {\n",
       "        text-align: right;\n",
       "    }\n",
       "</style>\n",
       "<table border=\"1\" class=\"dataframe\">\n",
       "  <thead>\n",
       "    <tr style=\"text-align: right;\">\n",
       "      <th></th>\n",
       "      <th>Country</th>\n",
       "      <th>ISO3</th>\n",
       "      <th>citizen</th>\n",
       "      <th>sex</th>\n",
       "      <th>2015</th>\n",
       "      <th>2016</th>\n",
       "      <th>2017</th>\n",
       "      <th>2018</th>\n",
       "      <th>2019</th>\n",
       "      <th>2020</th>\n",
       "      <th>2021</th>\n",
       "      <th>2022</th>\n",
       "      <th>2023</th>\n",
       "      <th>2024</th>\n",
       "    </tr>\n",
       "  </thead>\n",
       "  <tbody>\n",
       "    <tr>\n",
       "      <th>452</th>\n",
       "      <td>Germany</td>\n",
       "      <td>DEU</td>\n",
       "      <td>TOTAL</td>\n",
       "      <td>T</td>\n",
       "      <td>81197537.0</td>\n",
       "      <td>82175684.0</td>\n",
       "      <td>82521653.0</td>\n",
       "      <td>82792351.0</td>\n",
       "      <td>83019213.0</td>\n",
       "      <td>83166711.0</td>\n",
       "      <td>83155031.0</td>\n",
       "      <td>83237124.0</td>\n",
       "      <td>83118501.0</td>\n",
       "      <td>83456045.0</td>\n",
       "    </tr>\n",
       "    <tr>\n",
       "      <th>158</th>\n",
       "      <td>Germany</td>\n",
       "      <td>DEU</td>\n",
       "      <td>NAT</td>\n",
       "      <td>T</td>\n",
       "      <td>73657763.0</td>\n",
       "      <td>73523726.0</td>\n",
       "      <td>73301664.0</td>\n",
       "      <td>73113483.0</td>\n",
       "      <td>72929921.0</td>\n",
       "      <td>72768689.0</td>\n",
       "      <td>72569978.0</td>\n",
       "      <td>72344071.0</td>\n",
       "      <td>71623366.0</td>\n",
       "      <td>71347057.0</td>\n",
       "    </tr>\n",
       "    <tr>\n",
       "      <th>341</th>\n",
       "      <td>Germany</td>\n",
       "      <td>DEU</td>\n",
       "      <td>STLS</td>\n",
       "      <td>T</td>\n",
       "      <td>8961.0</td>\n",
       "      <td>10264.0</td>\n",
       "      <td>11123.0</td>\n",
       "      <td>11406.0</td>\n",
       "      <td>11494.0</td>\n",
       "      <td>11360.0</td>\n",
       "      <td>11360.0</td>\n",
       "      <td>11155.0</td>\n",
       "      <td>20472.0</td>\n",
       "      <td>18883.0</td>\n",
       "    </tr>\n",
       "    <tr>\n",
       "      <th>551</th>\n",
       "      <td>Germany</td>\n",
       "      <td>DEU</td>\n",
       "      <td>UNK</td>\n",
       "      <td>T</td>\n",
       "      <td>0.0</td>\n",
       "      <td>0.0</td>\n",
       "      <td>0.0</td>\n",
       "      <td>0.0</td>\n",
       "      <td>0.0</td>\n",
       "      <td>0.0</td>\n",
       "      <td>0.0</td>\n",
       "      <td>0.0</td>\n",
       "      <td>0.0</td>\n",
       "      <td>0.0</td>\n",
       "    </tr>\n",
       "    <tr>\n",
       "      <th>65</th>\n",
       "      <td>Germany</td>\n",
       "      <td>DEU</td>\n",
       "      <td>EU28_FOR</td>\n",
       "      <td>T</td>\n",
       "      <td>3475492.0</td>\n",
       "      <td>3801044.0</td>\n",
       "      <td>3985165.0</td>\n",
       "      <td>4205194.0</td>\n",
       "      <td>4383694.0</td>\n",
       "      <td>4454418.0</td>\n",
       "      <td>NaN</td>\n",
       "      <td>NaN</td>\n",
       "      <td>NaN</td>\n",
       "      <td>NaN</td>\n",
       "    </tr>\n",
       "    <tr>\n",
       "      <th>248</th>\n",
       "      <td>Germany</td>\n",
       "      <td>DEU</td>\n",
       "      <td>NEU28_FOR</td>\n",
       "      <td>T</td>\n",
       "      <td>4055321.0</td>\n",
       "      <td>4840650.0</td>\n",
       "      <td>5223701.0</td>\n",
       "      <td>5462268.0</td>\n",
       "      <td>5694104.0</td>\n",
       "      <td>5932244.0</td>\n",
       "      <td>NaN</td>\n",
       "      <td>NaN</td>\n",
       "      <td>NaN</td>\n",
       "      <td>NaN</td>\n",
       "    </tr>\n",
       "  </tbody>\n",
       "</table>\n",
       "</div>"
      ]
     },
     "metadata": {},
     "output_type": "display_data"
    }
   ],
   "execution_count": 7
  },
  {
   "cell_type": "markdown",
   "metadata": {},
   "source": [
    "### Graphs"
   ]
  },
  {
   "cell_type": "markdown",
   "metadata": {},
   "source": [
    "#### Foreign born population of Germany"
   ]
  },
  {
   "cell_type": "code",
   "metadata": {
    "ExecuteTime": {
     "end_time": "2025-04-07T09:47:30.464845Z",
     "start_time": "2025-04-07T09:47:30.296953Z"
    }
   },
   "source": [
    "pop_new = []\n",
    "for i in range(10):\n",
    "    pop_new.append(table.iloc[158,i+4]/table.iloc[452,i+4]*100)\n",
    "\n",
    "\n",
    "years = [x for x in range(2015,2025,1)]\n",
    "\n",
    "print(years)\n",
    "print(pop_new)\n",
    "\n",
    "figure, axes = plt.subplots()\n",
    "axes.plot(years,pop_new)\n",
    "\n",
    "axes.set_xlabel('Year')\n",
    "axes.set_ylabel('Population')\n",
    "axes.set_title('Percentage of natural born German citizens')\n",
    "pass\n",
    "\n",
    "#f me tie cisla su ulozene ako kategoricke data:/"
   ],
   "outputs": [
    {
     "name": "stdout",
     "output_type": "stream",
     "text": [
      "[2015, 2016, 2017, 2018, 2019, 2020, 2021, 2022, 2023, 2024]\n",
      "[np.float64(90.7142823802648), np.float64(89.47138912771325), np.float64(88.82718818053729), np.float64(88.30946593121868), np.float64(87.8470396967025), np.float64(87.4973750013993), np.float64(87.27070043422869), np.float64(86.91322756418158), np.float64(86.17018490263678), np.float64(85.49058010117781)]\n"
     ]
    },
    {
     "data": {
      "text/plain": [
       "<Figure size 640x480 with 1 Axes>"
      ],
      "image/png": "[encoded data removed]"
     },
     "metadata": {},
     "output_type": "display_data"
    }
   ],
   "execution_count": 8
  }
 ],
 "metadata": {
  "kernelspec": {
   "display_name": "Python 3",
   "language": "python",
   "name": "python3"
  },
  "language_info": {
   "codemirror_mode": {
    "name": "ipython",
    "version": 3
   },
   "file_extension": ".py",
   "mimetype": "text/x-python",
   "name": "python",
   "nbconvert_exporter": "python",
   "pygments_lexer": "ipython3",
   "version": "3.13.2"
  }
 },
 "nbformat": 4,
 "nbformat_minor": 2
}
