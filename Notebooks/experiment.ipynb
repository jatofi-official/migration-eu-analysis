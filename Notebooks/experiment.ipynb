{
 "cells": [
  {
   "cell_type": "code",
   "execution_count": 19,
   "metadata": {},
   "outputs": [],
   "source": [
    "import pandas as pd\n",
    "import matplotlib.pyplot as plt\n",
    "from IPython.display import Markdown\n",
    "import geopandas\n",
    "import plotly.express as px\n",
    "import numpy\n",
    "import seaborn as sns"
   ]
  },
  {
   "cell_type": "markdown",
   "metadata": {},
   "source": [
    "### Functions:\n",
    "- Basic query functions\n",
    "- Search countries\n",
    "- todo"
   ]
  },
  {
   "cell_type": "code",
   "execution_count": 20,
   "metadata": {},
   "outputs": [],
   "source": [
    "def country_query(table,*countries):\n",
    "    query_str = \"\"\n",
    "    if type(countries)==str:\n",
    "        query_str +=\"country == '\" + countries +\"'\"\n",
    "    else:\n",
    "        for country in countries:\n",
    "            query_str += \"or country == '\" + country +\"'\"\n",
    "        query_str = query_str[2:]\n",
    "\n",
    "\n",
    "    return table.query(query_str)\n"
   ]
  },
  {
   "cell_type": "markdown",
   "metadata": {},
   "source": [
    "### Experimentation"
   ]
  },
  {
   "cell_type": "code",
   "execution_count": 28,
   "metadata": {},
   "outputs": [
    {
     "data": {
      "text/html": [
       "<div>\n",
       "<style scoped>\n",
       "    .dataframe tbody tr th:only-of-type {\n",
       "        vertical-align: middle;\n",
       "    }\n",
       "\n",
       "    .dataframe tbody tr th {\n",
       "        vertical-align: top;\n",
       "    }\n",
       "\n",
       "    .dataframe thead th {\n",
       "        text-align: right;\n",
       "    }\n",
       "</style>\n",
       "<table border=\"1\" class=\"dataframe\">\n",
       "  <thead>\n",
       "    <tr style=\"text-align: right;\">\n",
       "      <th></th>\n",
       "      <th>country</th>\n",
       "      <th>citizen</th>\n",
       "      <th>sex</th>\n",
       "      <th>2015</th>\n",
       "      <th>2016</th>\n",
       "      <th>2017</th>\n",
       "      <th>2018</th>\n",
       "      <th>2019</th>\n",
       "      <th>2020</th>\n",
       "      <th>2021</th>\n",
       "      <th>2022</th>\n",
       "      <th>2023</th>\n",
       "      <th>2024</th>\n",
       "    </tr>\n",
       "  </thead>\n",
       "  <tbody>\n",
       "    <tr>\n",
       "      <th>518</th>\n",
       "      <td>SK</td>\n",
       "      <td>TOTAL</td>\n",
       "      <td>T</td>\n",
       "      <td>5421349</td>\n",
       "      <td>5426252</td>\n",
       "      <td>5435343</td>\n",
       "      <td>5443120</td>\n",
       "      <td>5450421</td>\n",
       "      <td>5457873</td>\n",
       "      <td>5459781</td>\n",
       "      <td>5434712</td>\n",
       "      <td>5428792</td>\n",
       "      <td>5424687</td>\n",
       "    </tr>\n",
       "    <tr>\n",
       "      <th>195</th>\n",
       "      <td>SK</td>\n",
       "      <td>NAT</td>\n",
       "      <td>T</td>\n",
       "      <td>5359583</td>\n",
       "      <td>5360412</td>\n",
       "      <td>5365648</td>\n",
       "      <td>5370237</td>\n",
       "      <td>5374305</td>\n",
       "      <td>5378937</td>\n",
       "      <td>5377706</td>\n",
       "      <td>5371646</td>\n",
       "      <td>5364540</td>\n",
       "      <td>5358701</td>\n",
       "    </tr>\n",
       "    <tr>\n",
       "      <th>393</th>\n",
       "      <td>SK</td>\n",
       "      <td>STLS</td>\n",
       "      <td>T</td>\n",
       "      <td>1500</td>\n",
       "      <td>1499</td>\n",
       "      <td>1497</td>\n",
       "      <td>1495</td>\n",
       "      <td>1495</td>\n",
       "      <td>1493</td>\n",
       "      <td>1493</td>\n",
       "      <td>5</td>\n",
       "      <td>5</td>\n",
       "      <td>5</td>\n",
       "    </tr>\n",
       "    <tr>\n",
       "      <th>621</th>\n",
       "      <td>SK</td>\n",
       "      <td>UNK</td>\n",
       "      <td>T</td>\n",
       "      <td>0</td>\n",
       "      <td>0</td>\n",
       "      <td>0</td>\n",
       "      <td>0</td>\n",
       "      <td>0</td>\n",
       "      <td>0</td>\n",
       "      <td>0</td>\n",
       "      <td>2924</td>\n",
       "      <td>2905</td>\n",
       "      <td>2999</td>\n",
       "    </tr>\n",
       "    <tr>\n",
       "      <th>93</th>\n",
       "      <td>SK</td>\n",
       "      <td>EU28_FOR</td>\n",
       "      <td>T</td>\n",
       "      <td>47202</td>\n",
       "      <td>50440</td>\n",
       "      <td>53511</td>\n",
       "      <td>55949</td>\n",
       "      <td>58308</td>\n",
       "      <td>60311</td>\n",
       "      <td>NaN</td>\n",
       "      <td>NaN</td>\n",
       "      <td>NaN</td>\n",
       "      <td>NaN</td>\n",
       "    </tr>\n",
       "    <tr>\n",
       "      <th>291</th>\n",
       "      <td>SK</td>\n",
       "      <td>NEU28_FOR</td>\n",
       "      <td>T</td>\n",
       "      <td>13064</td>\n",
       "      <td>13901</td>\n",
       "      <td>14687</td>\n",
       "      <td>15439</td>\n",
       "      <td>16313</td>\n",
       "      <td>17132</td>\n",
       "      <td>NaN</td>\n",
       "      <td>NaN</td>\n",
       "      <td>NaN</td>\n",
       "      <td>NaN</td>\n",
       "    </tr>\n",
       "  </tbody>\n",
       "</table>\n",
       "</div>"
      ],
      "text/plain": [
       "    country    citizen sex     2015     2016     2017     2018     2019  \\\n",
       "518      SK      TOTAL   T  5421349  5426252  5435343  5443120  5450421   \n",
       "195      SK        NAT   T  5359583  5360412  5365648  5370237  5374305   \n",
       "393      SK       STLS   T     1500     1499     1497     1495     1495   \n",
       "621      SK        UNK   T        0        0        0        0        0   \n",
       "93       SK   EU28_FOR   T    47202    50440    53511    55949    58308   \n",
       "291      SK  NEU28_FOR   T    13064    13901    14687    15439    16313   \n",
       "\n",
       "        2020     2021     2022     2023     2024  \n",
       "518  5457873  5459781  5434712  5428792  5424687  \n",
       "195  5378937  5377706  5371646  5364540  5358701  \n",
       "393     1493     1493        5        5        5  \n",
       "621        0        0     2924     2905     2999  \n",
       "93     60311      NaN      NaN      NaN      NaN  \n",
       "291    17132      NaN      NaN      NaN      NaN  "
      ]
     },
     "metadata": {},
     "output_type": "display_data"
    }
   ],
   "source": [
    "url = \"../Data/Annual_population_eurostat(mandatory).csv\"\n",
    "table = pd.read_csv(url)\n",
    "\n",
    "query = country_query(table,\"SK\").query(\"sex == 'T'\").sort_values(\"2024\",ascending=False)\n",
    "\n",
    "\n",
    "# query = table.query(\"citizen == 'TOTAL' and sex =='T'\").sort_values(\"2024 \")\n",
    "\n",
    "display(query.head(20))"
   ]
  },
  {
   "cell_type": "markdown",
   "metadata": {},
   "source": [
    "### Graphs"
   ]
  },
  {
   "cell_type": "markdown",
   "metadata": {},
   "source": [
    "#### Population of Slovakia"
   ]
  },
  {
   "cell_type": "code",
   "execution_count": 35,
   "metadata": {},
   "outputs": [
    {
     "data": {
      "image/png": "[encoded data removed]",
      "text/plain": [
       "<Figure size 640x480 with 1 Axes>"
      ]
     },
     "metadata": {},
     "output_type": "display_data"
    }
   ],
   "source": [
    "country = table.iloc[518,:]\n",
    "\n",
    "\n",
    "years = [int(x) for x in country.index[3:]]\n",
    "\n",
    "pop_new = [int(pop_y) for pop_y in country[3:]]\n",
    "\n",
    "\n",
    "\n",
    "figure, axes = plt.subplots()\n",
    "axes.plot(years,pop_new)\n",
    "\n",
    "axes.set_xlabel('Year')\n",
    "axes.set_ylabel('Population')\n",
    "axes.set_title('Population of Slovakia')\n",
    "pass\n",
    "\n",
    "#f me tie cisla su ulozene ako kategoricke data:/"
   ]
  },
  {
   "cell_type": "markdown",
   "metadata": {},
   "source": [
    "#### Generate comparison"
   ]
  }
 ],
 "metadata": {
  "kernelspec": {
   "display_name": "usr",
   "language": "python",
   "name": "python3"
  },
  "language_info": {
   "codemirror_mode": {
    "name": "ipython",
    "version": 3
   },
   "file_extension": ".py",
   "mimetype": "text/x-python",
   "name": "python",
   "nbconvert_exporter": "python",
   "pygments_lexer": "ipython3",
   "version": "3.13.2"
  }
 },
 "nbformat": 4,
 "nbformat_minor": 2
}
