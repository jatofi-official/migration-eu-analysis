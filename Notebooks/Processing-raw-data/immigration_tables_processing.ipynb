{
 "cells": [
  {
   "cell_type": "markdown",
   "metadata": {},
   "source": [
    "# Immigration data"
   ]
  },
  {
   "cell_type": "code",
   "execution_count": 2,
   "metadata": {},
   "outputs": [],
   "source": [
    "import pandas as pd\n",
    "from IPython.display import Markdown;\n",
    "import numpy"
   ]
  },
  {
   "cell_type": "markdown",
   "metadata": {},
   "source": [
    "## immigration_citizenship.tsv"
   ]
  },
  {
   "cell_type": "markdown",
   "metadata": {},
   "source": [
    "## immigration_country_born.tsv"
   ]
  },
  {
   "cell_type": "code",
   "execution_count": 62,
   "metadata": {},
   "outputs": [],
   "source": [
    "url = \"../../Data/immigration/immigration_country_born.tsv\"\n",
    "table_raw = pd.read_csv(url,sep='\\t')\n",
    "year_range = range(2008,2024,1)\n"
   ]
  },
  {
   "cell_type": "code",
   "execution_count": 64,
   "metadata": {},
   "outputs": [
    {
     "name": "stderr",
     "output_type": "stream",
     "text": [
      "<>:24: SyntaxWarning: invalid escape sequence '\\T'\n",
      "<>:24: SyntaxWarning: invalid escape sequence '\\T'\n",
      "/tmp/ipykernel_21217/3666701640.py:24: SyntaxWarning: invalid escape sequence '\\T'\n",
      "  table_raw.drop(columns=[\"freq,age,agedef,c_birth,unit,sex,geo\\TIME_PERIOD\"],inplace=True)\n",
      "/tmp/ipykernel_21217/3666701640.py:8: FutureWarning: Series.__getitem__ treating keys as positions is deprecated. In a future version, integer keys will always be treated as labels (consistent with DataFrame behavior). To access a value by position, use `ser.iloc[pos]`\n",
      "  title_split = (row[0].split(\",\"))\n"
     ]
    }
   ],
   "source": [
    "\n",
    "age = []\n",
    "agedef = []\n",
    "birth_country = []\n",
    "sex = []\n",
    "country = []\n",
    "\n",
    "for index,row in table_raw.iterrows():\n",
    "    title_split = (row[0].split(\",\"))\n",
    "    # print(title_split)\n",
    "    age.append(title_split[1]) \n",
    "    agedef.append(title_split[2])\n",
    "    birth_country.append(title_split[3])\n",
    "    sex.append(title_split[5])\n",
    "    country.append(title_split[6])\n",
    "    \n",
    "    \n",
    "\n",
    "table_raw[\"age\"]= age\n",
    "table_raw[\"agedef\"] = agedef\n",
    "table_raw[\"birth_country\"] = birth_country\n",
    "table_raw[\"sex\"]=sex\n",
    "table_raw[\"country\"]=country\n",
    "\n",
    "table_raw.drop(columns=[\"freq,age,agedef,c_birth,unit,sex,geo\\TIME_PERIOD\"],inplace=True)"
   ]
  },
  {
   "cell_type": "markdown",
   "metadata": {},
   "source": [
    "#### Reindexing, renaming columns, adding ISO3 codes\n"
   ]
  },
  {
   "cell_type": "code",
   "execution_count": 65,
   "metadata": {},
   "outputs": [],
   "source": [
    "#rename country codes\n",
    "country_codes = pd.read_csv(\"../../Data/country-region-codes.csv\")\n",
    "new_columns = {}\n",
    "\n",
    "#numeric columns\n",
    "for column in table_raw.columns:\n",
    "    if column.strip().isnumeric():\n",
    "        new_columns[column] = int(column.strip())\n",
    "    else:\n",
    "        new_columns[column]=column\n",
    "        \n",
    "table = table_raw.rename(columns=new_columns)\n",
    "table.rename(columns={\"country\":\"alpha-2\"},inplace=True)\n",
    "\n",
    "table = pd.merge(table,country_codes,on=\"alpha-2\").drop(columns=[\"country-code\",\"alpha-2\"]).rename(columns={\"name\":\"Country\",\"alpha-3\":\"ISO3\"})\n",
    "\n",
    "#reordering\n",
    "new_order = list(table.columns[-5:])+[i for i in year_range]\n",
    "\n",
    "table = table[new_order]\n",
    "# display(table.head())"
   ]
  },
  {
   "cell_type": "markdown",
   "metadata": {},
   "source": [
    "#### Fixing values\n",
    "Renaming : to NaN\n",
    "fixing provisional data"
   ]
  },
  {
   "cell_type": "code",
   "execution_count": 66,
   "metadata": {},
   "outputs": [],
   "source": [
    "replaced = table.copy()\n",
    "\n",
    "#fix numeric values\n",
    "for column in replaced.columns[3:]:\n",
    "    replaced[column] = replaced[column].apply(str.strip)\n",
    "    # print(type(replaced[column][0]))\n",
    "\n",
    "replaced.replace(to_replace=\":\",value=numpy.nan,inplace=True)\n",
    "\n",
    "#tags\n",
    "tags = [\"b\",\"p\",\"ep\",\"e\",\"be\",\"bep\",\"P\"]\n",
    "\n",
    "#I used Deepseek AI for this, it was quite complex\n",
    "pattern = r'\\b(?:' + '|'.join(tags) + r')\\b'\n",
    "\n",
    "# Apply the replacement to all columns (or specify specific columns)\n",
    "df = replaced.apply(lambda x: x.str.replace(pattern, '', regex=True).str.strip())\n",
    "\n"
   ]
  },
  {
   "cell_type": "markdown",
   "metadata": {},
   "source": [
    "#### Saving to file"
   ]
  },
  {
   "cell_type": "code",
   "execution_count": 67,
   "metadata": {},
   "outputs": [],
   "source": [
    "path = \"../../Data/immigration/immigration_country_born.csv\"\n",
    "\n",
    "df.to_csv(path,index=False)"
   ]
  }
 ],
 "metadata": {
  "kernelspec": {
   "display_name": "Python 3",
   "language": "python",
   "name": "python3"
  },
  "language_info": {
   "codemirror_mode": {
    "name": "ipython",
    "version": 3
   },
   "file_extension": ".py",
   "mimetype": "text/x-python",
   "name": "python",
   "nbconvert_exporter": "python",
   "pygments_lexer": "ipython3",
   "version": "3.13.2"
  }
 },
 "nbformat": 4,
 "nbformat_minor": 2
}
