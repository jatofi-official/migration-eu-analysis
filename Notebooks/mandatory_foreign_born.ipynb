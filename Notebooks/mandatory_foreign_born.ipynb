{
 "cells": [
  {
   "cell_type": "code",
   "id": "1a801a03",
   "metadata": {
    "ExecuteTime": {
     "end_time": "2025-04-07T11:43:28.036192Z",
     "start_time": "2025-04-07T11:43:26.727093Z"
    }
   },
   "source": [
    "import os\n",
    "import pandas as pd\n",
    "import matplotlib.pyplot as plt\n",
    "from IPython.display import Markdown\n",
    "import geopandas\n",
    "import plotly.express as px\n",
    "import numpy\n",
    "import seaborn as sns"
   ],
   "outputs": [],
   "execution_count": 1
  },
  {
   "cell_type": "markdown",
   "id": "70b941e3",
   "metadata": {},
   "source": [
    "#### Table"
   ]
  },
  {
   "cell_type": "code",
   "id": "813dcebe",
   "metadata": {
    "ExecuteTime": {
     "end_time": "2025-04-07T11:43:28.064459Z",
     "start_time": "2025-04-07T11:43:28.040256Z"
    }
   },
   "source": [
    "url = \"../Data/Annual_population_eurostat(mandatory).csv\"\n",
    "table = pd.read_csv(url)\n",
    "display(table.head())"
   ],
   "outputs": [
    {
     "data": {
      "text/plain": [
       "       Country ISO3   citizen sex      2015      2016      2017      2018  \\\n",
       "0      Austria  AUT  EU28_FOR   F  288028.0  310759.0  329981.0  348012.0   \n",
       "1      Belgium  BEL  EU28_FOR   F  416232.0  428008.0  434889.0  440355.0   \n",
       "2  Switzerland  CHE  EU28_FOR   F  594052.0  610566.0  622893.0  630371.0   \n",
       "3       Cyprus  CYP  EU28_FOR   F   55730.0   57716.0   57673.0   59787.0   \n",
       "4      Czechia  CZE  EU28_FOR   F   72465.0   76736.0   81670.0   86132.0   \n",
       "\n",
       "       2019      2020  2021  2022  2023  2024  \n",
       "0  365125.0  383295.0   NaN   NaN   NaN   NaN  \n",
       "1  448655.0  457258.0   NaN   NaN   NaN   NaN  \n",
       "2  637330.0  645916.0   NaN   NaN   NaN   NaN  \n",
       "3   63044.0   62935.0   NaN   NaN   NaN   NaN  \n",
       "4   91296.0   96186.0   NaN   NaN   NaN   NaN  "
      ],
      "text/html": [
       "<div>\n",
       "<style scoped>\n",
       "    .dataframe tbody tr th:only-of-type {\n",
       "        vertical-align: middle;\n",
       "    }\n",
       "\n",
       "    .dataframe tbody tr th {\n",
       "        vertical-align: top;\n",
       "    }\n",
       "\n",
       "    .dataframe thead th {\n",
       "        text-align: right;\n",
       "    }\n",
       "</style>\n",
       "<table border=\"1\" class=\"dataframe\">\n",
       "  <thead>\n",
       "    <tr style=\"text-align: right;\">\n",
       "      <th></th>\n",
       "      <th>Country</th>\n",
       "      <th>ISO3</th>\n",
       "      <th>citizen</th>\n",
       "      <th>sex</th>\n",
       "      <th>2015</th>\n",
       "      <th>2016</th>\n",
       "      <th>2017</th>\n",
       "      <th>2018</th>\n",
       "      <th>2019</th>\n",
       "      <th>2020</th>\n",
       "      <th>2021</th>\n",
       "      <th>2022</th>\n",
       "      <th>2023</th>\n",
       "      <th>2024</th>\n",
       "    </tr>\n",
       "  </thead>\n",
       "  <tbody>\n",
       "    <tr>\n",
       "      <th>0</th>\n",
       "      <td>Austria</td>\n",
       "      <td>AUT</td>\n",
       "      <td>EU28_FOR</td>\n",
       "      <td>F</td>\n",
       "      <td>288028.0</td>\n",
       "      <td>310759.0</td>\n",
       "      <td>329981.0</td>\n",
       "      <td>348012.0</td>\n",
       "      <td>365125.0</td>\n",
       "      <td>383295.0</td>\n",
       "      <td>NaN</td>\n",
       "      <td>NaN</td>\n",
       "      <td>NaN</td>\n",
       "      <td>NaN</td>\n",
       "    </tr>\n",
       "    <tr>\n",
       "      <th>1</th>\n",
       "      <td>Belgium</td>\n",
       "      <td>BEL</td>\n",
       "      <td>EU28_FOR</td>\n",
       "      <td>F</td>\n",
       "      <td>416232.0</td>\n",
       "      <td>428008.0</td>\n",
       "      <td>434889.0</td>\n",
       "      <td>440355.0</td>\n",
       "      <td>448655.0</td>\n",
       "      <td>457258.0</td>\n",
       "      <td>NaN</td>\n",
       "      <td>NaN</td>\n",
       "      <td>NaN</td>\n",
       "      <td>NaN</td>\n",
       "    </tr>\n",
       "    <tr>\n",
       "      <th>2</th>\n",
       "      <td>Switzerland</td>\n",
       "      <td>CHE</td>\n",
       "      <td>EU28_FOR</td>\n",
       "      <td>F</td>\n",
       "      <td>594052.0</td>\n",
       "      <td>610566.0</td>\n",
       "      <td>622893.0</td>\n",
       "      <td>630371.0</td>\n",
       "      <td>637330.0</td>\n",
       "      <td>645916.0</td>\n",
       "      <td>NaN</td>\n",
       "      <td>NaN</td>\n",
       "      <td>NaN</td>\n",
       "      <td>NaN</td>\n",
       "    </tr>\n",
       "    <tr>\n",
       "      <th>3</th>\n",
       "      <td>Cyprus</td>\n",
       "      <td>CYP</td>\n",
       "      <td>EU28_FOR</td>\n",
       "      <td>F</td>\n",
       "      <td>55730.0</td>\n",
       "      <td>57716.0</td>\n",
       "      <td>57673.0</td>\n",
       "      <td>59787.0</td>\n",
       "      <td>63044.0</td>\n",
       "      <td>62935.0</td>\n",
       "      <td>NaN</td>\n",
       "      <td>NaN</td>\n",
       "      <td>NaN</td>\n",
       "      <td>NaN</td>\n",
       "    </tr>\n",
       "    <tr>\n",
       "      <th>4</th>\n",
       "      <td>Czechia</td>\n",
       "      <td>CZE</td>\n",
       "      <td>EU28_FOR</td>\n",
       "      <td>F</td>\n",
       "      <td>72465.0</td>\n",
       "      <td>76736.0</td>\n",
       "      <td>81670.0</td>\n",
       "      <td>86132.0</td>\n",
       "      <td>91296.0</td>\n",
       "      <td>96186.0</td>\n",
       "      <td>NaN</td>\n",
       "      <td>NaN</td>\n",
       "      <td>NaN</td>\n",
       "      <td>NaN</td>\n",
       "    </tr>\n",
       "  </tbody>\n",
       "</table>\n",
       "</div>"
      ]
     },
     "metadata": {},
     "output_type": "display_data"
    }
   ],
   "execution_count": 2
  },
  {
   "cell_type": "markdown",
   "id": "84dbaf96",
   "metadata": {},
   "source": [
    "### Percentage of foreign born in country"
   ]
  },
  {
   "cell_type": "code",
   "id": "451ac489",
   "metadata": {
    "ExecuteTime": {
     "end_time": "2025-04-07T12:13:12.609978Z",
     "start_time": "2025-04-07T12:13:11.106608Z"
    }
   },
   "source": [
    "#Save images\n",
    "def percent_natural_born(country):\n",
    "    pop_new = []\n",
    "    country_main = table.query(\"Country =='\"+country+\"' and sex=='T' and citizen == 'TOTAL'\")\n",
    "    country_natural = table.query(\"Country =='\"+country+\"' and sex=='T' and citizen == 'NAT'\")\n",
    "    # display(country_main.head())\n",
    "    try:\n",
    "        for i in range(10):\n",
    "            pop_new.append(country_natural.iloc[0,i+4]/country_main.iloc[0,i+4]*100)\n",
    "    \n",
    "\n",
    "        years = [x for x in range(2015,2025,1)]\n",
    "\n",
    "        figure, axes = plt.subplots()\n",
    "        axes.plot(years,pop_new)\n",
    "\n",
    "        axes.set_xlabel('Year')\n",
    "        axes.set_ylabel('Population')\n",
    "        axes.set_ylim(75)\n",
    "        axes.set_title('Percentage of natural born citizens in '+country)\n",
    "        \n",
    "        #Saving figure\n",
    "        dir_name = \"../Images/\"+country\n",
    "        try:\n",
    "            os.makedirs(dir_name)\n",
    "            # print(f\"Directory '{dir_name}' created successfully!\")\n",
    "        except FileExistsError:\n",
    "            pass\n",
    "            # print(f\"Directory '{dir_name}' already exists.\")\n",
    "        except Exception as e:\n",
    "            pass\n",
    "            # print(f\"Error creating directory: {e}\")\n",
    "\n",
    "        figure.savefig(dir_name+\"/natural_percent_\"+country.lower()+\".png\")\n",
    "        plt.close(figure)\n",
    "        # figure.savefig(\"test.png\")\n",
    "        pass\n",
    "    except:\n",
    "            print(country)\n",
    "\n",
    "# display(table.query(\"Country == 'Germany' and sex=='T'\"))\n",
    "# percent_natural_born(\"Germany\")\n",
    "\n",
    "for country in table.Country.unique():\n",
    "    percent_natural_born(country)\n"
   ],
   "outputs": [
    {
     "name": "stdout",
     "output_type": "stream",
     "text": [
      "Albania\n",
      "Armenia\n",
      "Georgia\n",
      "Moldova, Republic of\n",
      "Montenegro\n",
      "North Macedonia\n",
      "Serbia\n",
      "Ukraine\n"
     ]
    }
   ],
   "execution_count": 4
  }
 ],
 "metadata": {
  "kernelspec": {
   "display_name": "Python 3",
   "language": "python",
   "name": "python3"
  },
  "language_info": {
   "codemirror_mode": {
    "name": "ipython",
    "version": 3
   },
   "file_extension": ".py",
   "mimetype": "text/x-python",
   "name": "python",
   "nbconvert_exporter": "python",
   "pygments_lexer": "ipython3",
   "version": "3.13.2"
  }
 },
 "nbformat": 4,
 "nbformat_minor": 5
}
