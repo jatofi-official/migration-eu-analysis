{
 "cells": [
  {
   "cell_type": "code",
   "execution_count": 2,
   "id": "1a801a03",
   "metadata": {},
   "outputs": [],
   "source": [
    "import os\n",
    "import pandas as pd\n",
    "import matplotlib.pyplot as plt\n",
    "from IPython.display import Markdown\n",
    "import numpy as np\n",
    "import seaborn as sns"
   ]
  },
  {
   "cell_type": "markdown",
   "id": "70b941e3",
   "metadata": {},
   "source": [
    "#### Table"
   ]
  },
  {
   "cell_type": "code",
   "execution_count": 3,
   "id": "813dcebe",
   "metadata": {},
   "outputs": [
    {
     "data": {
      "text/html": [
       "<div>\n",
       "<style scoped>\n",
       "    .dataframe tbody tr th:only-of-type {\n",
       "        vertical-align: middle;\n",
       "    }\n",
       "\n",
       "    .dataframe tbody tr th {\n",
       "        vertical-align: top;\n",
       "    }\n",
       "\n",
       "    .dataframe thead th {\n",
       "        text-align: right;\n",
       "    }\n",
       "</style>\n",
       "<table border=\"1\" class=\"dataframe\">\n",
       "  <thead>\n",
       "    <tr style=\"text-align: right;\">\n",
       "      <th></th>\n",
       "      <th>Country</th>\n",
       "      <th>ISO3</th>\n",
       "      <th>citizen</th>\n",
       "      <th>sex</th>\n",
       "      <th>2015</th>\n",
       "      <th>2016</th>\n",
       "      <th>2017</th>\n",
       "      <th>2018</th>\n",
       "      <th>2019</th>\n",
       "      <th>2020</th>\n",
       "      <th>2021</th>\n",
       "      <th>2022</th>\n",
       "      <th>2023</th>\n",
       "      <th>2024</th>\n",
       "    </tr>\n",
       "  </thead>\n",
       "  <tbody>\n",
       "    <tr>\n",
       "      <th>0</th>\n",
       "      <td>Austria</td>\n",
       "      <td>AUT</td>\n",
       "      <td>EU28_FOR</td>\n",
       "      <td>F</td>\n",
       "      <td>288028.0</td>\n",
       "      <td>310759.0</td>\n",
       "      <td>329981.0</td>\n",
       "      <td>348012.0</td>\n",
       "      <td>365125.0</td>\n",
       "      <td>383295.0</td>\n",
       "      <td>NaN</td>\n",
       "      <td>NaN</td>\n",
       "      <td>NaN</td>\n",
       "      <td>NaN</td>\n",
       "    </tr>\n",
       "    <tr>\n",
       "      <th>1</th>\n",
       "      <td>Belgium</td>\n",
       "      <td>BEL</td>\n",
       "      <td>EU28_FOR</td>\n",
       "      <td>F</td>\n",
       "      <td>416232.0</td>\n",
       "      <td>428008.0</td>\n",
       "      <td>434889.0</td>\n",
       "      <td>440355.0</td>\n",
       "      <td>448655.0</td>\n",
       "      <td>457258.0</td>\n",
       "      <td>NaN</td>\n",
       "      <td>NaN</td>\n",
       "      <td>NaN</td>\n",
       "      <td>NaN</td>\n",
       "    </tr>\n",
       "    <tr>\n",
       "      <th>2</th>\n",
       "      <td>Switzerland</td>\n",
       "      <td>CHE</td>\n",
       "      <td>EU28_FOR</td>\n",
       "      <td>F</td>\n",
       "      <td>594052.0</td>\n",
       "      <td>610566.0</td>\n",
       "      <td>622893.0</td>\n",
       "      <td>630371.0</td>\n",
       "      <td>637330.0</td>\n",
       "      <td>645916.0</td>\n",
       "      <td>NaN</td>\n",
       "      <td>NaN</td>\n",
       "      <td>NaN</td>\n",
       "      <td>NaN</td>\n",
       "    </tr>\n",
       "    <tr>\n",
       "      <th>3</th>\n",
       "      <td>Cyprus</td>\n",
       "      <td>CYP</td>\n",
       "      <td>EU28_FOR</td>\n",
       "      <td>F</td>\n",
       "      <td>55730.0</td>\n",
       "      <td>57716.0</td>\n",
       "      <td>57673.0</td>\n",
       "      <td>59787.0</td>\n",
       "      <td>63044.0</td>\n",
       "      <td>62935.0</td>\n",
       "      <td>NaN</td>\n",
       "      <td>NaN</td>\n",
       "      <td>NaN</td>\n",
       "      <td>NaN</td>\n",
       "    </tr>\n",
       "    <tr>\n",
       "      <th>4</th>\n",
       "      <td>Czechia</td>\n",
       "      <td>CZE</td>\n",
       "      <td>EU28_FOR</td>\n",
       "      <td>F</td>\n",
       "      <td>72465.0</td>\n",
       "      <td>76736.0</td>\n",
       "      <td>81670.0</td>\n",
       "      <td>86132.0</td>\n",
       "      <td>91296.0</td>\n",
       "      <td>96186.0</td>\n",
       "      <td>NaN</td>\n",
       "      <td>NaN</td>\n",
       "      <td>NaN</td>\n",
       "      <td>NaN</td>\n",
       "    </tr>\n",
       "  </tbody>\n",
       "</table>\n",
       "</div>"
      ],
      "text/plain": [
       "       Country ISO3   citizen sex      2015      2016      2017      2018  \\\n",
       "0      Austria  AUT  EU28_FOR   F  288028.0  310759.0  329981.0  348012.0   \n",
       "1      Belgium  BEL  EU28_FOR   F  416232.0  428008.0  434889.0  440355.0   \n",
       "2  Switzerland  CHE  EU28_FOR   F  594052.0  610566.0  622893.0  630371.0   \n",
       "3       Cyprus  CYP  EU28_FOR   F   55730.0   57716.0   57673.0   59787.0   \n",
       "4      Czechia  CZE  EU28_FOR   F   72465.0   76736.0   81670.0   86132.0   \n",
       "\n",
       "       2019      2020  2021  2022  2023  2024  \n",
       "0  365125.0  383295.0   NaN   NaN   NaN   NaN  \n",
       "1  448655.0  457258.0   NaN   NaN   NaN   NaN  \n",
       "2  637330.0  645916.0   NaN   NaN   NaN   NaN  \n",
       "3   63044.0   62935.0   NaN   NaN   NaN   NaN  \n",
       "4   91296.0   96186.0   NaN   NaN   NaN   NaN  "
      ]
     },
     "metadata": {},
     "output_type": "display_data"
    }
   ],
   "source": [
    "url = \"../Data/Annual_population_eurostat(mandatory).csv\"\n",
    "table = pd.read_csv(url)\n",
    "display(table.head())\n",
    "year_offset = 4"
   ]
  },
  {
   "cell_type": "markdown",
   "id": "84dbaf96",
   "metadata": {},
   "source": [
    "### Percentage of foreign born in country"
   ]
  },
  {
   "cell_type": "code",
   "execution_count": 4,
   "id": "451ac489",
   "metadata": {},
   "outputs": [],
   "source": [
    "def percent_natural_born(country):\n",
    "    pop_new = []\n",
    "    country_main = table.query(\"Country =='\"+country+\"' and sex=='T' and citizen == 'TOTAL'\")\n",
    "    country_natural = table.query(\"Country =='\"+country+\"' and sex=='T' and citizen == 'NAT'\")\n",
    "\n",
    "    try:\n",
    "        for i in range(10):\n",
    "            pop_new.append(country_natural.iloc[0,year_offset + i]/country_main.iloc[0,year_offset + i]*100)\n",
    "\n",
    "        dataframe = pd.DataFrame({'year': range(2015,2025,1),\n",
    "                           'percentage': pop_new})\n",
    "\n",
    "        figure, axes = plt.subplots()\n",
    "        axes.plot(dataframe['year'], dataframe['percentage'])\n",
    "\n",
    "        axes.set_xlabel('Year')\n",
    "        axes.set_ylabel('Percentage')\n",
    "        \n",
    "        \n",
    "\n",
    "        y_min = 70\n",
    "        step = 5\n",
    "        \n",
    "        if min(dataframe[\"percentage\"]<y_min):\n",
    "            y_min = 50\n",
    "\n",
    "        axes.set_ylim(y_min)\n",
    "        axes.set_yticks(range(y_min,100+step,step))\n",
    "\n",
    "        axes.set_title('Percentage of natural born citizens in '+country)\n",
    "        \n",
    "        #Saving figure\n",
    "        dir_name = \"../Images/Countries/\"+country\n",
    "        try:\n",
    "            os.makedirs(dir_name)\n",
    "            # print(f\"Directory '{dir_name}' created successfully!\")\n",
    "        except FileExistsError:\n",
    "            pass\n",
    "            # print(f\"Directory '{dir_name}' already exists.\")\n",
    "        except Exception as e:\n",
    "            pass\n",
    "            # print(f\"Error creating directory: {e}\")\n",
    "        \n",
    "        figure.savefig(dir_name+\"/natural_percent_\"+country.lower()+\".png\")\n",
    "        plt.close(figure)\n",
    "        pass\n",
    "    except:\n",
    "            print(country)\n",
    "\n",
    "# display(table.query(\"Country == 'Germany' and sex=='T'\"))\n",
    "# percent_natural_born(\"Germany\")\n",
    "\n",
    "# for country in table.Country.unique():\n",
    "    # percent_natural_born(country)\n",
    "\n",
    "# percent_natural_born(\"Liechtenstein\")\n",
    "# percent_natural_born(\"Luxembourg\")\n"
   ]
  },
  {
   "cell_type": "markdown",
   "id": "62f3ca1e",
   "metadata": {},
   "source": [
    "#### Debug"
   ]
  },
  {
   "cell_type": "code",
   "execution_count": 5,
   "id": "ccf8b353",
   "metadata": {},
   "outputs": [
    {
     "data": {
      "text/html": [
       "<div>\n",
       "<style scoped>\n",
       "    .dataframe tbody tr th:only-of-type {\n",
       "        vertical-align: middle;\n",
       "    }\n",
       "\n",
       "    .dataframe tbody tr th {\n",
       "        vertical-align: top;\n",
       "    }\n",
       "\n",
       "    .dataframe thead th {\n",
       "        text-align: right;\n",
       "    }\n",
       "</style>\n",
       "<table border=\"1\" class=\"dataframe\">\n",
       "  <thead>\n",
       "    <tr style=\"text-align: right;\">\n",
       "      <th></th>\n",
       "      <th>Year</th>\n",
       "      <th>Natural_Percentage</th>\n",
       "    </tr>\n",
       "  </thead>\n",
       "  <tbody>\n",
       "    <tr>\n",
       "      <th>0</th>\n",
       "      <td>2015</td>\n",
       "      <td>54.050036</td>\n",
       "    </tr>\n",
       "    <tr>\n",
       "      <th>1</th>\n",
       "      <td>2016</td>\n",
       "      <td>53.288422</td>\n",
       "    </tr>\n",
       "    <tr>\n",
       "      <th>2</th>\n",
       "      <td>2017</td>\n",
       "      <td>52.342521</td>\n",
       "    </tr>\n",
       "    <tr>\n",
       "      <th>3</th>\n",
       "      <td>2018</td>\n",
       "      <td>52.120996</td>\n",
       "    </tr>\n",
       "    <tr>\n",
       "      <th>4</th>\n",
       "      <td>2019</td>\n",
       "      <td>52.522097</td>\n",
       "    </tr>\n",
       "    <tr>\n",
       "      <th>5</th>\n",
       "      <td>2020</td>\n",
       "      <td>52.649543</td>\n",
       "    </tr>\n",
       "    <tr>\n",
       "      <th>6</th>\n",
       "      <td>2021</td>\n",
       "      <td>52.826241</td>\n",
       "    </tr>\n",
       "    <tr>\n",
       "      <th>7</th>\n",
       "      <td>2022</td>\n",
       "      <td>52.871333</td>\n",
       "    </tr>\n",
       "    <tr>\n",
       "      <th>8</th>\n",
       "      <td>2023</td>\n",
       "      <td>52.572226</td>\n",
       "    </tr>\n",
       "    <tr>\n",
       "      <th>9</th>\n",
       "      <td>2024</td>\n",
       "      <td>52.730005</td>\n",
       "    </tr>\n",
       "  </tbody>\n",
       "</table>\n",
       "</div>"
      ],
      "text/plain": [
       "   Year  Natural_Percentage\n",
       "0  2015           54.050036\n",
       "1  2016           53.288422\n",
       "2  2017           52.342521\n",
       "3  2018           52.120996\n",
       "4  2019           52.522097\n",
       "5  2020           52.649543\n",
       "6  2021           52.826241\n",
       "7  2022           52.871333\n",
       "8  2023           52.572226\n",
       "9  2024           52.730005"
      ]
     },
     "metadata": {},
     "output_type": "display_data"
    },
    {
     "data": {
      "image/png": "[encoded data removed]",
      "text/plain": [
       "<Figure size 640x480 with 1 Axes>"
      ]
     },
     "metadata": {},
     "output_type": "display_data"
    }
   ],
   "source": [
    "# display(table.query(\"Country == 'Luxembourg'\"))\n",
    "country_main = (table.query(\"Country =='Luxembourg' and sex=='T' and citizen == 'TOTAL'\"))\n",
    "country_natural = (table.query(\"Country =='Luxembourg' and sex=='T' and citizen == 'NAT'\"))\n",
    "\n",
    "pop_new = []\n",
    "\n",
    "for i in range(10):\n",
    "    pop_new.append(country_natural.iloc[0,year_offset + i]/country_main.iloc[0,year_offset + i]*100)\n",
    "\n",
    "df = pd.DataFrame({\n",
    "    'Year': range(2015,2025,1),\n",
    "    'Natural_Percentage': pop_new\n",
    "})\n",
    "\n",
    "display(df)\n",
    "\n",
    "fig2, axes2 = plt.subplots()\n",
    "axes2.plot(df['Year'], df['Natural_Percentage'])\n",
    "pass\n",
    "\n",
    "\n"
   ]
  },
  {
   "cell_type": "markdown",
   "id": "30a02879",
   "metadata": {},
   "source": [
    "### Geography for foreign born in 2024"
   ]
  },
  {
   "cell_type": "code",
   "execution_count": 6,
   "id": "e746857e",
   "metadata": {},
   "outputs": [],
   "source": [
    "import geopandas as gpd\n",
    "import plotly.graph_objects as go\n",
    "import plotly.express as px"
   ]
  },
  {
   "cell_type": "markdown",
   "id": "40d2d841",
   "metadata": {},
   "source": [
    "#### Getting ratios of foreign born residents over the years\n",
    "- Result is rounded to 2 decimal places\n",
    "\n",
    "\n",
    "Documentation:\n",
    "- get_ratio_dataframe expects one argument: *citizenship_type*. if left **None**, it will calculate all foreigners.\n",
    "- citizenship_type can be in\n",
    "    - **EU28_FOR**: EU28 countries (2013-2020) except reporting country\n",
    "    - **NEU28_FOR**: Non-EU28 countries (2013-2020) nor reporting country\n",
    "    - **NAT**: Reporting country\n",
    "    - **STLS**: Stateless\n",
    "    - **TOTAL**: Total\n",
    "    - **UNK**: Unknown"
   ]
  },
  {
   "cell_type": "code",
   "execution_count": 7,
   "id": "cde9d17a",
   "metadata": {},
   "outputs": [],
   "source": [
    "def get_foreign_ratios(country,citizenship_type):\n",
    "    try:\n",
    "        foreign_ratios = []\n",
    "        country_main = table.query(\"Country =='\"+country+\"' and sex=='T' and citizen == 'TOTAL'\")\n",
    "        iso3 = country_main.iloc[0,1]\n",
    "\n",
    "        if citizenship_type is not None:\n",
    "            country_foreign = table.query(\"Country =='\"+country+\"' and sex=='T' and citizen == '\"+citizenship_type+\"'\")\n",
    "        \n",
    "            for i in range(10):\n",
    "                foreign_ratios.append((country_foreign.iloc[0,year_offset + i]/country_main.iloc[0,year_offset + i]*100))\n",
    "\n",
    "        #Calculate all foreign residents\n",
    "        else:\n",
    "            country_natural = table.query(\"Country =='\"+country+\"' and sex=='T' and citizen == 'NAT'\")\n",
    "            for i in range(10):\n",
    "                foreign_ratios.append((100-((country_natural.iloc[0,year_offset + i]/country_main.iloc[0,year_offset + i])*100)).round(2))\n",
    "        \n",
    "        years = [str(x+2015) for x in range(10)]\n",
    "\n",
    "        series_data = [iso3] + foreign_ratios\n",
    "        index_labels = ['ISO3'] + years\n",
    "        \n",
    "        return pd.Series(series_data, index=index_labels, name=country)\n",
    "        \n",
    "    except:\n",
    "        print(\"Error processing country: \",country)\n",
    "        return None\n",
    "    \n",
    "def get_ratio_dataframe(citizenship_type=None):\n",
    "    results = []\n",
    "\n",
    "    for country in table[\"Country\"].unique():\n",
    "        result = get_foreign_ratios(country,citizenship_type)\n",
    "        if result is not None:\n",
    "            results.append(result.to_dict())\n",
    "\n",
    "    return pd.DataFrame.from_records(results).set_index(\"ISO3\")\n"
   ]
  },
  {
   "cell_type": "markdown",
   "id": "01e01d81",
   "metadata": {},
   "source": [
    "### Setting up draw function\n",
    "#### Documentation\n",
    "- draw_choropleth accepts 4 arguments:\n",
    "    - data: data\n",
    "    - column: color of countries\n",
    "    - range = **None**: range of color, set to auto by default\n",
    "    - save_name = **None**: name of destination file, not exporting by default"
   ]
  },
  {
   "cell_type": "code",
   "execution_count": 35,
   "id": "5a10fc10",
   "metadata": {},
   "outputs": [],
   "source": [
    "def draw_choropleth(data, column,range=None,save_name=None,title=\"\"):\n",
    "  if range is not None:\n",
    "    fig = px.choropleth(\n",
    "      data, locations=data.index, color=column,\n",
    "      projection = \"azimuthal equidistant\",\n",
    "      range_color=range\n",
    "    )\n",
    "  else:\n",
    "      fig = px.choropleth(\n",
    "      data, locations=data.index, color=column,\n",
    "      projection = \"azimuthal equidistant\"\n",
    "      )\n",
    "\n",
    "  fig.update_geos(lonaxis_range= [-20, 40],lataxis_range= [30, 72])\n",
    "  fig.update_layout(height=500, margin={\"r\":0,\"t\":50,\"l\":0,\"b\":30},\n",
    "                    title={\n",
    "        'text': title,\n",
    "        'y':0.96,  # Position from top (0 to 1)\n",
    "        'x':0.5,    # Center the title\n",
    "        'xanchor': 'center',\n",
    "        'yanchor': 'top',\n",
    "        'font': dict(size=20) })\n",
    "  fig.show()\n",
    "\n",
    "  #I used Deepseek AI to write this code\n",
    "  if save_name:\n",
    "    try:\n",
    "      fig.write_image(f\"../Images/Maps/{save_name}.png\", scale=4)\n",
    "      print(f\"Successfully saved to {save_name}.png\")\n",
    "    except Exception as e:\n",
    "      print(f\"Could not save PNG: {str(e)}\")\n",
    "      print(\"Install kaleido with: pip install -U kaleido\")\n",
    "  "
   ]
  },
  {
   "cell_type": "markdown",
   "id": "432d7563",
   "metadata": {},
   "source": [
    "### Getting countries and drawing graph\n",
    "- color range is set to max 25"
   ]
  },
  {
   "cell_type": "code",
   "execution_count": 58,
   "id": "1a9e3ed2",
   "metadata": {},
   "outputs": [
    {
     "name": "stdout",
     "output_type": "stream",
     "text": [
      "Error processing country:  Albania\n",
      "Error processing country:  Armenia\n",
      "Error processing country:  Georgia\n",
      "Error processing country:  Moldova, Republic of\n",
      "Error processing country:  Montenegro\n",
      "Error processing country:  North Macedonia\n",
      "Error processing country:  Serbia\n",
      "Error processing country:  Ukraine\n"
     ]
    },
    {
     "data": {
      "application/vnd.plotly.v1+json": {
       "config": {
        "plotlyServerURL": "https://plot.ly"
       },
       "data": [
        {
         "coloraxis": "coloraxis",
         "geo": "geo",
         "hovertemplate": "ISO3=%{location}<br>2024=%{z}<extra></extra>",
         "locations": [
          "AUT",
          "BEL",
          "CHE",
          "CYP",
          "CZE",
          "DEU",
          "DNK",
          "EST",
          "ESP",
          "FIN",
          "FRA",
          "HRV",
          "HUN",
          "IRL",
          "ISL",
          "ITA",
          "LIE",
          "LTU",
          "LUX",
          "LVA",
          "MLT",
          "NLD",
          "NOR",
          "POL",
          "PRT",
          "ROU",
          "SWE",
          "SVN",
          "SVK",
          "TUR",
          "BGR"
         ],
         "name": "",
         "type": "choropleth",
         "z": {
          "bdata": "KVyPwvWoM0CPwvUoXA8sQLgehetR+DpAw/UoXI8COEDXo3A9ClchQIXrUbgeBS1AzczMzMzMJUAAAAAAAAAyQD0K16NwvSpApHA9CtejGkCamZmZmZkhQOxRuB6F6wdA9ihcj8L1BECamZmZmZkuQI/C9ShcjzBAUrgehevRIUCF61G4HiVBQNejcD0K1xJAw/UoXI+iR0AUrkfhepQrQFyPwvUoHDxAuB6F61E4IUBSuB6F69EmQOF6FK5H4fI/KVyPwvWoI0CF61G4HoXzPwAAAAAAACBApHA9CtcjI0CF61G4HoXzP3E9CtejcP0/ZmZmZmZm/j8=",
          "dtype": "f8"
         }
        }
       ],
       "layout": {
        "coloraxis": {
         "cmax": 30,
         "cmin": 0,
         "colorbar": {
          "title": {
           "text": "2024"
          }
         },
         "colorscale": [
          [
           0,
           "#0d0887"
          ],
          [
           0.1111111111111111,
           "#46039f"
          ],
          [
           0.2222222222222222,
           "#7201a8"
          ],
          [
           0.3333333333333333,
           "#9c179e"
          ],
          [
           0.4444444444444444,
           "#bd3786"
          ],
          [
           0.5555555555555556,
           "#d8576b"
          ],
          [
           0.6666666666666666,
           "#ed7953"
          ],
          [
           0.7777777777777778,
           "#fb9f3a"
          ],
          [
           0.8888888888888888,
           "#fdca26"
          ],
          [
           1,
           "#f0f921"
          ]
         ]
        },
        "geo": {
         "center": {},
         "domain": {
          "x": [
           0,
           1
          ],
          "y": [
           0,
           1
          ]
         },
         "lataxis": {
          "range": [
           30,
           72
          ]
         },
         "lonaxis": {
          "range": [
           -20,
           40
          ]
         },
         "projection": {
          "type": "azimuthal equidistant"
         }
        },
        "height": 500,
        "legend": {
         "tracegroupgap": 0
        },
        "margin": {
         "b": 30,
         "l": 0,
         "r": 0,
         "t": 50
        },
        "template": {
         "data": {
          "bar": [
           {
            "error_x": {
             "color": "#2a3f5f"
            },
            "error_y": {
             "color": "#2a3f5f"
            },
            "marker": {
             "line": {
              "color": "#E5ECF6",
              "width": 0.5
             },
             "pattern": {
              "fillmode": "overlay",
              "size": 10,
              "solidity": 0.2
             }
            },
            "type": "bar"
           }
          ],
          "barpolar": [
           {
            "marker": {
             "line": {
              "color": "#E5ECF6",
              "width": 0.5
             },
             "pattern": {
              "fillmode": "overlay",
              "size": 10,
              "solidity": 0.2
             }
            },
            "type": "barpolar"
           }
          ],
          "carpet": [
           {
            "aaxis": {
             "endlinecolor": "#2a3f5f",
             "gridcolor": "white",
             "linecolor": "white",
             "minorgridcolor": "white",
             "startlinecolor": "#2a3f5f"
            },
            "baxis": {
             "endlinecolor": "#2a3f5f",
             "gridcolor": "white",
             "linecolor": "white",
             "minorgridcolor": "white",
             "startlinecolor": "#2a3f5f"
            },
            "type": "carpet"
           }
          ],
          "choropleth": [
           {
            "colorbar": {
             "outlinewidth": 0,
             "ticks": ""
            },
            "type": "choropleth"
           }
          ],
          "contour": [
           {
            "colorbar": {
             "outlinewidth": 0,
             "ticks": ""
            },
            "colorscale": [
             [
              0,
              "#0d0887"
             ],
             [
              0.1111111111111111,
              "#46039f"
             ],
             [
              0.2222222222222222,
              "#7201a8"
             ],
             [
              0.3333333333333333,
              "#9c179e"
             ],
             [
              0.4444444444444444,
              "#bd3786"
             ],
             [
              0.5555555555555556,
              "#d8576b"
             ],
             [
              0.6666666666666666,
              "#ed7953"
             ],
             [
              0.7777777777777778,
              "#fb9f3a"
             ],
             [
              0.8888888888888888,
              "#fdca26"
             ],
             [
              1,
              "#f0f921"
             ]
            ],
            "type": "contour"
           }
          ],
          "contourcarpet": [
           {
            "colorbar": {
             "outlinewidth": 0,
             "ticks": ""
            },
            "type": "contourcarpet"
           }
          ],
          "heatmap": [
           {
            "colorbar": {
             "outlinewidth": 0,
             "ticks": ""
            },
            "colorscale": [
             [
              0,
              "#0d0887"
             ],
             [
              0.1111111111111111,
              "#46039f"
             ],
             [
              0.2222222222222222,
              "#7201a8"
             ],
             [
              0.3333333333333333,
              "#9c179e"
             ],
             [
              0.4444444444444444,
              "#bd3786"
             ],
             [
              0.5555555555555556,
              "#d8576b"
             ],
             [
              0.6666666666666666,
              "#ed7953"
             ],
             [
              0.7777777777777778,
              "#fb9f3a"
             ],
             [
              0.8888888888888888,
              "#fdca26"
             ],
             [
              1,
              "#f0f921"
             ]
            ],
            "type": "heatmap"
           }
          ],
          "histogram": [
           {
            "marker": {
             "pattern": {
              "fillmode": "overlay",
              "size": 10,
              "solidity": 0.2
             }
            },
            "type": "histogram"
           }
          ],
          "histogram2d": [
           {
            "colorbar": {
             "outlinewidth": 0,
             "ticks": ""
            },
            "colorscale": [
             [
              0,
              "#0d0887"
             ],
             [
              0.1111111111111111,
              "#46039f"
             ],
             [
              0.2222222222222222,
              "#7201a8"
             ],
             [
              0.3333333333333333,
              "#9c179e"
             ],
             [
              0.4444444444444444,
              "#bd3786"
             ],
             [
              0.5555555555555556,
              "#d8576b"
             ],
             [
              0.6666666666666666,
              "#ed7953"
             ],
             [
              0.7777777777777778,
              "#fb9f3a"
             ],
             [
              0.8888888888888888,
              "#fdca26"
             ],
             [
              1,
              "#f0f921"
             ]
            ],
            "type": "histogram2d"
           }
          ],
          "histogram2dcontour": [
           {
            "colorbar": {
             "outlinewidth": 0,
             "ticks": ""
            },
            "colorscale": [
             [
              0,
              "#0d0887"
             ],
             [
              0.1111111111111111,
              "#46039f"
             ],
             [
              0.2222222222222222,
              "#7201a8"
             ],
             [
              0.3333333333333333,
              "#9c179e"
             ],
             [
              0.4444444444444444,
              "#bd3786"
             ],
             [
              0.5555555555555556,
              "#d8576b"
             ],
             [
              0.6666666666666666,
              "#ed7953"
             ],
             [
              0.7777777777777778,
              "#fb9f3a"
             ],
             [
              0.8888888888888888,
              "#fdca26"
             ],
             [
              1,
              "#f0f921"
             ]
            ],
            "type": "histogram2dcontour"
           }
          ],
          "mesh3d": [
           {
            "colorbar": {
             "outlinewidth": 0,
             "ticks": ""
            },
            "type": "mesh3d"
           }
          ],
          "parcoords": [
           {
            "line": {
             "colorbar": {
              "outlinewidth": 0,
              "ticks": ""
             }
            },
            "type": "parcoords"
           }
          ],
          "pie": [
           {
            "automargin": true,
            "type": "pie"
           }
          ],
          "scatter": [
           {
            "fillpattern": {
             "fillmode": "overlay",
             "size": 10,
             "solidity": 0.2
            },
            "type": "scatter"
           }
          ],
          "scatter3d": [
           {
            "line": {
             "colorbar": {
              "outlinewidth": 0,
              "ticks": ""
             }
            },
            "marker": {
             "colorbar": {
              "outlinewidth": 0,
              "ticks": ""
             }
            },
            "type": "scatter3d"
           }
          ],
          "scattercarpet": [
           {
            "marker": {
             "colorbar": {
              "outlinewidth": 0,
              "ticks": ""
             }
            },
            "type": "scattercarpet"
           }
          ],
          "scattergeo": [
           {
            "marker": {
             "colorbar": {
              "outlinewidth": 0,
              "ticks": ""
             }
            },
            "type": "scattergeo"
           }
          ],
          "scattergl": [
           {
            "marker": {
             "colorbar": {
              "outlinewidth": 0,
              "ticks": ""
             }
            },
            "type": "scattergl"
           }
          ],
          "scattermap": [
           {
            "marker": {
             "colorbar": {
              "outlinewidth": 0,
              "ticks": ""
             }
            },
            "type": "scattermap"
           }
          ],
          "scattermapbox": [
           {
            "marker": {
             "colorbar": {
              "outlinewidth": 0,
              "ticks": ""
             }
            },
            "type": "scattermapbox"
           }
          ],
          "scatterpolar": [
           {
            "marker": {
             "colorbar": {
              "outlinewidth": 0,
              "ticks": ""
             }
            },
            "type": "scatterpolar"
           }
          ],
          "scatterpolargl": [
           {
            "marker": {
             "colorbar": {
              "outlinewidth": 0,
              "ticks": ""
             }
            },
            "type": "scatterpolargl"
           }
          ],
          "scatterternary": [
           {
            "marker": {
             "colorbar": {
              "outlinewidth": 0,
              "ticks": ""
             }
            },
            "type": "scatterternary"
           }
          ],
          "surface": [
           {
            "colorbar": {
             "outlinewidth": 0,
             "ticks": ""
            },
            "colorscale": [
             [
              0,
              "#0d0887"
             ],
             [
              0.1111111111111111,
              "#46039f"
             ],
             [
              0.2222222222222222,
              "#7201a8"
             ],
             [
              0.3333333333333333,
              "#9c179e"
             ],
             [
              0.4444444444444444,
              "#bd3786"
             ],
             [
              0.5555555555555556,
              "#d8576b"
             ],
             [
              0.6666666666666666,
              "#ed7953"
             ],
             [
              0.7777777777777778,
              "#fb9f3a"
             ],
             [
              0.8888888888888888,
              "#fdca26"
             ],
             [
              1,
              "#f0f921"
             ]
            ],
            "type": "surface"
           }
          ],
          "table": [
           {
            "cells": {
             "fill": {
              "color": "#EBF0F8"
             },
             "line": {
              "color": "white"
             }
            },
            "header": {
             "fill": {
              "color": "#C8D4E3"
             },
             "line": {
              "color": "white"
             }
            },
            "type": "table"
           }
          ]
         },
         "layout": {
          "annotationdefaults": {
           "arrowcolor": "#2a3f5f",
           "arrowhead": 0,
           "arrowwidth": 1
          },
          "autotypenumbers": "strict",
          "coloraxis": {
           "colorbar": {
            "outlinewidth": 0,
            "ticks": ""
           }
          },
          "colorscale": {
           "diverging": [
            [
             0,
             "#8e0152"
            ],
            [
             0.1,
             "#c51b7d"
            ],
            [
             0.2,
             "#de77ae"
            ],
            [
             0.3,
             "#f1b6da"
            ],
            [
             0.4,
             "#fde0ef"
            ],
            [
             0.5,
             "#f7f7f7"
            ],
            [
             0.6,
             "#e6f5d0"
            ],
            [
             0.7,
             "#b8e186"
            ],
            [
             0.8,
             "#7fbc41"
            ],
            [
             0.9,
             "#4d9221"
            ],
            [
             1,
             "#276419"
            ]
           ],
           "sequential": [
            [
             0,
             "#0d0887"
            ],
            [
             0.1111111111111111,
             "#46039f"
            ],
            [
             0.2222222222222222,
             "#7201a8"
            ],
            [
             0.3333333333333333,
             "#9c179e"
            ],
            [
             0.4444444444444444,
             "#bd3786"
            ],
            [
             0.5555555555555556,
             "#d8576b"
            ],
            [
             0.6666666666666666,
             "#ed7953"
            ],
            [
             0.7777777777777778,
             "#fb9f3a"
            ],
            [
             0.8888888888888888,
             "#fdca26"
            ],
            [
             1,
             "#f0f921"
            ]
           ],
           "sequentialminus": [
            [
             0,
             "#0d0887"
            ],
            [
             0.1111111111111111,
             "#46039f"
            ],
            [
             0.2222222222222222,
             "#7201a8"
            ],
            [
             0.3333333333333333,
             "#9c179e"
            ],
            [
             0.4444444444444444,
             "#bd3786"
            ],
            [
             0.5555555555555556,
             "#d8576b"
            ],
            [
             0.6666666666666666,
             "#ed7953"
            ],
            [
             0.7777777777777778,
             "#fb9f3a"
            ],
            [
             0.8888888888888888,
             "#fdca26"
            ],
            [
             1,
             "#f0f921"
            ]
           ]
          },
          "colorway": [
           "#636efa",
           "#EF553B",
           "#00cc96",
           "#ab63fa",
           "#FFA15A",
           "#19d3f3",
           "#FF6692",
           "#B6E880",
           "#FF97FF",
           "#FECB52"
          ],
          "font": {
           "color": "#2a3f5f"
          },
          "geo": {
           "bgcolor": "white",
           "lakecolor": "white",
           "landcolor": "#E5ECF6",
           "showlakes": true,
           "showland": true,
           "subunitcolor": "white"
          },
          "hoverlabel": {
           "align": "left"
          },
          "hovermode": "closest",
          "mapbox": {
           "style": "light"
          },
          "paper_bgcolor": "white",
          "plot_bgcolor": "#E5ECF6",
          "polar": {
           "angularaxis": {
            "gridcolor": "white",
            "linecolor": "white",
            "ticks": ""
           },
           "bgcolor": "#E5ECF6",
           "radialaxis": {
            "gridcolor": "white",
            "linecolor": "white",
            "ticks": ""
           }
          },
          "scene": {
           "xaxis": {
            "backgroundcolor": "#E5ECF6",
            "gridcolor": "white",
            "gridwidth": 2,
            "linecolor": "white",
            "showbackground": true,
            "ticks": "",
            "zerolinecolor": "white"
           },
           "yaxis": {
            "backgroundcolor": "#E5ECF6",
            "gridcolor": "white",
            "gridwidth": 2,
            "linecolor": "white",
            "showbackground": true,
            "ticks": "",
            "zerolinecolor": "white"
           },
           "zaxis": {
            "backgroundcolor": "#E5ECF6",
            "gridcolor": "white",
            "gridwidth": 2,
            "linecolor": "white",
            "showbackground": true,
            "ticks": "",
            "zerolinecolor": "white"
           }
          },
          "shapedefaults": {
           "line": {
            "color": "#2a3f5f"
           }
          },
          "ternary": {
           "aaxis": {
            "gridcolor": "white",
            "linecolor": "white",
            "ticks": ""
           },
           "baxis": {
            "gridcolor": "white",
            "linecolor": "white",
            "ticks": ""
           },
           "bgcolor": "#E5ECF6",
           "caxis": {
            "gridcolor": "white",
            "linecolor": "white",
            "ticks": ""
           }
          },
          "title": {
           "x": 0.05
          },
          "xaxis": {
           "automargin": true,
           "gridcolor": "white",
           "linecolor": "white",
           "ticks": "",
           "title": {
            "standoff": 15
           },
           "zerolinecolor": "white",
           "zerolinewidth": 2
          },
          "yaxis": {
           "automargin": true,
           "gridcolor": "white",
           "linecolor": "white",
           "ticks": "",
           "title": {
            "standoff": 15
           },
           "zerolinecolor": "white",
           "zerolinewidth": 2
          }
         }
        },
        "title": {
         "font": {
          "size": 20
         },
         "text": "Percentage of non citizens in 2024",
         "x": 0.5,
         "xanchor": "center",
         "y": 0.96,
         "yanchor": "top"
        }
       }
      }
     },
     "metadata": {},
     "output_type": "display_data"
    },
    {
     "name": "stdout",
     "output_type": "stream",
     "text": [
      "Successfully saved to non-citizens_2024.png\n"
     ]
    }
   ],
   "source": [
    "#Getting countries\n",
    "\n",
    "# display_countries = get_ratio_dataframe(\"EU28_FOR\")\n",
    "# year = 2020\n",
    "# title=\"Percentage of citizens born in other EU countries in \"+str(year)\n",
    "# draw_choropleth(display_countries, str(year),(0,30),\"EU_born_percentage_\"+str(year),title)\n",
    "\n",
    "# display_countries = get_ratio_dataframe(\"UNK\")\n",
    "# year = 2024\n",
    "# title=\"Percentage of unknown residents in \"+str(year)\n",
    "# draw_choropleth(display_countries, str(year),(0,0.3),\"unknown_percentage_\"+str(year),title)\n",
    "\n",
    "# display_countries = get_ratio_dataframe(\"NEU28_FOR\")\n",
    "# year = 2020\n",
    "# title=\"Percentage of citizens born in other non-EU countries in \"+str(year)\n",
    "# draw_choropleth(display_countries, str(year),(0,15),\"non-EU_born_percentage_\"+str(year),title)\n",
    "\n",
    "# display_countries = get_ratio_dataframe(\"STLS\")\n",
    "# year = 2024\n",
    "# title=\"Percentage of stateless residents in \"+str(year)\n",
    "# draw_choropleth(display_countries, str(year),(0,0.2),\"stateless_percentage_\"+str(year),title)\n",
    "\n",
    "display_countries = get_ratio_dataframe()\n",
    "year = 2024\n",
    "title=\"Percentage of non citizens in \"+str(year)\n",
    "draw_choropleth(display_countries, str(year),(0,30),\"non-citizens_\"+str(year),title)\n",
    "\n",
    "\n"
   ]
  },
  {
   "cell_type": "code",
   "execution_count": null,
   "id": "af6f09c4",
   "metadata": {},
   "outputs": [],
   "source": []
  }
 ],
 "metadata": {
  "kernelspec": {
   "display_name": "Python 3",
   "language": "python",
   "name": "python3"
  },
  "language_info": {
   "codemirror_mode": {
    "name": "ipython",
    "version": 3
   },
   "file_extension": ".py",
   "mimetype": "text/x-python",
   "name": "python",
   "nbconvert_exporter": "python",
   "pygments_lexer": "ipython3",
   "version": "3.13.2"
  }
 },
 "nbformat": 4,
 "nbformat_minor": 5
}
