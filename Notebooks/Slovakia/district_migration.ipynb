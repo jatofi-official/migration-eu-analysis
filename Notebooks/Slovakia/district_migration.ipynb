{
 "cells": [
  {
   "cell_type": "markdown",
   "id": "86b1f192",
   "metadata": {},
   "source": [
    "# District migration in Slovakia\n",
    "The aim of this notebook is to generate graphs for inter-district migration is Slovak districts"
   ]
  },
  {
   "cell_type": "code",
   "execution_count": 2,
   "id": "e5f824bf",
   "metadata": {},
   "outputs": [],
   "source": [
    "import os\n",
    "import pandas as pd\n",
    "import geopandas\n",
    "import seaborn as sns\n",
    "import matplotlib.pyplot as plt"
   ]
  },
  {
   "cell_type": "markdown",
   "id": "80c7e6e8",
   "metadata": {},
   "source": [
    "### Net migration map"
   ]
  },
  {
   "cell_type": "code",
   "execution_count": null,
   "id": "ab9315fd",
   "metadata": {},
   "outputs": [],
   "source": []
  }
 ],
 "metadata": {
  "kernelspec": {
   "display_name": ".venv",
   "language": "python",
   "name": "python3"
  },
  "language_info": {
   "codemirror_mode": {
    "name": "ipython",
    "version": 3
   },
   "file_extension": ".py",
   "mimetype": "text/x-python",
   "name": "python",
   "nbconvert_exporter": "python",
   "pygments_lexer": "ipython3",
   "version": "3.13.3"
  }
 },
 "nbformat": 4,
 "nbformat_minor": 5
}
