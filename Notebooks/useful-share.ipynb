{
 "cells": [
  {
   "cell_type": "markdown",
   "id": "d1fdc016",
   "metadata": {},
   "source": [
    "# Might be useful"
   ]
  },
  {
   "cell_type": "code",
   "execution_count": null,
   "id": "88477bd8",
   "metadata": {
    "vscode": {
     "languageId": "plaintext"
    }
   },
   "outputs": [],
   "source": [
    "columns = 2\n",
    "rows = 3\n",
    "\n",
    "figure, axes = plt.subplots(nrows=rows,ncols=columns,figsize=(9*columns,rows*5),sharey=\"row\")\n",
    "figure.suptitle(\"Government Spending by Sector (2007 vs 2017)\",fontsize=16, y=1)\n",
    "\n",
    "plt.subplots_adjust(top=0.96)\n",
    "\n",
    "def create_graph(data,sector,index,year):\n",
    "    table_edited = data.query(\"sectperf == '\"+sector+\"'\"+\" and Year ==\"+str(year))\n",
    "    # display(table_edited)\n",
    "    ax = axes[index[0]][index[1]]\n",
    "    table_edited['highlight'] = table['Country'].apply(lambda x: x == \"EU\")\n",
    "\n",
    "    \n",
    "    sns.barplot(table_edited, x=\"Country\", y=\"OBS_VALUE\", ax=ax, hue=\"highlight\",palette={True:\"red\",False:\"dodgerblue\"})\n",
    "\n",
    "    \n",
    "    ax.set_ylabel(\"Spending (% of GDP)\")\n",
    "\n",
    "    ax.set_xlabel(\"\")\n",
    "    for patch in ax.patches:\n",
    "        height = patch.get_height()\n",
    "        if height > 0:\n",
    "            ax.text(patch.get_x() + patch.get_width() / 2, height, height, ha='center', va='bottom', fontsize=10)\n",
    "    \n",
    "    ax.set_title(f\"{table_edited.iloc[0,1]} - {year}\")\n",
    "    # ax.set_xticklabels(ax.get_xticklabels(), rotation=45, ha='right')\n",
    "    ax.legend().set_visible(False)\n",
    "\n",
    "sectors = table[\"sectperf\"].unique()\n",
    "\n",
    "for i in range(rows):\n",
    "    create_graph(table,sectors[i],(i,0),2007)\n",
    "\n",
    "for i in range(rows):\n",
    "    create_graph(table,sectors[i],(i,1),2017)\n"
   ]
  }
 ],
 "metadata": {
  "language_info": {
   "name": "python"
  }
 },
 "nbformat": 4,
 "nbformat_minor": 5
}
