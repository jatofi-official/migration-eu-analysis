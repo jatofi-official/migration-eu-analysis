{
 "cells": [
  {
   "cell_type": "markdown",
   "id": "d1fdc016",
   "metadata": {},
   "source": [
    "# Might be useful"
   ]
  },
  {
   "cell_type": "markdown",
   "id": "802380a0",
   "metadata": {},
   "source": [
    "### Drawing bar graph"
   ]
  },
  {
   "cell_type": "code",
   "execution_count": null,
   "id": "88477bd8",
   "metadata": {},
   "outputs": [],
   "source": [
    "columns = 2\n",
    "rows = 3\n",
    "\n",
    "figure, axes = plt.subplots(nrows=rows,ncols=columns,figsize=(9*columns,rows*5),sharey=\"row\")\n",
    "figure.suptitle(\"Government Spending by Sector (2007 vs 2017)\",fontsize=16, y=1)\n",
    "\n",
    "plt.subplots_adjust(top=0.96)\n",
    "\n",
    "def create_graph(data,sector,index,year):\n",
    "    table_edited = data.query(\"sectperf == '\"+sector+\"'\"+\" and Year ==\"+str(year))\n",
    "    # display(table_edited)\n",
    "    ax = axes[index[0]][index[1]]\n",
    "    table_edited['highlight'] = table['Country'].apply(lambda x: x == \"EU\")\n",
    "\n",
    "    \n",
    "    sns.barplot(table_edited, x=\"Country\", y=\"OBS_VALUE\", ax=ax, hue=\"highlight\",palette={True:\"red\",False:\"dodgerblue\"})\n",
    "\n",
    "    \n",
    "    ax.set_ylabel(\"Spending (% of GDP)\")\n",
    "\n",
    "    ax.set_xlabel(\"\")\n",
    "    for patch in ax.patches:\n",
    "        height = patch.get_height()\n",
    "        if height > 0:\n",
    "            ax.text(patch.get_x() + patch.get_width() / 2, height, height, ha='center', va='bottom', fontsize=10)\n",
    "    \n",
    "    ax.set_title(f\"{table_edited.iloc[0,1]} - {year}\")\n",
    "    # ax.set_xticklabels(ax.get_xticklabels(), rotation=45, ha='right')\n",
    "    ax.legend().set_visible(False)\n",
    "\n",
    "sectors = table[\"sectperf\"].unique()\n",
    "\n",
    "for i in range(rows):\n",
    "    create_graph(table,sectors[i],(i,0),2007)\n",
    "\n",
    "for i in range(rows):\n",
    "    create_graph(table,sectors[i],(i,1),2017)\n"
   ]
  },
  {
   "cell_type": "markdown",
   "id": "717ce95e",
   "metadata": {},
   "source": [
    "#### Documentation\n",
    "- draw_choropleth accepts 4 arguments:\n",
    "    - data: data\n",
    "    - column: color of countries\n",
    "    - range = **None**: range of color, set to auto by default\n",
    "    - save_name = **None**: name of destination file, not exporting by default\n",
    "    - color_scheme = **None**: color scheme made out of color names/hex values. *Plasna* by default"
   ]
  },
  {
   "cell_type": "code",
   "execution_count": null,
   "id": "9fd80cb7",
   "metadata": {},
   "outputs": [],
   "source": [
    "from matplotlib.colors import LinearSegmentedColormap\n",
    "\n",
    "def draw_choropleth(data, column,range=None,save_name=None,title=\"\",color_scheme=None):\n",
    "  if color_scheme is None:\n",
    "    cmap = \"Plasma\"\n",
    "  else:\n",
    "    cmap = color_scheme\n",
    "    \n",
    "  if range is not None:\n",
    "    fig = px.choropleth(\n",
    "      data, locations=data.index, color=column,\n",
    "      projection = \"azimuthal equidistant\",\n",
    "      range_color=range,\n",
    "      color_continuous_scale=cmap\n",
    "    )\n",
    "  else:\n",
    "      fig = px.choropleth(\n",
    "      data, locations=data.index, color=column,\n",
    "      projection = \"azimuthal equidistant\",\n",
    "      color_continuous_scale=cmap\n",
    "      )\n",
    "\n",
    "  fig.update_geos(lonaxis_range= [-20, 40],lataxis_range= [30, 72])\n",
    "  fig.update_layout(height=500, margin={\"r\":0,\"t\":50,\"l\":0,\"b\":30},\n",
    "                    title={\n",
    "        'text': title,\n",
    "        'y':0.96,  # Position from top (0 to 1)\n",
    "        'x':0.5,    # Center the title\n",
    "        'xanchor': 'center',\n",
    "        'yanchor': 'top',\n",
    "        'font': dict(size=18) })\n",
    "  \n",
    "  \n",
    "  \n",
    "  #I used Deepseek AI to write this code\n",
    "  if save_name:\n",
    "    try:\n",
    "      fig.write_image(f\"../Images/Maps/{save_name}.png\", scale=4)\n",
    "      print(f\"Successfully saved to {save_name}.png\")\n",
    "    except Exception as e:\n",
    "      print(f\"Could not save PNG: {str(e)}\")\n",
    "      print(\"Install kaleido with: pip install -U kaleido\")\n",
    "  else:\n",
    "    fig.show()\n",
    "\n",
    "  "
   ]
  }
 ],
 "metadata": {
  "kernelspec": {
   "display_name": ".venv",
   "language": "python",
   "name": "python3"
  },
  "language_info": {
   "name": "python",
   "version": "3.13.3"
  }
 },
 "nbformat": 4,
 "nbformat_minor": 5
}
