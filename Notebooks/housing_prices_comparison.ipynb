{
 "cells": [
  {
   "cell_type": "markdown",
   "id": "f4b1643b",
   "metadata": {},
   "source": [
    "Importing libraries\n"
   ]
  },
  {
   "cell_type": "code",
   "execution_count": 38,
   "id": "d25cd4dc",
   "metadata": {},
   "outputs": [],
   "source": [
    "import pandas as pd\n",
    "import matplotlib.pyplot as plt\n",
    "from IPython.display import Markdown\n",
    "import geopandas\n",
    "import plotly.express as px\n",
    "import numpy\n",
    "import seaborn as sns"
   ]
  },
  {
   "cell_type": "markdown",
   "id": "bef802b5",
   "metadata": {},
   "source": [
    "Setting up the table"
   ]
  },
  {
   "cell_type": "code",
   "execution_count": 39,
   "id": "936e8518",
   "metadata": {},
   "outputs": [
    {
     "name": "stdout",
     "output_type": "stream",
     "text": [
      "                              purchase                       unit  \\\n",
      "0      Purchases of existing dwellings  Quarterly index, 2010=100   \n",
      "1      Purchases of existing dwellings  Quarterly index, 2010=100   \n",
      "2      Purchases of existing dwellings  Quarterly index, 2010=100   \n",
      "3      Purchases of existing dwellings  Quarterly index, 2010=100   \n",
      "4      Purchases of existing dwellings  Quarterly index, 2010=100   \n",
      "...                                ...                        ...   \n",
      "29513                            Total   Quarterly rate of change   \n",
      "29515                            Total   Quarterly rate of change   \n",
      "29516                            Total   Quarterly rate of change   \n",
      "29517                            Total   Quarterly rate of change   \n",
      "29519                            Total   Quarterly rate of change   \n",
      "\n",
      "                  geo TIME_PERIOD  OBS_VALUE OBS_FLAG CONF_STATUS  \n",
      "0             Austria     2010-Q1      96.33      NaN         NaN  \n",
      "1             Austria     2010-Q2      99.89      NaN         NaN  \n",
      "2             Austria     2010-Q3     101.64      NaN         NaN  \n",
      "3             Austria     2010-Q4     102.14      NaN         NaN  \n",
      "4             Austria     2011-Q1     101.66      NaN         NaN  \n",
      "...               ...         ...        ...      ...         ...  \n",
      "29513  United Kingdom     2019-Q1      -1.20      NaN         NaN  \n",
      "29515  United Kingdom     2019-Q3       1.70      NaN         NaN  \n",
      "29516  United Kingdom     2019-Q4      -0.40      NaN         NaN  \n",
      "29517  United Kingdom     2020-Q1       0.00      NaN         NaN  \n",
      "29519  United Kingdom     2020-Q3       3.00      NaN         NaN  \n",
      "\n",
      "[27677 rows x 7 columns]\n"
     ]
    }
   ],
   "source": [
    "table=pd.read_csv(\"../Data/housing_prices.csv\")\n",
    "table=table.drop(columns=[\"DATAFLOW\",\"LAST UPDATE\",\"freq\"])\n",
    "states=table[\"geo\"].unique()\n",
    "print(table.groupby(by=[\"geo\",\"OBS_VALUE\"]).head())"
   ]
  },
  {
   "cell_type": "code",
   "execution_count": null,
   "id": "721a4214",
   "metadata": {},
   "outputs": [],
   "source": []
  }
 ],
 "metadata": {
  "kernelspec": {
   "display_name": ".venv",
   "language": "python",
   "name": "python3"
  },
  "language_info": {
   "codemirror_mode": {
    "name": "ipython",
    "version": 3
   },
   "file_extension": ".py",
   "mimetype": "text/x-python",
   "name": "python",
   "nbconvert_exporter": "python",
   "pygments_lexer": "ipython3",
   "version": "3.12.4"
  }
 },
 "nbformat": 4,
 "nbformat_minor": 5
}
