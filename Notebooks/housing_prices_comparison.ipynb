{
 "cells": [
  {
   "cell_type": "markdown",
   "id": "f4b1643b",
   "metadata": {},
   "source": [
    "Importing libraries\n"
   ]
  },
  {
   "cell_type": "code",
   "execution_count": 84,
   "id": "d25cd4dc",
   "metadata": {},
   "outputs": [],
   "source": [
    "import pandas as pd\n",
    "import matplotlib.pyplot as plt\n",
    "from IPython.display import Markdown\n",
    "import geopandas as gpd\n",
    "import plotly.express as px\n",
    "import numpy as np\n",
    "import seaborn as sns\n",
    "from shapely.ops import transform\n",
    "import pyproj\n",
    "import plotly.graph_objects as go\n",
    "import geojson"
   ]
  },
  {
   "cell_type": "markdown",
   "id": "bef802b5",
   "metadata": {},
   "source": [
    "Setting up the table"
   ]
  },
  {
   "cell_type": "code",
   "execution_count": 89,
   "id": "936e8518",
   "metadata": {},
   "outputs": [
    {
     "name": "stdout",
     "output_type": "stream",
     "text": [
      "Index(['ISO3', 'CNTR_ID', 'Country', 'SVRG_UN', 'CAPT', 'EU_STAT', 'EFTA_STAT',\n",
      "       'CC_STAT', 'geometry'],\n",
      "      dtype='object')\n",
      "{'Austria': <POLYGON ((4742889.363 2876362.718, 4783414.299 2866479.959, 4801610.828 287...>, 'Belgium': <POLYGON ((3957506.807 3167694.49, 3965222.94 3158809.213, 3976571.151 31624...>, 'Bulgaria': <POLYGON ((5350789.405 2398521.586, 5363358.678 2390534.477, 5395257.159 240...>, 'Cyprus': <POLYGON ((6493382.995 1718688.007, 6490748.031 1706271.137, 6482779.729 169...>, 'Czechia': <POLYGON ((4645979.144 3093185.02, 4655828.51 3090281.83, 4660255.78 3095529...>, 'Germany': <MULTIPOLYGON (((4264045.794 3530123.451, 4275693.544 3522732.757, 4283725.2...>, 'Denmark': <MULTIPOLYGON (((4647850.201 3557634.614, 4644017.349 3554405.991, 4625742.2...>, 'Switzerland': <POLYGON ((4221123.49 2731035.913, 4230514.918 2729845.228, 4232488.475 2732...>, 'Finland': <MULTIPOLYGON (((5000971.593 5305047.278, 5029862.63 5283028.031, 5058050.32...>, 'France': <MULTIPOLYGON (((10022966.561 -3053183.012, 10003963.062 -3069539.539, 99767...>, 'Estonia': <MULTIPOLYGON (((5201900.345 4156747.274, 5209290.908 4151083.166, 5219228.7...>, 'Spain': <MULTIPOLYGON (((3831423.288 1892159.335, 3800354.99 1885248.776, 3781451.31...>, 'Ireland': <MULTIPOLYGON (((3248492.228 3698352.067, 3230329.814 3682748.465, 3220880.9...>, 'Croatia': <MULTIPOLYGON (((4827385.887 2618351.319, 4848359.344 2606260.093, 4850286.3...>, 'Hungary': <POLYGON ((5160110.757 2893259.993, 5174856.275 2887292.186, 5189275.628 287...>, 'Iceland': <MULTIPOLYGON (((3189259.647 5023830.379, 3194076.146 5001223.405, 3214610.1...>, 'Italy': <MULTIPOLYGON (((4484079.972 2656093.624, 4485971.367 2647004.791, 4510728.8...>, 'Netherlands': <MULTIPOLYGON (((4132555.041 3322052.124, 4125134.639 3307187.428, 4118393.6...>, 'Lithuania': <MULTIPOLYGON (((5232309.602 3797815.956, 5255849.329 3773757.769, 5285639.6...>, 'Luxembourg': <POLYGON ((4015263.05 2980089.195, 4027763.53 3007142.697, 4037218.285 30155...>, 'Latvia': <POLYGON ((5285978.628 3944431.637, 5303373.893 3939726.166, 5322669.091 395...>, 'Malta': <MULTIPOLYGON (((4729792.313 1441941.666, 4730405.095 1440315.003, 4731057.6...>, 'Poland': <POLYGON ((4922206.626 3502100.945, 4932325.569 3503305.964, 4954971.505 352...>, 'Portugal': <MULTIPOLYGON (((2822407.491 2273029.159, 2822605.507 2261163.056, 2831796.0...>, 'Romania': <POLYGON ((5604125.196 2889324.67, 5616141.553 2872864.261, 5616994.101 2872...>, 'Norway': <MULTIPOLYGON (((4898348.222 5370012.564, 4892413.773 5334029.428, 4891872.9...>, 'Sweden': <MULTIPOLYGON (((4969461.836 4802062.392, 4969925.208 4790191.137, 4965223.9...>, 'Slovenia': <POLYGON ((4786947.85 2658724.94, 4788640.346 2657416.988, 4791723.616 26577...>, 'Türkiye': <MULTIPOLYGON (((6366766.004 2448944.963, 6369456.974 2435820.262, 6369541.8...>, 'Slovakia': <POLYGON ((5019481.071 2968215.317, 5028815.352 2966762.104, 5031462.867 294...>, 'United Kingdom': <MULTIPOLYGON (((3563337.824 4012251.118, 3556883.682 3994641.172, 3555187.5...>}\n",
      "0                                Antarctica\n",
      "1                                 Argentina\n",
      "2                            American Samoa\n",
      "3                                   Andorra\n",
      "4                      United Arab Emirates\n",
      "                       ...                 \n",
      "255                            South Africa\n",
      "256                          United Kingdom\n",
      "257    United States Minor Outlying Islands\n",
      "258                                  Zambia\n",
      "259                                Zimbabwe\n",
      "Name: Country, Length: 260, dtype: object\n"
     ]
    },
    {
     "ename": "ValueError",
     "evalue": "\n    Invalid value of type 'builtins.dict_keys' received for the 'text' property of choropleth\n        Received value: dict_keys(['Austria', 'Belgium', 'Bulgaria', 'Cyprus', 'Czechia', 'Germany', 'Denmark', 'Switzerland', 'Finland', 'France', 'Estonia', 'Spain', 'Ireland', 'Croatia', 'Hungary', 'Iceland', 'Italy', 'Netherlands', 'Lithuania', 'Luxembourg', 'Latvia', 'Malta', 'Poland', 'Portugal', 'Romania', 'Norway', 'Sweden', 'Slovenia', 'Türkiye', 'Slovakia', 'United Kingdom'])\n\n    The 'text' property is a string and must be specified as:\n      - A string\n      - A number that will be converted to a string\n      - A tuple, list, or one-dimensional numpy array of the above",
     "output_type": "error",
     "traceback": [
      "\u001b[31m---------------------------------------------------------------------------\u001b[39m",
      "\u001b[31mValueError\u001b[39m                                Traceback (most recent call last)",
      "\u001b[36mCell\u001b[39m\u001b[36m \u001b[39m\u001b[32mIn[89]\u001b[39m\u001b[32m, line 18\u001b[39m\n\u001b[32m     14\u001b[39m \u001b[38;5;28;01mwith\u001b[39;00m \u001b[38;5;28mopen\u001b[39m(\u001b[33m\"\u001b[39m\u001b[33m../Data/geography/geography_processed.geojson\u001b[39m\u001b[33m\"\u001b[39m, \u001b[33m\"\u001b[39m\u001b[33mr\u001b[39m\u001b[33m\"\u001b[39m, encoding=\u001b[33m\"\u001b[39m\u001b[33mutf-8\u001b[39m\u001b[33m\"\u001b[39m) \u001b[38;5;28;01mas\u001b[39;00m f:\n\u001b[32m     15\u001b[39m     geometry = geojson.load(f)\n\u001b[32m     17\u001b[39m fig = go.Figure([\n\u001b[32m---> \u001b[39m\u001b[32m18\u001b[39m     \u001b[43mgo\u001b[49m\u001b[43m.\u001b[49m\u001b[43mChoropleth\u001b[49m\u001b[43m(\u001b[49m\n\u001b[32m     19\u001b[39m \u001b[43m        \u001b[49m\u001b[43mgeojson\u001b[49m\u001b[43m \u001b[49m\u001b[43m=\u001b[49m\u001b[43m \u001b[49m\u001b[43mgeometry\u001b[49m\u001b[43m,\u001b[49m\n\u001b[32m     20\u001b[39m \u001b[43m        \u001b[49m\u001b[43mlocations\u001b[49m\u001b[43m \u001b[49m\u001b[43m=\u001b[49m\u001b[43m \u001b[49m\u001b[38;5;28;43mlist\u001b[39;49m\u001b[43m(\u001b[49m\u001b[43mcountries_coordinates\u001b[49m\u001b[43m.\u001b[49m\u001b[43mvalues\u001b[49m\u001b[43m(\u001b[49m\u001b[43m)\u001b[49m\u001b[43m)\u001b[49m\u001b[43m,\u001b[49m\n\u001b[32m     21\u001b[39m \u001b[43m        \u001b[49m\u001b[43mtext\u001b[49m\u001b[43m \u001b[49m\u001b[43m=\u001b[49m\u001b[43mcountries_coordinates\u001b[49m\u001b[43m.\u001b[49m\u001b[43mkeys\u001b[49m\u001b[43m(\u001b[49m\u001b[43m)\u001b[49m\n\u001b[32m     22\u001b[39m \u001b[43m)\u001b[49m])\n\u001b[32m     24\u001b[39m fig.update_geos(\n\u001b[32m     25\u001b[39m     fitbounds=\u001b[33m\"\u001b[39m\u001b[33mlocations\u001b[39m\u001b[33m\"\u001b[39m,\n\u001b[32m     26\u001b[39m     resolution=\u001b[32m50\u001b[39m,\n\u001b[32m   (...)\u001b[39m\u001b[32m     29\u001b[39m     projection={\u001b[33m\"\u001b[39m\u001b[33mtype\u001b[39m\u001b[33m\"\u001b[39m: \u001b[33m\"\u001b[39m\u001b[33mmercator\u001b[39m\u001b[33m\"\u001b[39m},\n\u001b[32m     30\u001b[39m )\n\u001b[32m     31\u001b[39m fig.show()\n",
      "\u001b[36mFile \u001b[39m\u001b[32mc:\\Users\\adami\\OneDrive\\Documents\\GitHub\\migration-eu-analysis\\.venv\\Lib\\site-packages\\plotly\\graph_objs\\_choropleth.py:2308\u001b[39m, in \u001b[36mChoropleth.__init__\u001b[39m\u001b[34m(self, arg, autocolorscale, coloraxis, colorbar, colorscale, customdata, customdatasrc, featureidkey, geo, geojson, hoverinfo, hoverinfosrc, hoverlabel, hovertemplate, hovertemplatesrc, hovertext, hovertextsrc, ids, idssrc, legend, legendgroup, legendgrouptitle, legendrank, legendwidth, locationmode, locations, locationssrc, marker, meta, metasrc, name, reversescale, selected, selectedpoints, showlegend, showscale, stream, text, textsrc, uid, uirevision, unselected, visible, z, zauto, zmax, zmid, zmin, zsrc, **kwargs)\u001b[39m\n\u001b[32m   2306\u001b[39m _v = text \u001b[38;5;28;01mif\u001b[39;00m text \u001b[38;5;129;01mis\u001b[39;00m \u001b[38;5;129;01mnot\u001b[39;00m \u001b[38;5;28;01mNone\u001b[39;00m \u001b[38;5;28;01melse\u001b[39;00m _v\n\u001b[32m   2307\u001b[39m \u001b[38;5;28;01mif\u001b[39;00m _v \u001b[38;5;129;01mis\u001b[39;00m \u001b[38;5;129;01mnot\u001b[39;00m \u001b[38;5;28;01mNone\u001b[39;00m:\n\u001b[32m-> \u001b[39m\u001b[32m2308\u001b[39m     \u001b[38;5;28;43mself\u001b[39;49m\u001b[43m[\u001b[49m\u001b[33;43m\"\u001b[39;49m\u001b[33;43mtext\u001b[39;49m\u001b[33;43m\"\u001b[39;49m\u001b[43m]\u001b[49m = _v\n\u001b[32m   2309\u001b[39m _v = arg.pop(\u001b[33m\"\u001b[39m\u001b[33mtextsrc\u001b[39m\u001b[33m\"\u001b[39m, \u001b[38;5;28;01mNone\u001b[39;00m)\n\u001b[32m   2310\u001b[39m _v = textsrc \u001b[38;5;28;01mif\u001b[39;00m textsrc \u001b[38;5;129;01mis\u001b[39;00m \u001b[38;5;129;01mnot\u001b[39;00m \u001b[38;5;28;01mNone\u001b[39;00m \u001b[38;5;28;01melse\u001b[39;00m _v\n",
      "\u001b[36mFile \u001b[39m\u001b[32mc:\\Users\\adami\\OneDrive\\Documents\\GitHub\\migration-eu-analysis\\.venv\\Lib\\site-packages\\plotly\\basedatatypes.py:4860\u001b[39m, in \u001b[36mBasePlotlyType.__setitem__\u001b[39m\u001b[34m(self, prop, value)\u001b[39m\n\u001b[32m   4856\u001b[39m         \u001b[38;5;28mself\u001b[39m._set_array_prop(prop, value)\n\u001b[32m   4858\u001b[39m     \u001b[38;5;66;03m# ### Handle simple property ###\u001b[39;00m\n\u001b[32m   4859\u001b[39m     \u001b[38;5;28;01melse\u001b[39;00m:\n\u001b[32m-> \u001b[39m\u001b[32m4860\u001b[39m         \u001b[38;5;28;43mself\u001b[39;49m\u001b[43m.\u001b[49m\u001b[43m_set_prop\u001b[49m\u001b[43m(\u001b[49m\u001b[43mprop\u001b[49m\u001b[43m,\u001b[49m\u001b[43m \u001b[49m\u001b[43mvalue\u001b[49m\u001b[43m)\u001b[49m\n\u001b[32m   4861\u001b[39m \u001b[38;5;28;01melse\u001b[39;00m:\n\u001b[32m   4862\u001b[39m     \u001b[38;5;66;03m# Make sure properties dict is initialized\u001b[39;00m\n\u001b[32m   4863\u001b[39m     \u001b[38;5;28mself\u001b[39m._init_props()\n",
      "\u001b[36mFile \u001b[39m\u001b[32mc:\\Users\\adami\\OneDrive\\Documents\\GitHub\\migration-eu-analysis\\.venv\\Lib\\site-packages\\plotly\\basedatatypes.py:5204\u001b[39m, in \u001b[36mBasePlotlyType._set_prop\u001b[39m\u001b[34m(self, prop, val)\u001b[39m\n\u001b[32m   5202\u001b[39m         \u001b[38;5;28;01mreturn\u001b[39;00m\n\u001b[32m   5203\u001b[39m     \u001b[38;5;28;01melse\u001b[39;00m:\n\u001b[32m-> \u001b[39m\u001b[32m5204\u001b[39m         \u001b[38;5;28;01mraise\u001b[39;00m err\n\u001b[32m   5206\u001b[39m \u001b[38;5;66;03m# val is None\u001b[39;00m\n\u001b[32m   5207\u001b[39m \u001b[38;5;66;03m# -----------\u001b[39;00m\n\u001b[32m   5208\u001b[39m \u001b[38;5;28;01mif\u001b[39;00m val \u001b[38;5;129;01mis\u001b[39;00m \u001b[38;5;28;01mNone\u001b[39;00m:\n\u001b[32m   5209\u001b[39m     \u001b[38;5;66;03m# Check if we should send null update\u001b[39;00m\n",
      "\u001b[36mFile \u001b[39m\u001b[32mc:\\Users\\adami\\OneDrive\\Documents\\GitHub\\migration-eu-analysis\\.venv\\Lib\\site-packages\\plotly\\basedatatypes.py:5199\u001b[39m, in \u001b[36mBasePlotlyType._set_prop\u001b[39m\u001b[34m(self, prop, val)\u001b[39m\n\u001b[32m   5196\u001b[39m validator = \u001b[38;5;28mself\u001b[39m._get_validator(prop)\n\u001b[32m   5198\u001b[39m \u001b[38;5;28;01mtry\u001b[39;00m:\n\u001b[32m-> \u001b[39m\u001b[32m5199\u001b[39m     val = \u001b[43mvalidator\u001b[49m\u001b[43m.\u001b[49m\u001b[43mvalidate_coerce\u001b[49m\u001b[43m(\u001b[49m\u001b[43mval\u001b[49m\u001b[43m)\u001b[49m\n\u001b[32m   5200\u001b[39m \u001b[38;5;28;01mexcept\u001b[39;00m \u001b[38;5;167;01mValueError\u001b[39;00m \u001b[38;5;28;01mas\u001b[39;00m err:\n\u001b[32m   5201\u001b[39m     \u001b[38;5;28;01mif\u001b[39;00m \u001b[38;5;28mself\u001b[39m._skip_invalid:\n",
      "\u001b[36mFile \u001b[39m\u001b[32mc:\\Users\\adami\\OneDrive\\Documents\\GitHub\\migration-eu-analysis\\.venv\\Lib\\site-packages\\_plotly_utils\\basevalidators.py:1128\u001b[39m, in \u001b[36mStringValidator.validate_coerce\u001b[39m\u001b[34m(self, v)\u001b[39m\n\u001b[32m   1126\u001b[39m         v = \u001b[38;5;28mstr\u001b[39m(v)\n\u001b[32m   1127\u001b[39m     \u001b[38;5;28;01melse\u001b[39;00m:\n\u001b[32m-> \u001b[39m\u001b[32m1128\u001b[39m         \u001b[38;5;28;43mself\u001b[39;49m\u001b[43m.\u001b[49m\u001b[43mraise_invalid_val\u001b[49m\u001b[43m(\u001b[49m\u001b[43mv\u001b[49m\u001b[43m)\u001b[49m\n\u001b[32m   1130\u001b[39m \u001b[38;5;28;01mif\u001b[39;00m \u001b[38;5;28mself\u001b[39m.no_blank \u001b[38;5;129;01mand\u001b[39;00m \u001b[38;5;28mlen\u001b[39m(v) == \u001b[32m0\u001b[39m:\n\u001b[32m   1131\u001b[39m     \u001b[38;5;28mself\u001b[39m.raise_invalid_val(v)\n",
      "\u001b[36mFile \u001b[39m\u001b[32mc:\\Users\\adami\\OneDrive\\Documents\\GitHub\\migration-eu-analysis\\.venv\\Lib\\site-packages\\_plotly_utils\\basevalidators.py:299\u001b[39m, in \u001b[36mBaseValidator.raise_invalid_val\u001b[39m\u001b[34m(self, v, inds)\u001b[39m\n\u001b[32m    296\u001b[39m             \u001b[38;5;28;01mfor\u001b[39;00m i \u001b[38;5;129;01min\u001b[39;00m inds:\n\u001b[32m    297\u001b[39m                 name += \u001b[33m\"\u001b[39m\u001b[33m[\u001b[39m\u001b[33m\"\u001b[39m + \u001b[38;5;28mstr\u001b[39m(i) + \u001b[33m\"\u001b[39m\u001b[33m]\u001b[39m\u001b[33m\"\u001b[39m\n\u001b[32m--> \u001b[39m\u001b[32m299\u001b[39m         \u001b[38;5;28;01mraise\u001b[39;00m \u001b[38;5;167;01mValueError\u001b[39;00m(\n\u001b[32m    300\u001b[39m \u001b[38;5;250m            \u001b[39m\u001b[33;03m\"\"\"\u001b[39;00m\n\u001b[32m    301\u001b[39m \u001b[33;03m    Invalid value of type {typ} received for the '{name}' property of {pname}\u001b[39;00m\n\u001b[32m    302\u001b[39m \u001b[33;03m        Received value: {v}\u001b[39;00m\n\u001b[32m    303\u001b[39m \n\u001b[32m    304\u001b[39m \u001b[33;03m{valid_clr_desc}\"\"\"\u001b[39;00m.format(\n\u001b[32m    305\u001b[39m                 name=name,\n\u001b[32m    306\u001b[39m                 pname=\u001b[38;5;28mself\u001b[39m.parent_name,\n\u001b[32m    307\u001b[39m                 typ=type_str(v),\n\u001b[32m    308\u001b[39m                 v=\u001b[38;5;28mrepr\u001b[39m(v),\n\u001b[32m    309\u001b[39m                 valid_clr_desc=\u001b[38;5;28mself\u001b[39m.description(),\n\u001b[32m    310\u001b[39m             )\n\u001b[32m    311\u001b[39m         )\n",
      "\u001b[31mValueError\u001b[39m: \n    Invalid value of type 'builtins.dict_keys' received for the 'text' property of choropleth\n        Received value: dict_keys(['Austria', 'Belgium', 'Bulgaria', 'Cyprus', 'Czechia', 'Germany', 'Denmark', 'Switzerland', 'Finland', 'France', 'Estonia', 'Spain', 'Ireland', 'Croatia', 'Hungary', 'Iceland', 'Italy', 'Netherlands', 'Lithuania', 'Luxembourg', 'Latvia', 'Malta', 'Poland', 'Portugal', 'Romania', 'Norway', 'Sweden', 'Slovenia', 'Türkiye', 'Slovakia', 'United Kingdom'])\n\n    The 'text' property is a string and must be specified as:\n      - A string\n      - A number that will be converted to a string\n      - A tuple, list, or one-dimensional numpy array of the above"
     ]
    }
   ],
   "source": [
    "table=pd.read_csv(\"../Data/housing_prices.csv\")\n",
    "table=table.drop(columns=[\"DATAFLOW\",\"LAST UPDATE\",\"freq\"])\n",
    "states=table[\"geo\"].unique()\n",
    "#print(table.groupby(by=[\"geo\",\"OBS_VALUE\"]).head())\n",
    "countries_coordinates_json=gpd.read_file(\"../Data/geography/geography_processed.geojson\")\n",
    "#print(countries_cordinates_json.loc[:,[\"Country\",\"geometry\"]])\n",
    "print(countries_coordinates_json.columns)\n",
    "countries_coordinates={countries_coordinates_json.loc[:,\"Country\"][i]:countries_coordinates_json.loc[:,\"geometry\"][i] \n",
    "                       for i in range(len(countries_coordinates_json)) \n",
    "                       if countries_coordinates_json.loc[:,\"Country\"][i] in states }\n",
    "print(countries_coordinates)\n",
    "print(countries_coordinates_json.loc[:,\"Country\"])\n",
    "\n",
    "with open(\"../Data/geography/geography_processed.geojson\", \"r\", encoding=\"utf-8\") as f:\n",
    "    geometry = geojson.load(f)\n",
    "\n",
    "fig = go.Figure([\n",
    "    go.Choropleth(\n",
    "        geojson = geometry,\n",
    "        locations = list(countries_coordinates.values()),\n",
    "        text =countries_coordinates.keys()\n",
    ")])\n",
    "\n",
    "fig.update_geos(\n",
    "    fitbounds=\"locations\",\n",
    "    resolution=50,\n",
    "    visible=False,\n",
    "    showframe=False,\n",
    "    projection={\"type\": \"mercator\"},\n",
    ")\n",
    "fig.show()"
   ]
  },
  {
   "cell_type": "code",
   "execution_count": null,
   "id": "721a4214",
   "metadata": {},
   "outputs": [],
   "source": []
  }
 ],
 "metadata": {
  "kernelspec": {
   "display_name": ".venv",
   "language": "python",
   "name": "python3"
  },
  "language_info": {
   "codemirror_mode": {
    "name": "ipython",
    "version": 3
   },
   "file_extension": ".py",
   "mimetype": "text/x-python",
   "name": "python",
   "nbconvert_exporter": "python",
   "pygments_lexer": "ipython3",
   "version": "3.12.4"
  }
 },
 "nbformat": 4,
 "nbformat_minor": 5
}
