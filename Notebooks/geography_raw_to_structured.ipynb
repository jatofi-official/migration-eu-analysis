{
 "cells": [
  {
   "cell_type": "code",
   "execution_count": 69,
   "metadata": {},
   "outputs": [],
   "source": [
    "import pandas as pd\n",
    "import geopandas as gpd\n",
    "import plotly.graph_objects as go\n",
    "import plotly.express as px\n"
   ]
  },
  {
   "cell_type": "markdown",
   "metadata": {},
   "source": [
    "### Importing geojson"
   ]
  },
  {
   "cell_type": "code",
   "execution_count": 70,
   "metadata": {},
   "outputs": [
    {
     "data": {
      "text/html": [
       "<div>\n",
       "<style scoped>\n",
       "    .dataframe tbody tr th:only-of-type {\n",
       "        vertical-align: middle;\n",
       "    }\n",
       "\n",
       "    .dataframe tbody tr th {\n",
       "        vertical-align: top;\n",
       "    }\n",
       "\n",
       "    .dataframe thead th {\n",
       "        text-align: right;\n",
       "    }\n",
       "</style>\n",
       "<table border=\"1\" class=\"dataframe\">\n",
       "  <thead>\n",
       "    <tr style=\"text-align: right;\">\n",
       "      <th></th>\n",
       "      <th>CNTR_ID</th>\n",
       "      <th>CNTR_NAME</th>\n",
       "      <th>NAME_ENGL</th>\n",
       "      <th>NAME_FREN</th>\n",
       "      <th>ISO3_CODE</th>\n",
       "      <th>SVRG_UN</th>\n",
       "      <th>CAPT</th>\n",
       "      <th>EU_STAT</th>\n",
       "      <th>EFTA_STAT</th>\n",
       "      <th>CC_STAT</th>\n",
       "      <th>NAME_GERM</th>\n",
       "      <th>geometry</th>\n",
       "    </tr>\n",
       "  </thead>\n",
       "  <tbody>\n",
       "    <tr>\n",
       "      <th>0</th>\n",
       "      <td>AQ</td>\n",
       "      <td>Antarctica</td>\n",
       "      <td>Antarctica</td>\n",
       "      <td>Antarctique</td>\n",
       "      <td>ATA</td>\n",
       "      <td>Sovereignty unsettled</td>\n",
       "      <td>None</td>\n",
       "      <td>F</td>\n",
       "      <td>F</td>\n",
       "      <td>F</td>\n",
       "      <td>Antarktis</td>\n",
       "      <td>MULTIPOLYGON (((4652262.991 -8814961.032, 4652...</td>\n",
       "    </tr>\n",
       "    <tr>\n",
       "      <th>1</th>\n",
       "      <td>AR</td>\n",
       "      <td>Argentina</td>\n",
       "      <td>Argentina</td>\n",
       "      <td>Argentine</td>\n",
       "      <td>ARG</td>\n",
       "      <td>UN Member State</td>\n",
       "      <td>Buenos Aires</td>\n",
       "      <td>F</td>\n",
       "      <td>F</td>\n",
       "      <td>F</td>\n",
       "      <td>Argentinien</td>\n",
       "      <td>MULTIPOLYGON (((-1133821.732 -5966341.744, -11...</td>\n",
       "    </tr>\n",
       "    <tr>\n",
       "      <th>2</th>\n",
       "      <td>AS</td>\n",
       "      <td>American Samoa-Sāmoa Amelika</td>\n",
       "      <td>American Samoa</td>\n",
       "      <td>Samoa américaines</td>\n",
       "      <td>ASM</td>\n",
       "      <td>US Non-Self-Governing Territory</td>\n",
       "      <td>Pago Pago</td>\n",
       "      <td>F</td>\n",
       "      <td>F</td>\n",
       "      <td>F</td>\n",
       "      <td>Amerikanisch-Samoa</td>\n",
       "      <td>MULTIPOLYGON (((4683447.898 15138543.63, 46520...</td>\n",
       "    </tr>\n",
       "    <tr>\n",
       "      <th>3</th>\n",
       "      <td>AD</td>\n",
       "      <td>Andorra</td>\n",
       "      <td>Andorra</td>\n",
       "      <td>Andorre</td>\n",
       "      <td>AND</td>\n",
       "      <td>UN Member State</td>\n",
       "      <td>Andorra la Vella</td>\n",
       "      <td>F</td>\n",
       "      <td>F</td>\n",
       "      <td>F</td>\n",
       "      <td>Andorra</td>\n",
       "      <td>POLYGON ((3618228.674 2206417.971, 3626482.897...</td>\n",
       "    </tr>\n",
       "    <tr>\n",
       "      <th>4</th>\n",
       "      <td>AE</td>\n",
       "      <td>الإمارات العربية المتحدة</td>\n",
       "      <td>United Arab Emirates</td>\n",
       "      <td>Émirats arabes unis</td>\n",
       "      <td>ARE</td>\n",
       "      <td>UN Member State</td>\n",
       "      <td>Abu Dhabi</td>\n",
       "      <td>F</td>\n",
       "      <td>F</td>\n",
       "      <td>F</td>\n",
       "      <td>Vereinigten Arabischen Emirate</td>\n",
       "      <td>MULTIPOLYGON (((8821469.774 1645680.105, 88306...</td>\n",
       "    </tr>\n",
       "  </tbody>\n",
       "</table>\n",
       "</div>"
      ],
      "text/plain": [
       "  CNTR_ID                     CNTR_NAME             NAME_ENGL  \\\n",
       "0      AQ                    Antarctica            Antarctica   \n",
       "1      AR                     Argentina             Argentina   \n",
       "2      AS  American Samoa-Sāmoa Amelika        American Samoa   \n",
       "3      AD                       Andorra               Andorra   \n",
       "4      AE      الإمارات العربية المتحدة  United Arab Emirates   \n",
       "\n",
       "             NAME_FREN ISO3_CODE                          SVRG_UN  \\\n",
       "0          Antarctique       ATA            Sovereignty unsettled   \n",
       "1            Argentine       ARG                  UN Member State   \n",
       "2    Samoa américaines       ASM  US Non-Self-Governing Territory   \n",
       "3              Andorre       AND                  UN Member State   \n",
       "4  Émirats arabes unis       ARE                  UN Member State   \n",
       "\n",
       "               CAPT EU_STAT EFTA_STAT CC_STAT                       NAME_GERM  \\\n",
       "0              None       F         F       F                       Antarktis   \n",
       "1      Buenos Aires       F         F       F                     Argentinien   \n",
       "2         Pago Pago       F         F       F              Amerikanisch-Samoa   \n",
       "3  Andorra la Vella       F         F       F                         Andorra   \n",
       "4         Abu Dhabi       F         F       F  Vereinigten Arabischen Emirate   \n",
       "\n",
       "                                            geometry  \n",
       "0  MULTIPOLYGON (((4652262.991 -8814961.032, 4652...  \n",
       "1  MULTIPOLYGON (((-1133821.732 -5966341.744, -11...  \n",
       "2  MULTIPOLYGON (((4683447.898 15138543.63, 46520...  \n",
       "3  POLYGON ((3618228.674 2206417.971, 3626482.897...  \n",
       "4  MULTIPOLYGON (((8821469.774 1645680.105, 88306...  "
      ]
     },
     "metadata": {},
     "output_type": "display_data"
    },
    {
     "data": {
      "text/html": [
       "<div>\n",
       "<style scoped>\n",
       "    .dataframe tbody tr th:only-of-type {\n",
       "        vertical-align: middle;\n",
       "    }\n",
       "\n",
       "    .dataframe tbody tr th {\n",
       "        vertical-align: top;\n",
       "    }\n",
       "\n",
       "    .dataframe thead th {\n",
       "        text-align: right;\n",
       "    }\n",
       "</style>\n",
       "<table border=\"1\" class=\"dataframe\">\n",
       "  <thead>\n",
       "    <tr style=\"text-align: right;\">\n",
       "      <th></th>\n",
       "      <th>CNTR_ID</th>\n",
       "      <th>Country</th>\n",
       "      <th>SVRG_UN</th>\n",
       "      <th>CAPT</th>\n",
       "      <th>EU_STAT</th>\n",
       "      <th>EFTA_STAT</th>\n",
       "      <th>CC_STAT</th>\n",
       "      <th>geometry</th>\n",
       "    </tr>\n",
       "    <tr>\n",
       "      <th>ISO3</th>\n",
       "      <th></th>\n",
       "      <th></th>\n",
       "      <th></th>\n",
       "      <th></th>\n",
       "      <th></th>\n",
       "      <th></th>\n",
       "      <th></th>\n",
       "      <th></th>\n",
       "    </tr>\n",
       "  </thead>\n",
       "  <tbody>\n",
       "    <tr>\n",
       "      <th>ATA</th>\n",
       "      <td>AQ</td>\n",
       "      <td>Antarctica</td>\n",
       "      <td>Sovereignty unsettled</td>\n",
       "      <td>None</td>\n",
       "      <td>F</td>\n",
       "      <td>F</td>\n",
       "      <td>F</td>\n",
       "      <td>MULTIPOLYGON (((4652262.991 -8814961.032, 4652...</td>\n",
       "    </tr>\n",
       "    <tr>\n",
       "      <th>ARG</th>\n",
       "      <td>AR</td>\n",
       "      <td>Argentina</td>\n",
       "      <td>UN Member State</td>\n",
       "      <td>Buenos Aires</td>\n",
       "      <td>F</td>\n",
       "      <td>F</td>\n",
       "      <td>F</td>\n",
       "      <td>MULTIPOLYGON (((-1133821.732 -5966341.744, -11...</td>\n",
       "    </tr>\n",
       "    <tr>\n",
       "      <th>ASM</th>\n",
       "      <td>AS</td>\n",
       "      <td>American Samoa</td>\n",
       "      <td>US Non-Self-Governing Territory</td>\n",
       "      <td>Pago Pago</td>\n",
       "      <td>F</td>\n",
       "      <td>F</td>\n",
       "      <td>F</td>\n",
       "      <td>MULTIPOLYGON (((4683447.898 15138543.63, 46520...</td>\n",
       "    </tr>\n",
       "    <tr>\n",
       "      <th>AND</th>\n",
       "      <td>AD</td>\n",
       "      <td>Andorra</td>\n",
       "      <td>UN Member State</td>\n",
       "      <td>Andorra la Vella</td>\n",
       "      <td>F</td>\n",
       "      <td>F</td>\n",
       "      <td>F</td>\n",
       "      <td>POLYGON ((3618228.674 2206417.971, 3626482.897...</td>\n",
       "    </tr>\n",
       "    <tr>\n",
       "      <th>ARE</th>\n",
       "      <td>AE</td>\n",
       "      <td>United Arab Emirates</td>\n",
       "      <td>UN Member State</td>\n",
       "      <td>Abu Dhabi</td>\n",
       "      <td>F</td>\n",
       "      <td>F</td>\n",
       "      <td>F</td>\n",
       "      <td>MULTIPOLYGON (((8821469.774 1645680.105, 88306...</td>\n",
       "    </tr>\n",
       "  </tbody>\n",
       "</table>\n",
       "</div>"
      ],
      "text/plain": [
       "     CNTR_ID               Country                          SVRG_UN  \\\n",
       "ISO3                                                                  \n",
       "ATA       AQ            Antarctica            Sovereignty unsettled   \n",
       "ARG       AR             Argentina                  UN Member State   \n",
       "ASM       AS        American Samoa  US Non-Self-Governing Territory   \n",
       "AND       AD               Andorra                  UN Member State   \n",
       "ARE       AE  United Arab Emirates                  UN Member State   \n",
       "\n",
       "                  CAPT EU_STAT EFTA_STAT CC_STAT  \\\n",
       "ISO3                                               \n",
       "ATA               None       F         F       F   \n",
       "ARG       Buenos Aires       F         F       F   \n",
       "ASM          Pago Pago       F         F       F   \n",
       "AND   Andorra la Vella       F         F       F   \n",
       "ARE          Abu Dhabi       F         F       F   \n",
       "\n",
       "                                               geometry  \n",
       "ISO3                                                     \n",
       "ATA   MULTIPOLYGON (((4652262.991 -8814961.032, 4652...  \n",
       "ARG   MULTIPOLYGON (((-1133821.732 -5966341.744, -11...  \n",
       "ASM   MULTIPOLYGON (((4683447.898 15138543.63, 46520...  \n",
       "AND   POLYGON ((3618228.674 2206417.971, 3626482.897...  \n",
       "ARE   MULTIPOLYGON (((8821469.774 1645680.105, 88306...  "
      ]
     },
     "metadata": {},
     "output_type": "display_data"
    }
   ],
   "source": [
    "countries_raw = gpd.read_file(\"../Data/geography/geography_raw.geojson\")\n",
    "# countries = countries.set_index('ISO3)\n",
    "\n",
    "# print(countries[\"Region\"].unique())\n",
    "display(countries_raw.head())\n",
    "countries_raw.drop(columns=[\"NAME_GERM\",\"CNTR_NAME\",\"NAME_FREN\"],inplace=True)\n",
    "countries_raw.rename(columns={\"ISO3_CODE\":\"ISO3\",\"NAME_ENGL\":\"Country\"},inplace=True)\n",
    "countries_raw.set_index(\"ISO3\",inplace=True)\n",
    "\n",
    "display(countries_raw.head())\n",
    "\n",
    "save_path = \"../Data/geography/geography_processed.geojson\"\n",
    "countries_raw.to_file(\"../Data/geography/geography_processed.geojson\", driver='GeoJSON')\n"
   ]
  },
  {
   "cell_type": "code",
   "execution_count": 79,
   "metadata": {},
   "outputs": [
    {
     "data": {
      "text/html": [
       "<div>\n",
       "<style scoped>\n",
       "    .dataframe tbody tr th:only-of-type {\n",
       "        vertical-align: middle;\n",
       "    }\n",
       "\n",
       "    .dataframe tbody tr th {\n",
       "        vertical-align: top;\n",
       "    }\n",
       "\n",
       "    .dataframe thead th {\n",
       "        text-align: right;\n",
       "    }\n",
       "</style>\n",
       "<table border=\"1\" class=\"dataframe\">\n",
       "  <thead>\n",
       "    <tr style=\"text-align: right;\">\n",
       "      <th></th>\n",
       "      <th>CNTR_ID</th>\n",
       "      <th>Country</th>\n",
       "      <th>SVRG_UN</th>\n",
       "      <th>CAPT</th>\n",
       "      <th>EU_STAT</th>\n",
       "      <th>EFTA_STAT</th>\n",
       "      <th>CC_STAT</th>\n",
       "      <th>geometry</th>\n",
       "    </tr>\n",
       "    <tr>\n",
       "      <th>ISO3</th>\n",
       "      <th></th>\n",
       "      <th></th>\n",
       "      <th></th>\n",
       "      <th></th>\n",
       "      <th></th>\n",
       "      <th></th>\n",
       "      <th></th>\n",
       "      <th></th>\n",
       "    </tr>\n",
       "  </thead>\n",
       "  <tbody>\n",
       "    <tr>\n",
       "      <th>ATA</th>\n",
       "      <td>AQ</td>\n",
       "      <td>Antarctica</td>\n",
       "      <td>Sovereignty unsettled</td>\n",
       "      <td>None</td>\n",
       "      <td>F</td>\n",
       "      <td>F</td>\n",
       "      <td>F</td>\n",
       "      <td>MULTIPOLYGON (((4652262.991 -8814961.032, 4652...</td>\n",
       "    </tr>\n",
       "    <tr>\n",
       "      <th>ARG</th>\n",
       "      <td>AR</td>\n",
       "      <td>Argentina</td>\n",
       "      <td>UN Member State</td>\n",
       "      <td>Buenos Aires</td>\n",
       "      <td>F</td>\n",
       "      <td>F</td>\n",
       "      <td>F</td>\n",
       "      <td>MULTIPOLYGON (((-1133821.732 -5966341.744, -11...</td>\n",
       "    </tr>\n",
       "    <tr>\n",
       "      <th>ASM</th>\n",
       "      <td>AS</td>\n",
       "      <td>American Samoa</td>\n",
       "      <td>US Non-Self-Governing Territory</td>\n",
       "      <td>Pago Pago</td>\n",
       "      <td>F</td>\n",
       "      <td>F</td>\n",
       "      <td>F</td>\n",
       "      <td>MULTIPOLYGON (((4683447.898 15138543.63, 46520...</td>\n",
       "    </tr>\n",
       "    <tr>\n",
       "      <th>AND</th>\n",
       "      <td>AD</td>\n",
       "      <td>Andorra</td>\n",
       "      <td>UN Member State</td>\n",
       "      <td>Andorra la Vella</td>\n",
       "      <td>F</td>\n",
       "      <td>F</td>\n",
       "      <td>F</td>\n",
       "      <td>POLYGON ((3618228.674 2206417.971, 3626482.897...</td>\n",
       "    </tr>\n",
       "    <tr>\n",
       "      <th>ARE</th>\n",
       "      <td>AE</td>\n",
       "      <td>United Arab Emirates</td>\n",
       "      <td>UN Member State</td>\n",
       "      <td>Abu Dhabi</td>\n",
       "      <td>F</td>\n",
       "      <td>F</td>\n",
       "      <td>F</td>\n",
       "      <td>MULTIPOLYGON (((8821469.774 1645680.105, 88306...</td>\n",
       "    </tr>\n",
       "  </tbody>\n",
       "</table>\n",
       "</div>"
      ],
      "text/plain": [
       "     CNTR_ID               Country                          SVRG_UN  \\\n",
       "ISO3                                                                  \n",
       "ATA       AQ            Antarctica            Sovereignty unsettled   \n",
       "ARG       AR             Argentina                  UN Member State   \n",
       "ASM       AS        American Samoa  US Non-Self-Governing Territory   \n",
       "AND       AD               Andorra                  UN Member State   \n",
       "ARE       AE  United Arab Emirates                  UN Member State   \n",
       "\n",
       "                  CAPT EU_STAT EFTA_STAT CC_STAT  \\\n",
       "ISO3                                               \n",
       "ATA               None       F         F       F   \n",
       "ARG       Buenos Aires       F         F       F   \n",
       "ASM          Pago Pago       F         F       F   \n",
       "AND   Andorra la Vella       F         F       F   \n",
       "ARE          Abu Dhabi       F         F       F   \n",
       "\n",
       "                                               geometry  \n",
       "ISO3                                                     \n",
       "ATA   MULTIPOLYGON (((4652262.991 -8814961.032, 4652...  \n",
       "ARG   MULTIPOLYGON (((-1133821.732 -5966341.744, -11...  \n",
       "ASM   MULTIPOLYGON (((4683447.898 15138543.63, 46520...  \n",
       "AND   POLYGON ((3618228.674 2206417.971, 3626482.897...  \n",
       "ARE   MULTIPOLYGON (((8821469.774 1645680.105, 88306...  "
      ]
     },
     "metadata": {},
     "output_type": "display_data"
    }
   ],
   "source": [
    "countries = gpd.read_file(save_path)\n",
    "countries.set_index(\"ISO3\",inplace=True)\n",
    "display(countries.head())"
   ]
  },
  {
   "cell_type": "code",
   "execution_count": 80,
   "metadata": {},
   "outputs": [
    {
     "data": {
      "application/vnd.plotly.v1+json": {
       "config": {
        "plotlyServerURL": "https://plot.ly"
       },
       "data": [
        {
         "colorscale": [
          [
           0,
           "#636efa"
          ],
          [
           1,
           "#636efa"
          ]
         ],
         "geo": "geo",
         "hovertemplate": "<b>%{hovertext}</b><br><br>EU_STAT=F<br>ISO3=%{location}<extra></extra>",
         "hovertext": [
          "Antarctica",
          "Argentina",
          "American Samoa",
          "Andorra",
          "United Arab Emirates",
          "Afghanistan",
          "Antigua and Barbuda",
          "Anguilla",
          "Albania",
          "Armenia",
          "Angola",
          "Brazil",
          "Bahamas",
          "Bhutan",
          "Bouvet Island",
          "Botswana",
          "Belarus",
          "Belize",
          "Australia",
          "Aruba",
          "Azerbaijan",
          "Bosnia and Herzegovina",
          "Barbados",
          "Bangladesh",
          "Burkina Faso",
          "Bahrain",
          "Burundi",
          "Benin",
          "Saint Barthélemy",
          "Bermuda",
          "Brunei",
          "Bolivia",
          "Bonaire, Sint Eustatius and Saba",
          "Canada",
          "Cocos (Keeling) Islands",
          "Democratic Republic of The Congo",
          "Central African Republic",
          "China",
          "Colombia",
          "Clipperton Island",
          "Costa Rica",
          "Cuba",
          "Cape Verde",
          "Curaçao",
          "Christmas Island",
          "Djibouti",
          "Dominica",
          "Dominican Republic",
          "Algeria",
          "Congo",
          "Switzerland",
          "Côte D’Ivoire",
          "Cook Islands",
          "Chile",
          "Cameroon",
          "Fiji",
          "Falkland Islands",
          "Micronesia",
          "Faroes",
          "Gabon",
          "Grenada",
          "Georgia",
          "Guernsey",
          "Ghana",
          "Gibraltar",
          "Ecuador",
          "Egypt",
          "Western Sahara",
          "Eritrea",
          "Ethiopia",
          "Indonesia",
          "Israel",
          "Isle of Man",
          "Greenland",
          "Gambia",
          "Guinea",
          "Equatorial Guinea",
          "South Georgia and The South Sandwich Islands",
          "Guatemala",
          "Guam",
          "Guinea-Bissau",
          "Guyana",
          "Hong Kong",
          "Heard Island and Mcdonald Islands",
          "Honduras",
          "Haiti",
          "Japan",
          "Kenya",
          "Kyrgyzstan",
          "Cambodia",
          "Kiribati",
          "Comoros",
          "Saint Kitts and Nevis",
          "North Korea",
          "South Korea",
          "Kuwait",
          "Cayman Islands",
          "Kazakhstan",
          "Laos",
          "Lebanon",
          "Saint Lucia",
          "Liechtenstein",
          "India",
          "Iraq",
          "Iran",
          "Iceland",
          "Jersey",
          "Jamaica",
          "Jordan",
          "Mexico",
          "Malaysia",
          "Mozambique",
          "Namibia",
          "New Caledonia",
          "Niger",
          "Norfolk Island",
          "Nigeria",
          "Nicaragua",
          "Sri Lanka",
          "Liberia",
          "Lesotho",
          "Libya",
          "Morocco",
          "Monaco",
          "Moldova",
          "Montenegro",
          "Madagascar",
          "Marshall Islands",
          "North Macedonia",
          "Mali",
          "Myanmar/Burma",
          "Mongolia",
          "Macau",
          "Northern Mariana Islands",
          "Mauritania",
          "Montserrat",
          "Mauritius",
          "Maldives",
          "Malawi",
          "Philippines",
          "Pakistan",
          "Saint Pierre and Miquelon",
          "Pitcairn Islands",
          "Puerto Rico",
          "Palestine",
          "Palau",
          "Paraguay",
          "Qatar",
          "Serbia",
          "Norway",
          "Nepal",
          "Nauru",
          "Niue",
          "New Zealand",
          "Oman",
          "Panama",
          "Peru",
          "French Polynesia",
          "Papua New Guinea",
          "Russian Federation",
          "Rwanda",
          "Saudi Arabia",
          "Solomon Islands",
          "Seychelles",
          "Sudan",
          "Singapore",
          "Saint Helena, Ascension and Tristan Da Cunha",
          "Turkmenistan",
          "Tunisia",
          "Tonga",
          "Türkiye",
          "Trinidad and Tobago",
          "Tuvalu",
          "United Republic of Tanzania",
          "Ukraine",
          "Uganda",
          "Svalbard and Jan Mayen",
          "Sierra Leone",
          "San Marino",
          "Senegal",
          "Somalia",
          "Suriname",
          "South Sudan",
          "São Tomé and Príncipe",
          "El Salvador",
          "Sint-Maarten",
          "Syria",
          "Eswatini",
          "Turks and Caicos Islands",
          "Chad",
          "French Southern and Antarctic Lands",
          "Togo",
          "Thailand",
          "Tajikistan",
          "Tokelau",
          "Timor-Leste",
          "United States",
          "Uruguay",
          "Uzbekistan",
          "Vatican City",
          "Saint Vincent and The Grenadines",
          "Venezuela",
          "British Virgin Islands",
          "Us Virgin Islands",
          "Viet nam",
          "Vanuatu",
          "Wallis and Futuna",
          "Samoa",
          "Paracel Islands",
          "Spratly Islands",
          "Aksai Chin",
          "Arunachal Pradesh",
          "China/India",
          "Hala'Ib Triangle",
          "Ilemi Triangle",
          "Jammu Kashmir",
          "Kuril Islands",
          "No mans land",
          "Navassa Island",
          "Scarborough Reef",
          "Senkaku Islands",
          "Bassas Da India",
          "Abyei",
          "Bir Tawil (Disputed Territory)",
          "Liancourt Rock",
          "Equatorial Guinea/Gabon (disputed territory) ",
          "Chagos Islands (disputed territory)",
          "Yemen",
          "South Africa",
          "United Kingdom",
          "United States Minor Outlying Islands",
          "Zambia",
          "Zimbabwe"
         ],
         "locations": [
          "ATA",
          "ARG",
          "ASM",
          "AND",
          "ARE",
          "AFG",
          "ATG",
          "AIA",
          "ALB",
          "ARM",
          "AGO",
          "BRA",
          "BHS",
          "BTN",
          "BVT",
          "BWA",
          "BLR",
          "BLZ",
          "AUS",
          "ABW",
          "AZE",
          "BIH",
          "BRB",
          "BGD",
          "BFA",
          "BHR",
          "BDI",
          "BEN",
          "BLM",
          "BMU",
          "BRN",
          "BOL",
          "BES",
          "CAN",
          "CCK",
          "COD",
          "CAF",
          "CHN",
          "COL",
          "CPT",
          "CRI",
          "CUB",
          "CPV",
          "CUW",
          "CXR",
          "DJI",
          "DMA",
          "DOM",
          "DZA",
          "COG",
          "CHE",
          "CIV",
          "COK",
          "CHL",
          "CMR",
          "FJI",
          "FLK",
          "FSM",
          "FRO",
          "GAB",
          "GRD",
          "GEO",
          "GGY",
          "GHA",
          "GIB",
          "ECU",
          "EGY",
          "ESH",
          "ERI",
          "ETH",
          "IDN",
          "ISR",
          "IMN",
          "GRL",
          "GMB",
          "GIN",
          "GNQ",
          "SGS",
          "GTM",
          "GUM",
          "GNB",
          "GUY",
          "HKG",
          "HMD",
          "HND",
          "HTI",
          "JPN",
          "KEN",
          "KGZ",
          "KHM",
          "KIR",
          "COM",
          "KNA",
          "PRK",
          "KOR",
          "KWT",
          "CYM",
          "KAZ",
          "LAO",
          "LBN",
          "LCA",
          "LIE",
          "IND",
          "IRQ",
          "IRN",
          "ISL",
          "JEY",
          "JAM",
          "JOR",
          "MEX",
          "MYS",
          "MOZ",
          "NAM",
          "NCL",
          "NER",
          "NFK",
          "NGA",
          "NIC",
          "LKA",
          "LBR",
          "LSO",
          "LBY",
          "MAR",
          "MCO",
          "MDA",
          "MNE",
          "MDG",
          "MHL",
          "MKD",
          "MLI",
          "MMR",
          "MNG",
          "MAC",
          "MNP",
          "MRT",
          "MSR",
          "MUS",
          "MDV",
          "MWI",
          "PHL",
          "PAK",
          "SPM",
          "PCN",
          "PRI",
          "PSE",
          "PLW",
          "PRY",
          "QAT",
          "SRB",
          "NOR",
          "NPL",
          "NRU",
          "NIU",
          "NZL",
          "OMN",
          "PAN",
          "PER",
          "PYF",
          "PNG",
          "RUS",
          "RWA",
          "SAU",
          "SLB",
          "SYC",
          "SDN",
          "SGP",
          "SHN",
          "TKM",
          "TUN",
          "TON",
          "TUR",
          "TTO",
          "TUV",
          "TZA",
          "UKR",
          "UGA",
          "SJM",
          "SLE",
          "SMR",
          "SEN",
          "SOM",
          "SUR",
          "SSD",
          "STP",
          "SLV",
          "SXM",
          "SYR",
          "SWZ",
          "TCA",
          "TCD",
          "ATF",
          "TGO",
          "THA",
          "TJK",
          "TKL",
          "TLS",
          "USA",
          "URY",
          "UZB",
          "VAT",
          "VCT",
          "VEN",
          "VGB",
          "VIR",
          "VNM",
          "VUT",
          "WLF",
          "WSM",
          "XA",
          "XB",
          "XC",
          "XD",
          "XE",
          "XF",
          "XG",
          "XH",
          "XI",
          "XJL",
          "XL",
          "XM",
          "XN",
          "XO",
          "XU",
          "XV",
          "XJ",
          "XXR",
          "XXS",
          "YEM",
          "ZAF",
          "GBR",
          "UMI",
          "ZMB",
          "ZWE"
         ],
         "name": "F",
         "showlegend": true,
         "showscale": false,
         "type": "choropleth",
         "z": [
          1,
          1,
          1,
          1,
          1,
          1,
          1,
          1,
          1,
          1,
          1,
          1,
          1,
          1,
          1,
          1,
          1,
          1,
          1,
          1,
          1,
          1,
          1,
          1,
          1,
          1,
          1,
          1,
          1,
          1,
          1,
          1,
          1,
          1,
          1,
          1,
          1,
          1,
          1,
          1,
          1,
          1,
          1,
          1,
          1,
          1,
          1,
          1,
          1,
          1,
          1,
          1,
          1,
          1,
          1,
          1,
          1,
          1,
          1,
          1,
          1,
          1,
          1,
          1,
          1,
          1,
          1,
          1,
          1,
          1,
          1,
          1,
          1,
          1,
          1,
          1,
          1,
          1,
          1,
          1,
          1,
          1,
          1,
          1,
          1,
          1,
          1,
          1,
          1,
          1,
          1,
          1,
          1,
          1,
          1,
          1,
          1,
          1,
          1,
          1,
          1,
          1,
          1,
          1,
          1,
          1,
          1,
          1,
          1,
          1,
          1,
          1,
          1,
          1,
          1,
          1,
          1,
          1,
          1,
          1,
          1,
          1,
          1,
          1,
          1,
          1,
          1,
          1,
          1,
          1,
          1,
          1,
          1,
          1,
          1,
          1,
          1,
          1,
          1,
          1,
          1,
          1,
          1,
          1,
          1,
          1,
          1,
          1,
          1,
          1,
          1,
          1,
          1,
          1,
          1,
          1,
          1,
          1,
          1,
          1,
          1,
          1,
          1,
          1,
          1,
          1,
          1,
          1,
          1,
          1,
          1,
          1,
          1,
          1,
          1,
          1,
          1,
          1,
          1,
          1,
          1,
          1,
          1,
          1,
          1,
          1,
          1,
          1,
          1,
          1,
          1,
          1,
          1,
          1,
          1,
          1,
          1,
          1,
          1,
          1,
          1,
          1,
          1,
          1,
          1,
          1,
          1,
          1,
          1,
          1,
          1,
          1,
          1,
          1,
          1,
          1,
          1,
          1,
          1,
          1,
          1,
          1,
          1,
          1,
          1,
          1,
          1,
          1,
          1,
          1,
          1,
          1,
          1
         ]
        },
        {
         "colorscale": [
          [
           0,
           "#EF553B"
          ],
          [
           1,
           "#EF553B"
          ]
         ],
         "geo": "geo",
         "hovertemplate": "<b>%{hovertext}</b><br><br>EU_STAT=T<br>ISO3=%{location}<extra></extra>",
         "hovertext": [
          "Austria",
          "Belgium",
          "Bulgaria",
          "Cyprus",
          "Czechia",
          "Germany",
          "Denmark",
          "Finland",
          "France",
          "Estonia",
          "Greece",
          "Spain",
          "Ireland",
          "Croatia",
          "Hungary",
          "Italy",
          "Netherlands",
          "Lithuania",
          "Luxembourg",
          "Latvia",
          "Malta",
          "Poland",
          "Portugal",
          "Romania",
          "Sweden",
          "Slovenia",
          "Slovakia"
         ],
         "locations": [
          "AUT",
          "BEL",
          "BGR",
          "CYP",
          "CZE",
          "DEU",
          "DNK",
          "FIN",
          "FRA",
          "EST",
          "GRC",
          "ESP",
          "IRL",
          "HRV",
          "HUN",
          "ITA",
          "NLD",
          "LTU",
          "LUX",
          "LVA",
          "MLT",
          "POL",
          "PRT",
          "ROU",
          "SWE",
          "SVN",
          "SVK"
         ],
         "name": "T",
         "showlegend": true,
         "showscale": false,
         "type": "choropleth",
         "z": [
          1,
          1,
          1,
          1,
          1,
          1,
          1,
          1,
          1,
          1,
          1,
          1,
          1,
          1,
          1,
          1,
          1,
          1,
          1,
          1,
          1,
          1,
          1,
          1,
          1,
          1,
          1
         ]
        }
       ],
       "layout": {
        "geo": {
         "center": {},
         "domain": {
          "x": [
           0,
           1
          ],
          "y": [
           0,
           1
          ]
         },
         "lataxis": {
          "range": [
           30,
           75
          ]
         },
         "lonaxis": {
          "range": [
           -20,
           40
          ]
         },
         "projection": {
          "type": "azimuthal equidistant"
         }
        },
        "height": 500,
        "legend": {
         "title": {
          "text": "EU_STAT"
         },
         "tracegroupgap": 0
        },
        "margin": {
         "b": 0,
         "l": 0,
         "r": 0,
         "t": 0
        },
        "template": {
         "data": {
          "bar": [
           {
            "error_x": {
             "color": "#2a3f5f"
            },
            "error_y": {
             "color": "#2a3f5f"
            },
            "marker": {
             "line": {
              "color": "#E5ECF6",
              "width": 0.5
             },
             "pattern": {
              "fillmode": "overlay",
              "size": 10,
              "solidity": 0.2
             }
            },
            "type": "bar"
           }
          ],
          "barpolar": [
           {
            "marker": {
             "line": {
              "color": "#E5ECF6",
              "width": 0.5
             },
             "pattern": {
              "fillmode": "overlay",
              "size": 10,
              "solidity": 0.2
             }
            },
            "type": "barpolar"
           }
          ],
          "carpet": [
           {
            "aaxis": {
             "endlinecolor": "#2a3f5f",
             "gridcolor": "white",
             "linecolor": "white",
             "minorgridcolor": "white",
             "startlinecolor": "#2a3f5f"
            },
            "baxis": {
             "endlinecolor": "#2a3f5f",
             "gridcolor": "white",
             "linecolor": "white",
             "minorgridcolor": "white",
             "startlinecolor": "#2a3f5f"
            },
            "type": "carpet"
           }
          ],
          "choropleth": [
           {
            "colorbar": {
             "outlinewidth": 0,
             "ticks": ""
            },
            "type": "choropleth"
           }
          ],
          "contour": [
           {
            "colorbar": {
             "outlinewidth": 0,
             "ticks": ""
            },
            "colorscale": [
             [
              0,
              "#0d0887"
             ],
             [
              0.1111111111111111,
              "#46039f"
             ],
             [
              0.2222222222222222,
              "#7201a8"
             ],
             [
              0.3333333333333333,
              "#9c179e"
             ],
             [
              0.4444444444444444,
              "#bd3786"
             ],
             [
              0.5555555555555556,
              "#d8576b"
             ],
             [
              0.6666666666666666,
              "#ed7953"
             ],
             [
              0.7777777777777778,
              "#fb9f3a"
             ],
             [
              0.8888888888888888,
              "#fdca26"
             ],
             [
              1,
              "#f0f921"
             ]
            ],
            "type": "contour"
           }
          ],
          "contourcarpet": [
           {
            "colorbar": {
             "outlinewidth": 0,
             "ticks": ""
            },
            "type": "contourcarpet"
           }
          ],
          "heatmap": [
           {
            "colorbar": {
             "outlinewidth": 0,
             "ticks": ""
            },
            "colorscale": [
             [
              0,
              "#0d0887"
             ],
             [
              0.1111111111111111,
              "#46039f"
             ],
             [
              0.2222222222222222,
              "#7201a8"
             ],
             [
              0.3333333333333333,
              "#9c179e"
             ],
             [
              0.4444444444444444,
              "#bd3786"
             ],
             [
              0.5555555555555556,
              "#d8576b"
             ],
             [
              0.6666666666666666,
              "#ed7953"
             ],
             [
              0.7777777777777778,
              "#fb9f3a"
             ],
             [
              0.8888888888888888,
              "#fdca26"
             ],
             [
              1,
              "#f0f921"
             ]
            ],
            "type": "heatmap"
           }
          ],
          "histogram": [
           {
            "marker": {
             "pattern": {
              "fillmode": "overlay",
              "size": 10,
              "solidity": 0.2
             }
            },
            "type": "histogram"
           }
          ],
          "histogram2d": [
           {
            "colorbar": {
             "outlinewidth": 0,
             "ticks": ""
            },
            "colorscale": [
             [
              0,
              "#0d0887"
             ],
             [
              0.1111111111111111,
              "#46039f"
             ],
             [
              0.2222222222222222,
              "#7201a8"
             ],
             [
              0.3333333333333333,
              "#9c179e"
             ],
             [
              0.4444444444444444,
              "#bd3786"
             ],
             [
              0.5555555555555556,
              "#d8576b"
             ],
             [
              0.6666666666666666,
              "#ed7953"
             ],
             [
              0.7777777777777778,
              "#fb9f3a"
             ],
             [
              0.8888888888888888,
              "#fdca26"
             ],
             [
              1,
              "#f0f921"
             ]
            ],
            "type": "histogram2d"
           }
          ],
          "histogram2dcontour": [
           {
            "colorbar": {
             "outlinewidth": 0,
             "ticks": ""
            },
            "colorscale": [
             [
              0,
              "#0d0887"
             ],
             [
              0.1111111111111111,
              "#46039f"
             ],
             [
              0.2222222222222222,
              "#7201a8"
             ],
             [
              0.3333333333333333,
              "#9c179e"
             ],
             [
              0.4444444444444444,
              "#bd3786"
             ],
             [
              0.5555555555555556,
              "#d8576b"
             ],
             [
              0.6666666666666666,
              "#ed7953"
             ],
             [
              0.7777777777777778,
              "#fb9f3a"
             ],
             [
              0.8888888888888888,
              "#fdca26"
             ],
             [
              1,
              "#f0f921"
             ]
            ],
            "type": "histogram2dcontour"
           }
          ],
          "mesh3d": [
           {
            "colorbar": {
             "outlinewidth": 0,
             "ticks": ""
            },
            "type": "mesh3d"
           }
          ],
          "parcoords": [
           {
            "line": {
             "colorbar": {
              "outlinewidth": 0,
              "ticks": ""
             }
            },
            "type": "parcoords"
           }
          ],
          "pie": [
           {
            "automargin": true,
            "type": "pie"
           }
          ],
          "scatter": [
           {
            "fillpattern": {
             "fillmode": "overlay",
             "size": 10,
             "solidity": 0.2
            },
            "type": "scatter"
           }
          ],
          "scatter3d": [
           {
            "line": {
             "colorbar": {
              "outlinewidth": 0,
              "ticks": ""
             }
            },
            "marker": {
             "colorbar": {
              "outlinewidth": 0,
              "ticks": ""
             }
            },
            "type": "scatter3d"
           }
          ],
          "scattercarpet": [
           {
            "marker": {
             "colorbar": {
              "outlinewidth": 0,
              "ticks": ""
             }
            },
            "type": "scattercarpet"
           }
          ],
          "scattergeo": [
           {
            "marker": {
             "colorbar": {
              "outlinewidth": 0,
              "ticks": ""
             }
            },
            "type": "scattergeo"
           }
          ],
          "scattergl": [
           {
            "marker": {
             "colorbar": {
              "outlinewidth": 0,
              "ticks": ""
             }
            },
            "type": "scattergl"
           }
          ],
          "scattermap": [
           {
            "marker": {
             "colorbar": {
              "outlinewidth": 0,
              "ticks": ""
             }
            },
            "type": "scattermap"
           }
          ],
          "scattermapbox": [
           {
            "marker": {
             "colorbar": {
              "outlinewidth": 0,
              "ticks": ""
             }
            },
            "type": "scattermapbox"
           }
          ],
          "scatterpolar": [
           {
            "marker": {
             "colorbar": {
              "outlinewidth": 0,
              "ticks": ""
             }
            },
            "type": "scatterpolar"
           }
          ],
          "scatterpolargl": [
           {
            "marker": {
             "colorbar": {
              "outlinewidth": 0,
              "ticks": ""
             }
            },
            "type": "scatterpolargl"
           }
          ],
          "scatterternary": [
           {
            "marker": {
             "colorbar": {
              "outlinewidth": 0,
              "ticks": ""
             }
            },
            "type": "scatterternary"
           }
          ],
          "surface": [
           {
            "colorbar": {
             "outlinewidth": 0,
             "ticks": ""
            },
            "colorscale": [
             [
              0,
              "#0d0887"
             ],
             [
              0.1111111111111111,
              "#46039f"
             ],
             [
              0.2222222222222222,
              "#7201a8"
             ],
             [
              0.3333333333333333,
              "#9c179e"
             ],
             [
              0.4444444444444444,
              "#bd3786"
             ],
             [
              0.5555555555555556,
              "#d8576b"
             ],
             [
              0.6666666666666666,
              "#ed7953"
             ],
             [
              0.7777777777777778,
              "#fb9f3a"
             ],
             [
              0.8888888888888888,
              "#fdca26"
             ],
             [
              1,
              "#f0f921"
             ]
            ],
            "type": "surface"
           }
          ],
          "table": [
           {
            "cells": {
             "fill": {
              "color": "#EBF0F8"
             },
             "line": {
              "color": "white"
             }
            },
            "header": {
             "fill": {
              "color": "#C8D4E3"
             },
             "line": {
              "color": "white"
             }
            },
            "type": "table"
           }
          ]
         },
         "layout": {
          "annotationdefaults": {
           "arrowcolor": "#2a3f5f",
           "arrowhead": 0,
           "arrowwidth": 1
          },
          "autotypenumbers": "strict",
          "coloraxis": {
           "colorbar": {
            "outlinewidth": 0,
            "ticks": ""
           }
          },
          "colorscale": {
           "diverging": [
            [
             0,
             "#8e0152"
            ],
            [
             0.1,
             "#c51b7d"
            ],
            [
             0.2,
             "#de77ae"
            ],
            [
             0.3,
             "#f1b6da"
            ],
            [
             0.4,
             "#fde0ef"
            ],
            [
             0.5,
             "#f7f7f7"
            ],
            [
             0.6,
             "#e6f5d0"
            ],
            [
             0.7,
             "#b8e186"
            ],
            [
             0.8,
             "#7fbc41"
            ],
            [
             0.9,
             "#4d9221"
            ],
            [
             1,
             "#276419"
            ]
           ],
           "sequential": [
            [
             0,
             "#0d0887"
            ],
            [
             0.1111111111111111,
             "#46039f"
            ],
            [
             0.2222222222222222,
             "#7201a8"
            ],
            [
             0.3333333333333333,
             "#9c179e"
            ],
            [
             0.4444444444444444,
             "#bd3786"
            ],
            [
             0.5555555555555556,
             "#d8576b"
            ],
            [
             0.6666666666666666,
             "#ed7953"
            ],
            [
             0.7777777777777778,
             "#fb9f3a"
            ],
            [
             0.8888888888888888,
             "#fdca26"
            ],
            [
             1,
             "#f0f921"
            ]
           ],
           "sequentialminus": [
            [
             0,
             "#0d0887"
            ],
            [
             0.1111111111111111,
             "#46039f"
            ],
            [
             0.2222222222222222,
             "#7201a8"
            ],
            [
             0.3333333333333333,
             "#9c179e"
            ],
            [
             0.4444444444444444,
             "#bd3786"
            ],
            [
             0.5555555555555556,
             "#d8576b"
            ],
            [
             0.6666666666666666,
             "#ed7953"
            ],
            [
             0.7777777777777778,
             "#fb9f3a"
            ],
            [
             0.8888888888888888,
             "#fdca26"
            ],
            [
             1,
             "#f0f921"
            ]
           ]
          },
          "colorway": [
           "#636efa",
           "#EF553B",
           "#00cc96",
           "#ab63fa",
           "#FFA15A",
           "#19d3f3",
           "#FF6692",
           "#B6E880",
           "#FF97FF",
           "#FECB52"
          ],
          "font": {
           "color": "#2a3f5f"
          },
          "geo": {
           "bgcolor": "white",
           "lakecolor": "white",
           "landcolor": "#E5ECF6",
           "showlakes": true,
           "showland": true,
           "subunitcolor": "white"
          },
          "hoverlabel": {
           "align": "left"
          },
          "hovermode": "closest",
          "mapbox": {
           "style": "light"
          },
          "paper_bgcolor": "white",
          "plot_bgcolor": "#E5ECF6",
          "polar": {
           "angularaxis": {
            "gridcolor": "white",
            "linecolor": "white",
            "ticks": ""
           },
           "bgcolor": "#E5ECF6",
           "radialaxis": {
            "gridcolor": "white",
            "linecolor": "white",
            "ticks": ""
           }
          },
          "scene": {
           "xaxis": {
            "backgroundcolor": "#E5ECF6",
            "gridcolor": "white",
            "gridwidth": 2,
            "linecolor": "white",
            "showbackground": true,
            "ticks": "",
            "zerolinecolor": "white"
           },
           "yaxis": {
            "backgroundcolor": "#E5ECF6",
            "gridcolor": "white",
            "gridwidth": 2,
            "linecolor": "white",
            "showbackground": true,
            "ticks": "",
            "zerolinecolor": "white"
           },
           "zaxis": {
            "backgroundcolor": "#E5ECF6",
            "gridcolor": "white",
            "gridwidth": 2,
            "linecolor": "white",
            "showbackground": true,
            "ticks": "",
            "zerolinecolor": "white"
           }
          },
          "shapedefaults": {
           "line": {
            "color": "#2a3f5f"
           }
          },
          "ternary": {
           "aaxis": {
            "gridcolor": "white",
            "linecolor": "white",
            "ticks": ""
           },
           "baxis": {
            "gridcolor": "white",
            "linecolor": "white",
            "ticks": ""
           },
           "bgcolor": "#E5ECF6",
           "caxis": {
            "gridcolor": "white",
            "linecolor": "white",
            "ticks": ""
           }
          },
          "title": {
           "x": 0.05
          },
          "xaxis": {
           "automargin": true,
           "gridcolor": "white",
           "linecolor": "white",
           "ticks": "",
           "title": {
            "standoff": 15
           },
           "zerolinecolor": "white",
           "zerolinewidth": 2
          },
          "yaxis": {
           "automargin": true,
           "gridcolor": "white",
           "linecolor": "white",
           "ticks": "",
           "title": {
            "standoff": 15
           },
           "zerolinecolor": "white",
           "zerolinewidth": 2
          }
         }
        }
       }
      }
     },
     "metadata": {},
     "output_type": "display_data"
    }
   ],
   "source": [
    "\n",
    "def draw_choropleth(data, column):\n",
    "  fig = px.choropleth(\n",
    "    data, locations=data.index, color=column,\n",
    "    hover_name=\"Country\",\n",
    "    projection = \"azimuthal equidistant\")\n",
    "  fig.update_geos(\n",
    "    lonaxis_range= [-20, 40],\n",
    "    lataxis_range= [30, 75]\n",
    ")\n",
    "  fig.update_layout(height=500, margin={\"r\":0,\"t\":0,\"l\":0,\"b\":0})\n",
    "  fig.show()\n",
    "\n",
    "draw_choropleth(countries, 'EU_STAT')"
   ]
  }
 ],
 "metadata": {
  "kernelspec": {
   "display_name": "Python 3",
   "language": "python",
   "name": "python3"
  },
  "language_info": {
   "codemirror_mode": {
    "name": "ipython",
    "version": 3
   },
   "file_extension": ".py",
   "mimetype": "text/x-python",
   "name": "python",
   "nbconvert_exporter": "python",
   "pygments_lexer": "ipython3",
   "version": "3.13.2"
  }
 },
 "nbformat": 4,
 "nbformat_minor": 2
}
